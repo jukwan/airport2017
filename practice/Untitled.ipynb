{
 "cells": [
  {
   "cell_type": "code",
   "execution_count": 1,
   "metadata": {
    "collapsed": true
   },
   "outputs": [],
   "source": [
    "import numpy as np\n",
    "import pandas as pd\n",
    "years= ['2014']\n",
    "years=['2015']\n",
    "\n",
    "# years=['2014','2015']\n",
    "months =['4','5','6','7','8','9','10','11','12']\n",
    "months =['1','2','3']\n",
    "path ='F:\\\\Dropbox\\\\Flight\\\\Data\\\\'\n",
    "year='2015'\n",
    "month='3'\n",
    "# need to looping.\n",
    "# select big airport\n",
    "# data have 304 airport.\n",
    "# further analysis."
   ]
  },
  {
   "cell_type": "code",
   "execution_count": 9,
   "metadata": {
    "collapsed": false
   },
   "outputs": [
    {
     "name": "stderr",
     "output_type": "stream",
     "text": [
      "C:\\Users\\Jukwan\\Anaconda3\\lib\\site-packages\\IPython\\core\\interactiveshell.py:2717: DtypeWarning: Columns (48,77,84) have mixed types. Specify dtype option on import or set low_memory=False.\n",
      "  interactivity=interactivity, compiler=compiler, result=result)\n"
     ]
    }
   ],
   "source": [
    "filename= path+ '\\\\Data_ontime\\\\On_Time_On_Time_Performance_'+year+'_'+month+'.csv'\n",
    "df= pd.read_csv(filename)"
   ]
  },
  {
   "cell_type": "code",
   "execution_count": 10,
   "metadata": {
    "collapsed": false
   },
   "outputs": [],
   "source": [
    "keyval=['Year', 'Quarter', 'Month', 'DayofMonth', 'DayOfWeek', 'FlightDate',\n",
    "           'UniqueCarrier', 'AirlineID', 'Carrier', 'TailNum',\n",
    "            'FlightNum', 'Origin', 'OriginCityName', 'OriginState', 'OriginStateFips',\n",
    "            'Dest', 'DestCityName', 'DestState', 'DestStateFips', \n",
    "            'CRSDepTime', 'DepTime', 'DepDelay', 'DepDelayMinutes', 'DepDel15',\n",
    "            'DepartureDelayGroups', 'DepTimeBlk',\n",
    "            'TaxiOut', 'WheelsOff', 'WheelsOn', 'TaxiIn',\n",
    "            'CRSArrTime', 'ArrTime', 'ArrDelay', 'ArrDelayMinutes', 'ArrDel15',\n",
    "            'ArrivalDelayGroups', 'ArrTimeBlk', 'Cancelled', 'CancellationCode',\n",
    "            'Diverted', 'CRSElapsedTime', 'ActualElapsedTime', \n",
    "            'AirTime', 'Flights', 'Distance', 'DistanceGroup',\n",
    "            'CarrierDelay', 'WeatherDelay', 'NASDelay', 'SecurityDelay', 'LateAircraftDelay',\n",
    "            'FirstDepTime', 'TotalAddGTime', 'LongestAddGTime', 'DivAirportLandings',\n",
    "            'DivReachedDest','DivActualElapsedTime', 'DivArrDelay', 'DivDistance',\n",
    "            'Div1Airport', 'Div1AirportID', 'Div1AirportSeqID', 'Div1WheelsOn']"
   ]
  },
  {
   "cell_type": "code",
   "execution_count": 11,
   "metadata": {
    "collapsed": false
   },
   "outputs": [
    {
     "name": "stdout",
     "output_type": "stream",
     "text": [
      "0    2015-03-01\n",
      "1    2015-03-02\n",
      "Name: FlightDate, dtype: object\n",
      "2100    1794\n",
      "1820    1702\n",
      "2000    1574\n",
      "1630    1570\n",
      "1300    1524\n",
      "2105    1511\n",
      "1905    1493\n",
      "1925    1487\n",
      "1650    1481\n",
      "0950    1472\n",
      "1655    1471\n",
      "1645    1471\n",
      "1210    1464\n",
      "1130    1442\n",
      "1910    1441\n",
      "2115    1439\n",
      "1230    1434\n",
      "1120    1426\n",
      "1805    1424\n",
      "1620    1410\n",
      "1030    1403\n",
      "1430    1398\n",
      "1450    1377\n",
      "0920    1376\n",
      "0945    1376\n",
      "0930    1372\n",
      "0935    1371\n",
      "1200    1370\n",
      "1530    1364\n",
      "1500    1361\n",
      "        ... \n",
      "0359       3\n",
      "0339       3\n",
      "0353       3\n",
      "0116       3\n",
      "0133       3\n",
      "0222       3\n",
      "0230       3\n",
      "0118       3\n",
      "0458       2\n",
      "0124       2\n",
      "0420       2\n",
      "0450       2\n",
      "0132       2\n",
      "0153       1\n",
      "0404       1\n",
      "0447       1\n",
      "0233       1\n",
      "0000       1\n",
      "0247       1\n",
      "0214       1\n",
      "0428       1\n",
      "0351       1\n",
      "0244       1\n",
      "0112       1\n",
      "0217       1\n",
      "0315       1\n",
      "0259       1\n",
      "0357       1\n",
      "0308       1\n",
      "0302       1\n",
      "Name: sa_time, dtype: int64\n"
     ]
    }
   ],
   "source": [
    "df = df[keyval]\n",
    "df['key']= range(1,(len(df)+1),1) \n",
    "print(df['FlightDate'].head(2))\n",
    "df['sd_time'] = df['CRSDepTime'].map(\"{:04}\".format)\n",
    "df['sa_time'] = df['CRSArrTime'].map(\"{:04}\".format)\n",
    "df['sa_time'] = df['sa_time'].str.replace('2400','0000')\n",
    "times = pd.to_datetime(df['sd_time'],format= '%H%M').dt.hour\n",
    "# mins= pd.to_datetime(df['sd_time'],format= '%H%M' ).dt.minute\n",
    "# # Convert exact time format.\n",
    "# df['S_Dep_time'] = pd.DataFrame({'time': pd.to_datetime(df['FlightDate'])+pd.to_timedelta(times,unit='h')+pd.to_timedelta(mins,unit='m')})\n",
    "\n",
    "print((df['sa_time'].value_counts()))\n",
    "# time = pd.to_datetime(df['sa_time'],format= '%H%M').dt.hour\n",
    "# # min= pd.to_datetime(df['sa_time'],format= '%H%M' ).dt.minute\n",
    "# # # Convert exact time format.\n",
    "# # df['S_Arr_time'] = pd.DataFrame({'time': pd.to_datetime(df['FlightDate'])+pd.to_timedelta(times,unit='h')+pd.to_timedelta(mins,unit='m')})\n"
   ]
  },
  {
   "cell_type": "code",
   "execution_count": null,
   "metadata": {
    "collapsed": true
   },
   "outputs": [],
   "source": [
    "def call_airport(path,year,month):\n",
    "    filename= path+ '\\\\Data_ontime\\\\On_Time_On_Time_Performance_'+year+'_'+month+'.csv'\n",
    "    df= pd.read_csv(filename)\n",
    "#     print(df.head())\n",
    "    # Find all unique airports\n",
    "    all_airports, airport_inverse, airport_count = np.unique(df['Origin'],return_counts=True,return_inverse=True)\n",
    "    # print(all_airports)\n",
    "    # print(len(all_airports))\n",
    "    Nflights_orig = np.zeros(len(airport_inverse))\n",
    "    for i in range(len(all_airports)):\n",
    "        Nflights_orig[np.where(airport_inverse==i)] = airport_count[i]\n",
    "    # print(Nflights_orig)\n",
    "    # df = df.loc[df.index[Nflights_orig>=500]]\n",
    "    keyval=['Year', 'Quarter', 'Month', 'DayofMonth', 'DayOfWeek', 'FlightDate',\n",
    "           'UniqueCarrier', 'AirlineID', 'Carrier', 'TailNum',\n",
    "            'FlightNum', 'Origin', 'OriginCityName', 'OriginState', 'OriginStateFips',\n",
    "            'Dest', 'DestCityName', 'DestState', 'DestStateFips', \n",
    "            'CRSDepTime', 'DepTime', 'DepDelay', 'DepDelayMinutes', 'DepDel15',\n",
    "            'DepartureDelayGroups', 'DepTimeBlk',\n",
    "            'TaxiOut', 'WheelsOff', 'WheelsOn', 'TaxiIn',\n",
    "            'CRSArrTime', 'ArrTime', 'ArrDelay', 'ArrDelayMinutes', 'ArrDel15',\n",
    "            'ArrivalDelayGroups', 'ArrTimeBlk', 'Cancelled', 'CancellationCode',\n",
    "            'Diverted', 'CRSElapsedTime', 'ActualElapsedTime', \n",
    "            'AirTime', 'Flights', 'Distance', 'DistanceGroup',\n",
    "            'CarrierDelay', 'WeatherDelay', 'NASDelay', 'SecurityDelay', 'LateAircraftDelay',\n",
    "            'FirstDepTime', 'TotalAddGTime', 'LongestAddGTime', 'DivAirportLandings',\n",
    "            'DivReachedDest','DivActualElapsedTime', 'DivArrDelay', 'DivDistance',\n",
    "            'Div1Airport', 'Div1AirportID', 'Div1AirportSeqID', 'Div1WheelsOn']\n",
    "    \n",
    "    df = df[keyval]\n",
    "    df['key']= range(1,(len(df)+1),1) \n",
    "    print(df['FlightDate'].head(2))\n",
    "#     print(df['CRSDepTime'].tail())\n",
    "    # data look like 1 means 00:01 need to change format.\n",
    "     #map({:04}.format) specifies convert the input digit in 4 chars by prefixing '0'.\n",
    "    df['sd_time'] = df['CRSDepTime'].map(\"{:04}\".format)\n",
    "    df['sa_time'] = df['CRSArrTime'].map(\"{:04}\".format)\n",
    "    # split the hours and minuate\n",
    "    # For departure\n",
    "    times = pd.to_datetime(df['sd_time'],format= '%H%M').dt.hour\n",
    "    mins= pd.to_datetime(df['sd_time'],format= '%H%M' ).dt.minute\n",
    "    # Convert exact time format.\n",
    "    df['S_Dep_time'] = pd.DataFrame({'time': pd.to_datetime(df['FlightDate'])+pd.to_timedelta(times,unit='h')+pd.to_timedelta(mins,unit='m')})\n",
    "\n",
    "#     print(df['S_Dep_time'].head())\n",
    "    \n",
    "    # For Arrival \n",
    "    times = pd.to_datetime(df['sa_time'],format= '%H%M').dt.hour\n",
    "    mins= pd.to_datetime(df['sa_time'],format= '%H%M' ).dt.minute\n",
    "    # Convert exact time format.\n",
    "    df['S_Arr_time'] = pd.DataFrame({'time': pd.to_datetime(df['FlightDate'])+pd.to_timedelta(times,unit='h')+pd.to_timedelta(mins,unit='m')})\n",
    "\n",
    "#     print(df['S_Arr_time'].head())\n",
    "    # Since wban_code is dictionary when put key like wban_code['DCA'] then it \n",
    "    # give the coresponding value.\n",
    "\n",
    "    df['Dep_wban']=df['Origin'].map(wban_code)\n",
    "    df['Arr_wban'] = df['Dest'].map(wban_code)\n",
    "    return(df)\n",
    "    # ori_wban=origin_wban.tolist()\n",
    "    # df['origin_wban'].unique()\n",
    "    # airports_dep = df['Origin'].unique()\n",
    "    # for i in airports_dep:\n",
    "    #     print(i)"
   ]
  },
  {
   "cell_type": "code",
   "execution_count": null,
   "metadata": {
    "collapsed": true
   },
   "outputs": [],
   "source": []
  }
 ],
 "metadata": {
  "kernelspec": {
   "display_name": "Python 3",
   "language": "python",
   "name": "python3"
  },
  "language_info": {
   "codemirror_mode": {
    "name": "ipython",
    "version": 3
   },
   "file_extension": ".py",
   "mimetype": "text/x-python",
   "name": "python",
   "nbconvert_exporter": "python",
   "pygments_lexer": "ipython3",
   "version": "3.6.0"
  }
 },
 "nbformat": 4,
 "nbformat_minor": 2
}
