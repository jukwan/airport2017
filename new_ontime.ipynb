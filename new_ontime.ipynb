{
 "cells": [
  {
   "cell_type": "markdown",
   "metadata": {},
   "source": [
    "# Merge Airport and Weather Data\n",
    "    domestic ontime performance data. \n",
    "    NOAA hourly time data.\n",
    "    merge based on the airport code and closest weather observation time point.\n",
    "    "
   ]
  },
  {
   "cell_type": "code",
   "execution_count": 35,
   "metadata": {
    "collapsed": true
   },
   "outputs": [],
   "source": [
    "import numpy as np\n",
    "import pandas as pd"
   ]
  },
  {
   "cell_type": "code",
   "execution_count": 36,
   "metadata": {
    "collapsed": true
   },
   "outputs": [],
   "source": [
    "wban_code = {} # wban= weather station code"
   ]
  },
  {
   "cell_type": "code",
   "execution_count": 53,
   "metadata": {
    "collapsed": false
   },
   "outputs": [],
   "source": [
    "years=['2015']\n",
    "months =['4','5','6','7','8','9','10','11','12','1', '2','3']\n",
    "# months =['1','2']\n",
    "path ='F:\\\\Dropbox\\\\Flight\\\\Data\\\\'\n",
    "# need to looping.\n",
    "# select big airport\n",
    "# data have 304 airport.\n",
    "# further analysis."
   ]
  },
  {
   "cell_type": "markdown",
   "metadata": {},
   "source": [
    "## 1. Make WBAN map code \n",
    "    dictionary: wban_code= {airport:code}"
   ]
  },
  {
   "cell_type": "code",
   "execution_count": 38,
   "metadata": {
    "collapsed": false
   },
   "outputs": [],
   "source": [
    "# read the station code file to create the wban map\n",
    "def WBANmap(path, year):\n",
    "    wban_code={}\n",
    "    \n",
    "    for i in range(1,13):\n",
    "        mon= str(i)\n",
    "        if(i < 10):\n",
    "            mon = '0' + mon\n",
    "        mapfile_name =path+'Weather\\\\'+year +mon+'station.txt'\n",
    "\n",
    "        try:        \n",
    "            map_file = open(mapfile_name) #open file\n",
    "            print(mapfile_name)\n",
    "        except FileNotFoundError:\n",
    "\n",
    "            continue\n",
    "\n",
    "        lines = map_file.readlines()\n",
    "        for i in range(1, len(lines)):\n",
    "\n",
    "            items = lines[i].split('|') #parse the cell\n",
    "            wban_code[items[2]] = items[0] #\n",
    "        map_file.close()    \n",
    "            # set dictionary \n",
    "            #item[2] is CallSign: items[0] is WBAN : CallSign is enclude the airport code.\n",
    "    # print(lines[0])\n",
    "    # print(lines[5]) \n",
    "    #creat map file\n",
    "    mpfile = open('mapfile_'+year+'.txt', 'w')\n",
    "    mpfile.write(str(wban_code))\n",
    "    mpfile.close()  \n",
    "    return(wban_code)\n",
    "    print('map setted')"
   ]
  },
  {
   "cell_type": "markdown",
   "metadata": {},
   "source": [
    "## 2. Read Airport data "
   ]
  },
  {
   "cell_type": "code",
   "execution_count": 39,
   "metadata": {
    "collapsed": false
   },
   "outputs": [],
   "source": [
    "def call_airport(path,year,month):\n",
    "    filename= path+ '\\\\Data_ontime\\\\On_Time_On_Time_Performance_'+year+'_'+month+'.csv'\n",
    "    df= pd.read_csv(filename)\n",
    "#     print(df.head())\n",
    "    # Find all unique airports\n",
    "    all_airports, airport_inverse, airport_count = np.unique(df['Origin'],return_counts=True,return_inverse=True)\n",
    "    # print(all_airports)\n",
    "    # print(len(all_airports))\n",
    "    Nflights_orig = np.zeros(len(airport_inverse))\n",
    "    for i in range(len(all_airports)):\n",
    "        Nflights_orig[np.where(airport_inverse==i)] = airport_count[i]\n",
    "    # print(Nflights_orig)\n",
    "    # df = df.loc[df.index[Nflights_orig>=500]]\n",
    "    keyval=['Year', 'Quarter', 'Month', 'DayofMonth', 'DayOfWeek', 'FlightDate',\n",
    "           'UniqueCarrier', 'AirlineID', 'Carrier', 'TailNum',\n",
    "            'FlightNum', 'Origin', 'OriginCityName', 'OriginState', 'OriginStateFips',\n",
    "            'Dest', 'DestCityName', 'DestState', 'DestStateFips', \n",
    "            'CRSDepTime', 'DepTime', 'DepDelay', 'DepDelayMinutes', 'DepDel15',\n",
    "            'DepartureDelayGroups', 'DepTimeBlk',\n",
    "            'TaxiOut', 'WheelsOff', 'WheelsOn', 'TaxiIn',\n",
    "            'CRSArrTime', 'ArrTime', 'ArrDelay', 'ArrDelayMinutes', 'ArrDel15',\n",
    "            'ArrivalDelayGroups', 'ArrTimeBlk', 'Cancelled', 'CancellationCode',\n",
    "            'Diverted', 'CRSElapsedTime', 'ActualElapsedTime', \n",
    "            'AirTime', 'Flights', 'Distance', 'DistanceGroup',\n",
    "            'CarrierDelay', 'WeatherDelay', 'NASDelay', 'SecurityDelay', 'LateAircraftDelay',\n",
    "            'FirstDepTime', 'TotalAddGTime', 'LongestAddGTime', 'DivAirportLandings',\n",
    "            'DivReachedDest','DivActualElapsedTime', 'DivArrDelay', 'DivDistance',\n",
    "            'Div1Airport', 'Div1AirportID', 'Div1AirportSeqID', 'Div1WheelsOn']\n",
    "    \n",
    "    df = df[keyval]\n",
    "    df['key']= range(1,(len(df)+1),1) \n",
    "    print(df['FlightDate'].head(2))\n",
    "#     print(df['CRSDepTime'].tail())\n",
    "    # data look like 1 means 00:01 need to change format.\n",
    "     #map({:04}.format) specifies convert the input digit in 4 chars by prefixing '0'.\n",
    "    df['sd_time'] = df['CRSDepTime'].map(\"{:04}\".format)\n",
    "    \n",
    "    df['sa_time'] = df['CRSArrTime'].map(\"{:04}\".format)\n",
    "    df['sa_time'] = df['sa_time'].str.replace('2400','0000')\n",
    "    # split the hours and minuate\n",
    "    # For departure\n",
    "    times = pd.to_datetime(df['sd_time'],format= '%H%M').dt.hour\n",
    "    mins= pd.to_datetime(df['sd_time'],format= '%H%M' ).dt.minute\n",
    "    # Convert exact time format.\n",
    "    df['S_Dep_time'] = pd.DataFrame({'time': pd.to_datetime(df['FlightDate'])+pd.to_timedelta(times,unit='h')+pd.to_timedelta(mins,unit='m')})\n",
    "    \n",
    "#     print(df['S_Dep_time'].head())\n",
    "    \n",
    "    # For Arrival \n",
    "    times = pd.to_datetime(df['sa_time'],format= '%H%M').dt.hour\n",
    "    mins= pd.to_datetime(df['sa_time'],format= '%H%M' ).dt.minute\n",
    "    # Convert exact time format.\n",
    "    df['S_Arr_time'] = pd.DataFrame({'time': pd.to_datetime(df['FlightDate'])+pd.to_timedelta(times,unit='h')+pd.to_timedelta(mins,unit='m')})\n",
    "\n",
    "#     print(df['S_Arr_time'].head())\n",
    "    # Since wban_code is dictionary when put key like wban_code['DCA'] then it \n",
    "    # give the coresponding value.\n",
    "\n",
    "    df['Dep_wban']=df['Origin'].map(wban_code)\n",
    "    df['Arr_wban'] = df['Dest'].map(wban_code)\n",
    "    return(df)\n",
    "    # ori_wban=origin_wban.tolist()\n",
    "    # df['origin_wban'].unique()\n",
    "    # airports_dep = df['Origin'].unique()\n",
    "    # for i in airports_dep:\n",
    "    #     print(i)"
   ]
  },
  {
   "cell_type": "markdown",
   "metadata": {},
   "source": [
    "## 3. Read weather data"
   ]
  },
  {
   "cell_type": "code",
   "execution_count": 40,
   "metadata": {
    "collapsed": false
   },
   "outputs": [],
   "source": [
    "def call_weather(path,year,month):\n",
    "    i= int(month)\n",
    "    if i<10:\n",
    "        month='0'+month\n",
    "    hourly_file_name = path+'Weather\\\\'+year+ month+'hourly.txt'\n",
    "    df_w= pd.read_csv(hourly_file_name,dtype={'WBAN': object, 'Time': object})\n",
    "    \n",
    "    Date= pd.to_datetime(df_w.Date,format='%Y%m%d') \n",
    "    \n",
    "    times=  pd.to_datetime(df_w['Time'],format= '%H%M' ).dt.hour\n",
    "    mins= pd.to_datetime(df_w['Time'],format= '%H%M' ).dt.minute\n",
    "    df_w['time']= pd.DataFrame({'time': pd.to_datetime(Date)+pd.to_timedelta(times,unit='h')+pd.to_timedelta(mins,unit='m')})\n",
    "#     df_w.time.head(5)\n",
    "    return (df_w)"
   ]
  },
  {
   "cell_type": "markdown",
   "metadata": {},
   "source": [
    "## 4. Merge."
   ]
  },
  {
   "cell_type": "code",
   "execution_count": 41,
   "metadata": {
    "collapsed": true
   },
   "outputs": [],
   "source": [
    "pd.options.mode.chained_assignment = None  # default='warn'"
   ]
  },
  {
   "cell_type": "code",
   "execution_count": 42,
   "metadata": {
    "collapsed": false
   },
   "outputs": [],
   "source": [
    "def merge(path, year, month):\n",
    "    # call data\n",
    "    \n",
    "    df= call_airport(path,year,month)\n",
    "    df_w=call_weather(path,year,month)\n",
    "    # select the specific weather data which will be used.\n",
    "   \n",
    "    airports = ['BOS','PVD','MHT','ORH','LAX', 'SNA', 'BUR', 'LGB']\n",
    "    # airports=['ABQ', 'ALB', 'AMA', 'ANC', 'ATL', 'AUS', 'BDL', 'BHM', 'BNA',\n",
    "    #        'BOI', 'BOS', 'BTR', 'BUF', 'BUR', 'BWI', 'CAE', 'CHS', 'CLE',\n",
    "    #        'CLT', 'CMH', 'COS', 'CVG', 'DAL', 'DAY', 'DCA', 'DEN', 'DFW',\n",
    "    #        'DSM', 'DTW', 'ELP', 'EWR', 'FAT', 'FLL', 'GEG', 'GRR', 'GSO',\n",
    "    #        'GSP', 'HNL', 'HOU', 'HPN', 'IAD', 'IAH', 'ICT', 'IND', 'JAN',\n",
    "    #        'JAX', 'JFK', 'KOA', 'LAS', 'LAX', 'LGA', 'LGB', 'LIH', 'LIT',\n",
    "    #        'MAF', 'MCI', 'MCO', 'MDW', 'MEM', 'MIA', 'MKE', 'MSN', 'MSP',\n",
    "    #        'MSY', 'OAK', 'OGG', 'OKC', 'OMA', 'ONT', 'ORD', 'ORF', 'PBI',\n",
    "    #        'PDX', 'PHL', 'PHX', 'PIT', 'PNS', 'PSP', 'PVD', 'RDU', 'RIC',\n",
    "    #        'RNO', 'ROC', 'RSW', 'SAN', 'SAT', 'SAV', 'SBA', 'SDF', 'SEA',\n",
    "    #        'SFO', 'SJC', 'SJU', 'SLC', 'SMF', 'SNA', 'STL', 'TPA', 'TUL',\n",
    "    #        'TUS', 'TYS', 'XNA']\n",
    "    condition=['Dep','Arr']\n",
    "    dfList= []\n",
    "\n",
    "    for airport in airports:\n",
    "        for CON in condition:\n",
    "            code=wban_code[airport]\n",
    "            print(year +month)\n",
    "            print(airport + ' WBAN_code :'+code)\n",
    "\n",
    "            df1= df.loc[df[CON+'_wban']==code]\n",
    "            df1['con']=CON\n",
    "            obs= str(len(df1))\n",
    "            print('# of obs:'+ obs)\n",
    "            df1['time']= df1['S_'+CON+'_time']\n",
    "\n",
    "            df2= df_w.loc[df_w['WBAN']==code]\n",
    "            df2['next_obs']= df2.time.shift(-1)\n",
    "            df2['obs1']= pd.to_timedelta(df2['time'])\n",
    "            df2['obs2']= pd.to_timedelta(df2['next_obs'])\n",
    "            df2['mid'] = df2['next_obs']-(df2['obs2']-df2['obs1'])/2\n",
    "            df2['mid'].fillna(method= 'ffill',inplace=True)\n",
    "            df2['next_obs'].fillna(method= 'ffill',inplace=True)\n",
    "            df2['id']= range(1,(len(df2)+1),1)\n",
    "            del df2['obs1']\n",
    "            del df2['obs2']\n",
    "\n",
    "            airport_time= df1[['time','key']]\n",
    "            weather_time= df2[['time','id','mid']]\n",
    "            whole_time= airport_time.append(weather_time, ignore_index=True)\n",
    "\n",
    "            #reset index\n",
    "            whole_time.index= range(1,len(whole_time)+1)\n",
    "            whole_time= whole_time.sort_values('time')\n",
    "            whole_time['new_id'] = whole_time['id']\n",
    "            whole_time['mid_id'] = whole_time['id']\n",
    "            whole_time['mid'].fillna(method= 'ffill', inplace=True)\n",
    "            whole_time.iat[-1,2] =whole_time.iat[-1,3] # replace last midtime as real time\n",
    "            whole_time['mid_id'].fillna(method= 'ffill', inplace = True)\n",
    "\n",
    "            whole_time['new_id']= np.where((( whole_time['time'] < whole_time['mid'] )),whole_time['mid_id'],whole_time['mid_id']+1)\n",
    "\n",
    "            #remove_weather_time\n",
    "            whole_time= whole_time[whole_time['id'].isnull()==True]\n",
    "            # merge with new_id data\n",
    "            df3= pd.merge(df1,whole_time, on ='key', indicator =False)\n",
    "            del df3['id']\n",
    "            del df3['mid']\n",
    "            del df3['mid_id']\n",
    "            del df3['time_x']\n",
    "            del df3['time_y']\n",
    "            # finalize the merge : matching with weather data.\n",
    "            result = pd.merge(df3,df2, left_on='new_id', right_on= 'id',indicator=True)\n",
    "            del result['mid']\n",
    "            del result['next_obs']\n",
    "            dfList.append(result)\n",
    "    appendDf= pd.concat(dfList,axis=0)   \n",
    "    appendDf.to_csv(path+'results_'+year+month+'.csv')\n",
    "    "
   ]
  },
  {
   "cell_type": "markdown",
   "metadata": {},
   "source": [
    "## 5.Execute the merge."
   ]
  },
  {
   "cell_type": "code",
   "execution_count": 59,
   "metadata": {
    "collapsed": false
   },
   "outputs": [
    {
     "name": "stdout",
     "output_type": "stream",
     "text": [
      "2015\n",
      "F:\\Dropbox\\Flight\\Data\\Weather\\201501station.txt\n",
      "F:\\Dropbox\\Flight\\Data\\Weather\\201502station.txt\n",
      "F:\\Dropbox\\Flight\\Data\\Weather\\201503station.txt\n",
      "4\n",
      "5\n",
      "6\n",
      "7\n",
      "8\n",
      "9\n",
      "10\n",
      "11\n",
      "12\n",
      "1\n"
     ]
    },
    {
     "name": "stderr",
     "output_type": "stream",
     "text": [
      "C:\\Users\\Jukwan\\Anaconda3\\lib\\site-packages\\IPython\\core\\interactiveshell.py:2881: DtypeWarning: Columns (77,84,85) have mixed types. Specify dtype option on import or set low_memory=False.\n",
      "  exec(code_obj, self.user_global_ns, self.user_ns)\n"
     ]
    },
    {
     "name": "stdout",
     "output_type": "stream",
     "text": [
      "0    2015-01-01\n",
      "1    2015-01-02\n",
      "Name: FlightDate, dtype: object\n"
     ]
    },
    {
     "name": "stderr",
     "output_type": "stream",
     "text": [
      "C:\\Users\\Jukwan\\Anaconda3\\lib\\site-packages\\IPython\\core\\interactiveshell.py:2881: DtypeWarning: Columns (10,12,18,20,24,26,30,42) have mixed types. Specify dtype option on import or set low_memory=False.\n",
      "  exec(code_obj, self.user_global_ns, self.user_ns)\n"
     ]
    },
    {
     "name": "stdout",
     "output_type": "stream",
     "text": [
      "20151\n",
      "BOS WBAN_code :14739\n",
      "# of obs:8837\n",
      "20151\n",
      "BOS WBAN_code :14739\n",
      "# of obs:8841\n",
      "20151\n",
      "PVD WBAN_code :14765\n",
      "# of obs:1024\n",
      "20151\n",
      "PVD WBAN_code :14765\n",
      "# of obs:1024\n",
      "20151\n",
      "MHT WBAN_code :14710\n",
      "# of obs:469\n",
      "20151\n",
      "MHT WBAN_code :14710\n",
      "# of obs:471\n",
      "20151\n",
      "ORH WBAN_code :94746\n",
      "# of obs:62\n",
      "20151\n",
      "ORH WBAN_code :94746\n",
      "# of obs:62\n",
      "20151\n",
      "LAX WBAN_code :23174\n",
      "# of obs:17340\n",
      "20151\n",
      "LAX WBAN_code :23174\n",
      "# of obs:17332\n",
      "20151\n",
      "SNA WBAN_code :93184\n",
      "# of obs:3185\n",
      "20151\n",
      "SNA WBAN_code :93184\n",
      "# of obs:3180\n",
      "20151\n",
      "BUR WBAN_code :23152\n",
      "# of obs:1703\n",
      "20151\n",
      "BUR WBAN_code :23152\n",
      "# of obs:1703\n",
      "20151\n",
      "LGB WBAN_code :23129\n",
      "# of obs:770\n",
      "20151\n",
      "LGB WBAN_code :23129\n",
      "# of obs:770\n",
      "2\n"
     ]
    },
    {
     "name": "stderr",
     "output_type": "stream",
     "text": [
      "C:\\Users\\Jukwan\\Anaconda3\\lib\\site-packages\\IPython\\core\\interactiveshell.py:2881: DtypeWarning: Columns (77,84) have mixed types. Specify dtype option on import or set low_memory=False.\n",
      "  exec(code_obj, self.user_global_ns, self.user_ns)\n"
     ]
    },
    {
     "name": "stdout",
     "output_type": "stream",
     "text": [
      "0    2015-02-07\n",
      "1    2015-02-07\n",
      "Name: FlightDate, dtype: object\n"
     ]
    },
    {
     "name": "stderr",
     "output_type": "stream",
     "text": [
      "C:\\Users\\Jukwan\\Anaconda3\\lib\\site-packages\\IPython\\core\\interactiveshell.py:2881: DtypeWarning: Columns (6,10,12,18,20,24,26,42) have mixed types. Specify dtype option on import or set low_memory=False.\n",
      "  exec(code_obj, self.user_global_ns, self.user_ns)\n"
     ]
    },
    {
     "name": "stdout",
     "output_type": "stream",
     "text": [
      "20152\n",
      "BOS WBAN_code :14739\n",
      "# of obs:8380\n",
      "20152\n",
      "BOS WBAN_code :14739\n",
      "# of obs:8383\n",
      "20152\n",
      "PVD WBAN_code :14765\n",
      "# of obs:819\n",
      "20152\n",
      "PVD WBAN_code :14765\n",
      "# of obs:817\n",
      "20152\n",
      "MHT WBAN_code :14710\n",
      "# of obs:410\n",
      "20152\n",
      "MHT WBAN_code :14710\n",
      "# of obs:410\n",
      "20152\n",
      "ORH WBAN_code :94746\n",
      "# of obs:54\n",
      "20152\n",
      "ORH WBAN_code :94746\n",
      "# of obs:56\n",
      "20152\n",
      "LAX WBAN_code :23174\n",
      "# of obs:15762\n",
      "20152\n",
      "LAX WBAN_code :23174\n",
      "# of obs:15764\n",
      "20152\n",
      "SNA WBAN_code :93184\n",
      "# of obs:2943\n",
      "20152\n",
      "SNA WBAN_code :93184\n",
      "# of obs:2944\n",
      "20152\n",
      "BUR WBAN_code :23152\n",
      "# of obs:1530\n",
      "20152\n",
      "BUR WBAN_code :23152\n",
      "# of obs:1530\n",
      "20152\n",
      "LGB WBAN_code :23129\n",
      "# of obs:676\n",
      "20152\n",
      "LGB WBAN_code :23129\n",
      "# of obs:677\n",
      "3\n"
     ]
    },
    {
     "name": "stderr",
     "output_type": "stream",
     "text": [
      "C:\\Users\\Jukwan\\Anaconda3\\lib\\site-packages\\IPython\\core\\interactiveshell.py:2881: DtypeWarning: Columns (48,77,84) have mixed types. Specify dtype option on import or set low_memory=False.\n",
      "  exec(code_obj, self.user_global_ns, self.user_ns)\n"
     ]
    },
    {
     "name": "stdout",
     "output_type": "stream",
     "text": [
      "0    2015-03-01\n",
      "1    2015-03-02\n",
      "Name: FlightDate, dtype: object\n",
      "20153\n",
      "BOS WBAN_code :14739\n",
      "# of obs:9971\n",
      "20153\n",
      "BOS WBAN_code :14739\n",
      "# of obs:9980\n",
      "20153\n",
      "PVD WBAN_code :14765\n",
      "# of obs:1056\n",
      "20153\n",
      "PVD WBAN_code :14765\n",
      "# of obs:1060\n",
      "20153\n",
      "MHT WBAN_code :14710\n",
      "# of obs:623\n",
      "20153\n",
      "MHT WBAN_code :14710\n",
      "# of obs:626\n",
      "20153\n",
      "ORH WBAN_code :94746\n",
      "# of obs:61\n",
      "20153\n",
      "ORH WBAN_code :94746\n",
      "# of obs:62\n",
      "20153\n",
      "LAX WBAN_code :23174\n",
      "# of obs:18014\n",
      "20153\n",
      "LAX WBAN_code :23174\n",
      "# of obs:18006\n",
      "20153\n",
      "SNA WBAN_code :93184\n",
      "# of obs:3372\n",
      "20153\n",
      "SNA WBAN_code :93184\n",
      "# of obs:3377\n",
      "20153\n",
      "BUR WBAN_code :23152\n",
      "# of obs:1758\n",
      "20153\n",
      "BUR WBAN_code :23152\n",
      "# of obs:1756\n",
      "20153\n",
      "LGB WBAN_code :23129\n",
      "# of obs:760\n",
      "20153\n",
      "LGB WBAN_code :23129\n",
      "# of obs:759\n"
     ]
    }
   ],
   "source": [
    "for year in years:\n",
    "    print(year)\n",
    "    wban_code= WBANmap(path,year)\n",
    "    for month in months:\n",
    "        print(month)\n",
    "        try:\n",
    "            merge(path,year,month)\n",
    "        except FileNotFoundError:\n",
    "            continue\n",
    "\n",
    "        "
   ]
  },
  {
   "cell_type": "markdown",
   "metadata": {},
   "source": [
    "## 6. Appending Above files"
   ]
  },
  {
   "cell_type": "code",
   "execution_count": 60,
   "metadata": {
    "collapsed": false
   },
   "outputs": [
    {
     "name": "stdout",
     "output_type": "stream",
     "text": [
      "['results_201410.csv', 'results_201411.csv', 'results_201412.csv', 'results_20144.csv', 'results_20145.csv', 'results_20146.csv', 'results_20147.csv', 'results_20148.csv', 'results_20149.csv', 'results_20151.csv', 'results_20152.csv', 'results_20153.csv']\n",
      "results_201410.csv\n"
     ]
    },
    {
     "name": "stderr",
     "output_type": "stream",
     "text": [
      "C:\\Users\\Jukwan\\Anaconda3\\lib\\site-packages\\IPython\\core\\interactiveshell.py:2827: DtypeWarning: Columns (89,91,93,95,97,99,105) have mixed types. Specify dtype option on import or set low_memory=False.\n",
      "  if self.run_code(code, result):\n"
     ]
    },
    {
     "name": "stdout",
     "output_type": "stream",
     "text": [
      "results_201411.csv\n"
     ]
    },
    {
     "name": "stderr",
     "output_type": "stream",
     "text": [
      "C:\\Users\\Jukwan\\Anaconda3\\lib\\site-packages\\IPython\\core\\interactiveshell.py:2827: DtypeWarning: Columns (81,85,87,89,91,93,95,97,99,101,105,117) have mixed types. Specify dtype option on import or set low_memory=False.\n",
      "  if self.run_code(code, result):\n"
     ]
    },
    {
     "name": "stdout",
     "output_type": "stream",
     "text": [
      "results_201412.csv\n"
     ]
    },
    {
     "name": "stderr",
     "output_type": "stream",
     "text": [
      "C:\\Users\\Jukwan\\Anaconda3\\lib\\site-packages\\IPython\\core\\interactiveshell.py:2827: DtypeWarning: Columns (81,85,87,89,91,93,95,97,99,101) have mixed types. Specify dtype option on import or set low_memory=False.\n",
      "  if self.run_code(code, result):\n"
     ]
    },
    {
     "name": "stdout",
     "output_type": "stream",
     "text": [
      "results_20144.csv\n"
     ]
    },
    {
     "name": "stderr",
     "output_type": "stream",
     "text": [
      "C:\\Users\\Jukwan\\Anaconda3\\lib\\site-packages\\IPython\\core\\interactiveshell.py:2827: DtypeWarning: Columns (99) have mixed types. Specify dtype option on import or set low_memory=False.\n",
      "  if self.run_code(code, result):\n"
     ]
    },
    {
     "name": "stdout",
     "output_type": "stream",
     "text": [
      "results_20145.csv\n"
     ]
    },
    {
     "name": "stderr",
     "output_type": "stream",
     "text": [
      "C:\\Users\\Jukwan\\Anaconda3\\lib\\site-packages\\IPython\\core\\interactiveshell.py:2827: DtypeWarning: Columns (89,91,97,99,105) have mixed types. Specify dtype option on import or set low_memory=False.\n",
      "  if self.run_code(code, result):\n"
     ]
    },
    {
     "name": "stdout",
     "output_type": "stream",
     "text": [
      "results_20146.csv\n"
     ]
    },
    {
     "name": "stderr",
     "output_type": "stream",
     "text": [
      "C:\\Users\\Jukwan\\Anaconda3\\lib\\site-packages\\IPython\\core\\interactiveshell.py:2827: DtypeWarning: Columns (81,85,87,89,91,93,95,97,99,105,117) have mixed types. Specify dtype option on import or set low_memory=False.\n",
      "  if self.run_code(code, result):\n"
     ]
    },
    {
     "name": "stdout",
     "output_type": "stream",
     "text": [
      "results_20147.csv\n"
     ]
    },
    {
     "name": "stderr",
     "output_type": "stream",
     "text": [
      "C:\\Users\\Jukwan\\Anaconda3\\lib\\site-packages\\IPython\\core\\interactiveshell.py:2827: DtypeWarning: Columns (89,91,97,105) have mixed types. Specify dtype option on import or set low_memory=False.\n",
      "  if self.run_code(code, result):\n"
     ]
    },
    {
     "name": "stdout",
     "output_type": "stream",
     "text": [
      "results_20148.csv\n"
     ]
    },
    {
     "name": "stderr",
     "output_type": "stream",
     "text": [
      "C:\\Users\\Jukwan\\Anaconda3\\lib\\site-packages\\IPython\\core\\interactiveshell.py:2827: DtypeWarning: Columns (60,89,91,93,95,97,99,105) have mixed types. Specify dtype option on import or set low_memory=False.\n",
      "  if self.run_code(code, result):\n"
     ]
    },
    {
     "name": "stdout",
     "output_type": "stream",
     "text": [
      "results_20149.csv\n"
     ]
    },
    {
     "name": "stderr",
     "output_type": "stream",
     "text": [
      "C:\\Users\\Jukwan\\Anaconda3\\lib\\site-packages\\IPython\\core\\interactiveshell.py:2827: DtypeWarning: Columns (85,87,89,91,93,95,97,99,105) have mixed types. Specify dtype option on import or set low_memory=False.\n",
      "  if self.run_code(code, result):\n"
     ]
    },
    {
     "name": "stdout",
     "output_type": "stream",
     "text": [
      "results_20151.csv\n"
     ]
    },
    {
     "name": "stderr",
     "output_type": "stream",
     "text": [
      "C:\\Users\\Jukwan\\Anaconda3\\lib\\site-packages\\IPython\\core\\interactiveshell.py:2827: DtypeWarning: Columns (81,85,87,89,91,93,95,97,99) have mixed types. Specify dtype option on import or set low_memory=False.\n",
      "  if self.run_code(code, result):\n"
     ]
    },
    {
     "name": "stdout",
     "output_type": "stream",
     "text": [
      "results_20152.csv\n"
     ]
    },
    {
     "name": "stderr",
     "output_type": "stream",
     "text": [
      "C:\\Users\\Jukwan\\Anaconda3\\lib\\site-packages\\IPython\\core\\interactiveshell.py:2827: DtypeWarning: Columns (85,87,89,91,93,95,97,99,105,117) have mixed types. Specify dtype option on import or set low_memory=False.\n",
      "  if self.run_code(code, result):\n"
     ]
    },
    {
     "name": "stdout",
     "output_type": "stream",
     "text": [
      "results_20153.csv\n"
     ]
    },
    {
     "name": "stderr",
     "output_type": "stream",
     "text": [
      "C:\\Users\\Jukwan\\Anaconda3\\lib\\site-packages\\IPython\\core\\interactiveshell.py:2827: DtypeWarning: Columns (89,91,93,95,97,99) have mixed types. Specify dtype option on import or set low_memory=False.\n",
      "  if self.run_code(code, result):\n"
     ]
    }
   ],
   "source": [
    "import os\n",
    "import glob\n",
    "\n",
    "def appender(indir= \"F:/Dropbox/Flight/DATA/\", output = 'F:/Dropbox/Flight/DATA/cleaned_data/prepare_data.csv'):\n",
    "    os.chdir(indir)\n",
    "    fileList= glob.glob(\"results_20*.csv\")\n",
    "    #creating empty list\n",
    "    dfList= []\n",
    "    print(fileList)\n",
    "    \n",
    "    for filename in fileList:\n",
    "        print(filename)\n",
    "        df= pd.read_csv(filename) \n",
    "        dfList.append(df)\n",
    "    appendDf= pd.concat(dfList, axis=0)\n",
    "    appendDf.to_csv(output)\n",
    "    \n",
    "appender()\n",
    "\n",
    "\n",
    "\n"
   ]
  }
 ],
 "metadata": {
  "kernelspec": {
   "display_name": "Python 3",
   "language": "python",
   "name": "python3"
  },
  "language_info": {
   "codemirror_mode": {
    "name": "ipython",
    "version": 3
   },
   "file_extension": ".py",
   "mimetype": "text/x-python",
   "name": "python",
   "nbconvert_exporter": "python",
   "pygments_lexer": "ipython3",
   "version": "3.6.0"
  }
 },
 "nbformat": 4,
 "nbformat_minor": 2
}
