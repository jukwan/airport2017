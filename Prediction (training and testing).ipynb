{
 "cells": [
  {
   "cell_type": "markdown",
   "metadata": {},
   "source": [
    "# Logistic regression with merchine learning\n",
    "Now we use Python's excellent Scikit-learn machine learning package to to build two predictive models (Logistic regression and Random Forest) and compare their performance. First we print the confusion matrix, which counts the true positive, true negatives, false positives and false negatives. Then from the confusion matrix, we compute precision, recall, F1 metric and accuracy. Let's start with a logistic regression model and evaluate its performance on the testing dataset."
   ]
  },
  {
   "cell_type": "code",
   "execution_count": null,
   "metadata": {
    "collapsed": true
   },
   "outputs": [],
   "source": [
    "import numpy as np\n",
    "import pandas as pd\n",
    "import datetime as datetime\n",
    "import os\n",
    "import matplotlib.pyplot as plt\n",
    "from matplotlib import style\n",
    "style.use('fivethirtyeight')\n",
    "%matplotlib inline\n",
    "import statsmodels.formula.api as sm"
   ]
  },
  {
   "cell_type": "code",
   "execution_count": 2,
   "metadata": {
    "collapsed": false
   },
   "outputs": [
    {
     "ename": "SyntaxError",
     "evalue": "invalid syntax (<ipython-input-2-dbe53a80607a>, line 1)",
     "output_type": "error",
     "traceback": [
      "\u001b[0;36m  File \u001b[0;32m\"<ipython-input-2-dbe53a80607a>\"\u001b[0;36m, line \u001b[0;32m1\u001b[0m\n\u001b[0;31m    pip install -U pip\u001b[0m\n\u001b[0m              ^\u001b[0m\n\u001b[0;31mSyntaxError\u001b[0m\u001b[0;31m:\u001b[0m invalid syntax\n"
     ]
    }
   ],
   "source": [
    "pip install -U pip"
   ]
  },
  {
   "cell_type": "code",
   "execution_count": 3,
   "metadata": {
    "collapsed": false
   },
   "outputs": [],
   "source": [
    "# Python library imports: numpy, random, sklearn, pandas, etc\n",
    "\n",
    "import warnings\n",
    "warnings.filterwarnings('ignore')\n",
    "\n",
    "import sys\n",
    "import random\n",
    "import os\n",
    "import numpy as np\n",
    "\n",
    "from sklearn import linear_model, cross_validation, metrics, svm\n",
    "from sklearn.metrics import confusion_matrix, precision_recall_fscore_support, accuracy_score\n",
    "from sklearn.ensemble import RandomForestClassifier\n",
    "from sklearn.preprocessing import StandardScaler\n",
    "\n",
    "import pandas as pd\n",
    "\n",
    "import matplotlib.pyplot as plt\n",
    "from matplotlib import style\n",
    "style.use('fivethirtyeight')\n",
    "%matplotlib inline\n",
    "\n",
    "import statsmodels.formula.api as sm\n",
    "# from IPython.core.interactiveshell import InteractiveShell # show all results of commands\n",
    "# InteractiveShell.ast_node_interactivity = \"all\""
   ]
  },
  {
   "cell_type": "code",
   "execution_count": 4,
   "metadata": {
    "collapsed": false
   },
   "outputs": [],
   "source": [
    "# read the file.\n",
    "\n",
    "path= 'F:\\\\Dropbox\\\\Flight\\\\DATA\\\\cleaned_data' #for load the data\n",
    "path2= 'F:\\\\Dropbox\\\\Flight\\\\Code\\\\results' #for results saving\n",
    "path\n",
    "os.chdir(path) # set the path as working directory."
   ]
  },
  {
   "cell_type": "code",
   "execution_count": 5,
   "metadata": {
    "collapsed": true
   },
   "outputs": [],
   "source": [
    "df= pd.read_csv(path+'\\\\prepared_data.csv', parse_dates=['time','S_Dep_time','S_Arr_time'])\n",
    "#parse data help the conversion string to datetime dtype."
   ]
  },
  {
   "cell_type": "code",
   "execution_count": 6,
   "metadata": {
    "collapsed": false
   },
   "outputs": [
    {
     "data": {
      "text/plain": [
       "['Unnamed: 0',\n",
       " 'Unnamed: 0.1',\n",
       " 'Year',\n",
       " 'Quarter',\n",
       " 'Month',\n",
       " 'DayofMonth',\n",
       " 'DayOfWeek',\n",
       " 'FlightDate',\n",
       " 'UniqueCarrier',\n",
       " 'AirlineID',\n",
       " 'Carrier',\n",
       " 'TailNum',\n",
       " 'FlightNum',\n",
       " 'Origin',\n",
       " 'OriginCityName',\n",
       " 'OriginState',\n",
       " 'OriginStateFips',\n",
       " 'Dest',\n",
       " 'DestCityName',\n",
       " 'DestState',\n",
       " 'DestStateFips',\n",
       " 'CRSDepTime',\n",
       " 'DepTime',\n",
       " 'DepDelay',\n",
       " 'DepDelayMinutes',\n",
       " 'DepDel15',\n",
       " 'DepartureDelayGroups',\n",
       " 'DepTimeBlk',\n",
       " 'TaxiOut',\n",
       " 'WheelsOff',\n",
       " 'WheelsOn',\n",
       " 'TaxiIn',\n",
       " 'CRSArrTime',\n",
       " 'ArrTime',\n",
       " 'ArrDelay',\n",
       " 'ArrDelayMinutes',\n",
       " 'ArrDel15',\n",
       " 'ArrivalDelayGroups',\n",
       " 'ArrTimeBlk',\n",
       " 'Cancelled',\n",
       " 'CancellationCode',\n",
       " 'Diverted',\n",
       " 'CRSElapsedTime',\n",
       " 'ActualElapsedTime',\n",
       " 'AirTime',\n",
       " 'Flights',\n",
       " 'Distance',\n",
       " 'DistanceGroup',\n",
       " 'CarrierDelay',\n",
       " 'WeatherDelay',\n",
       " 'NASDelay',\n",
       " 'SecurityDelay',\n",
       " 'LateAircraftDelay',\n",
       " 'FirstDepTime',\n",
       " 'TotalAddGTime',\n",
       " 'LongestAddGTime',\n",
       " 'DivAirportLandings',\n",
       " 'DivReachedDest',\n",
       " 'DivActualElapsedTime',\n",
       " 'DivArrDelay',\n",
       " 'DivDistance',\n",
       " 'Div1Airport',\n",
       " 'Div1AirportID',\n",
       " 'Div1AirportSeqID',\n",
       " 'Div1WheelsOn',\n",
       " 'key',\n",
       " 'sd_time',\n",
       " 'sa_time',\n",
       " 'S_Dep_time',\n",
       " 'S_Arr_time',\n",
       " 'Dep_wban',\n",
       " 'Arr_wban',\n",
       " 'con',\n",
       " 'new_id',\n",
       " 'WBAN',\n",
       " 'Date',\n",
       " 'Time',\n",
       " 'StationType',\n",
       " 'SkyCondition',\n",
       " 'SkyConditionFlag',\n",
       " 'Visibility',\n",
       " 'VisibilityFlag',\n",
       " 'WeatherType',\n",
       " 'WeatherTypeFlag',\n",
       " 'DryBulbFarenheit',\n",
       " 'DryBulbFarenheitFlag',\n",
       " 'DryBulbCelsius',\n",
       " 'DryBulbCelsiusFlag',\n",
       " 'WetBulbFarenheit',\n",
       " 'WetBulbFarenheitFlag',\n",
       " 'WetBulbCelsius',\n",
       " 'WetBulbCelsiusFlag',\n",
       " 'DewPointFarenheit',\n",
       " 'DewPointFarenheitFlag',\n",
       " 'DewPointCelsius',\n",
       " 'DewPointCelsiusFlag',\n",
       " 'RelativeHumidity',\n",
       " 'RelativeHumidityFlag',\n",
       " 'WindSpeed',\n",
       " 'WindSpeedFlag',\n",
       " 'WindDirection',\n",
       " 'WindDirectionFlag',\n",
       " 'ValueForWindCharacter',\n",
       " 'ValueForWindCharacterFlag',\n",
       " 'StationPressure',\n",
       " 'StationPressureFlag',\n",
       " 'PressureTendency',\n",
       " 'PressureTendencyFlag',\n",
       " 'PressureChange',\n",
       " 'PressureChangeFlag',\n",
       " 'SeaLevelPressure',\n",
       " 'SeaLevelPressureFlag',\n",
       " 'RecordType',\n",
       " 'RecordTypeFlag',\n",
       " 'HourlyPrecip',\n",
       " 'HourlyPrecipFlag',\n",
       " 'Altimeter',\n",
       " 'AltimeterFlag',\n",
       " 'time',\n",
       " 'id',\n",
       " '_merge']"
      ]
     },
     "execution_count": 6,
     "metadata": {},
     "output_type": "execute_result"
    }
   ],
   "source": [
    "list(df)"
   ]
  },
  {
   "cell_type": "code",
   "execution_count": 14,
   "metadata": {
    "collapsed": false
   },
   "outputs": [
    {
     "name": "stdout",
     "output_type": "stream",
     "text": [
      "712328    0.0\n",
      "712329    1.0\n",
      "712330    0.0\n",
      "712331    1.0\n",
      "712332    0.0\n",
      "Name: ArrDel15, dtype: float64\n"
     ]
    }
   ],
   "source": [
    "train_y = df.ArrDel15[df['Month']==12]\n",
    "print(train_y.head())\n",
    "cols = ['Month','DayofMonth','DayOfWeek','Distance','DryBulbFarenheit']\n",
    "train_x = df[cols]\n",
    "\n",
    "test_y = df.ArrDel15[df['Month']==1]\n",
    "\n"
   ]
  },
  {
   "cell_type": "code",
   "execution_count": null,
   "metadata": {
    "collapsed": true
   },
   "outputs": [],
   "source": [
    "# Create logistic regression model with L2 regularization\n",
    "clf_lr = linear_model.LogisticRegression(penalty='l2', class_weight='auto')\n",
    "clf_lr.fit(train_x, train_y)\n",
    "\n",
    "# Predict output labels on test set\n",
    "pr = clf_lr.predict(test_x)\n",
    "\n",
    "# display evaluation metrics\n",
    "cm = confusion_matrix(test_y, pr)\n",
    "print(\"Confusion matrix\")\n",
    "print(pd.DataFrame(cm))\n",
    "report_lr = precision_recall_fscore_support(list(test_y), list(pr), average='micro')\n",
    "print \"\\nprecision = %0.2f, recall = %0.2f, F1 = %0.2f, accuracy = %0.2f\\n\" % \\\n",
    "        (report_lr[0], report_lr[1], report_lr[2], accuracy_score(list(test_y), list(pr)))"
   ]
  }
 ],
 "metadata": {
  "kernelspec": {
   "display_name": "Python 3",
   "language": "python",
   "name": "python3"
  },
  "language_info": {
   "codemirror_mode": {
    "name": "ipython",
    "version": 3
   },
   "file_extension": ".py",
   "mimetype": "text/x-python",
   "name": "python",
   "nbconvert_exporter": "python",
   "pygments_lexer": "ipython3",
   "version": "3.6.0"
  }
 },
 "nbformat": 4,
 "nbformat_minor": 2
}
