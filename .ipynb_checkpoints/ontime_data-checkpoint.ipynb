{
 "cells": [
  {
   "cell_type": "code",
   "execution_count": 5,
   "metadata": {
    "collapsed": true
   },
   "outputs": [],
   "source": [
    "import numpy as np\n",
    "import pandas as pd\n",
    "import datetime as datetime\n",
    "import os\n",
    "import matplotlib.pyplot as plt\n",
    "from matplotlib import style\n",
    "style.use('fivethirtyeight')\n",
    "%matplotlib inline\n",
    "import statsmodels.formula.api as sm"
   ]
  },
  {
   "cell_type": "code",
   "execution_count": 1,
   "metadata": {
    "collapsed": false
   },
   "outputs": [
    {
     "data": {
      "text/plain": [
       "'F:\\\\Dropbox\\\\Flight\\\\Code'"
      ]
     },
     "execution_count": 1,
     "metadata": {},
     "output_type": "execute_result"
    }
   ],
   "source": [
    "pwd"
   ]
  },
  {
   "cell_type": "code",
   "execution_count": 3,
   "metadata": {
    "collapsed": false
   },
   "outputs": [
    {
     "data": {
      "text/plain": [
       "'F:\\\\Dropbox\\\\Flight\\\\Data_ontime'"
      ]
     },
     "execution_count": 3,
     "metadata": {},
     "output_type": "execute_result"
    }
   ],
   "source": [
    "path = 'F:\\\\Dropbox\\\\Flight\\\\Data_ontime'\n",
    "path"
   ]
  },
  {
   "cell_type": "code",
   "execution_count": 6,
   "metadata": {
    "collapsed": false
   },
   "outputs": [],
   "source": [
    "os.chdir(path)"
   ]
  },
  {
   "cell_type": "code",
   "execution_count": 8,
   "metadata": {
    "collapsed": false
   },
   "outputs": [
    {
     "name": "stderr",
     "output_type": "stream",
     "text": [
      "C:\\Users\\Jukwan\\Anaconda3\\lib\\site-packages\\IPython\\core\\interactiveshell.py:2717: DtypeWarning: Columns (48,69,76,77,84) have mixed types. Specify dtype option on import or set low_memory=False.\n",
      "  interactivity=interactivity, compiler=compiler, result=result)\n"
     ]
    }
   ],
   "source": [
    "df= pd.read_csv('On_Time_On_Time_Performance_2014_12.csv')"
   ]
  },
  {
   "cell_type": "code",
   "execution_count": 11,
   "metadata": {
    "collapsed": false
   },
   "outputs": [
    {
     "data": {
      "text/plain": [
       "52490130"
      ]
     },
     "execution_count": 11,
     "metadata": {},
     "output_type": "execute_result"
    }
   ],
   "source": [
    "df.size"
   ]
  },
  {
   "cell_type": "code",
   "execution_count": 51,
   "metadata": {
    "collapsed": false
   },
   "outputs": [],
   "source": [
    "# list(df)"
   ]
  },
  {
   "cell_type": "code",
   "execution_count": 34,
   "metadata": {
    "collapsed": false
   },
   "outputs": [],
   "source": [
    "# Filter data to keys of interest\n",
    "keys = ['Year', 'Quarter', 'Month', 'DayofMonth', 'DayOfWeek', 'FlightDate', 'UniqueCarrier',\n",
    " 'AirlineID', 'Carrier', 'TailNum', 'FlightNum', 'Origin', 'OriginCityName', 'OriginState',\n",
    " 'OriginStateName', 'Dest', 'DestCityName', 'DestState', 'DestStateName',\n",
    " 'CRSDepTime', 'DepTime', 'DepDelay', 'DepDelayMinutes', 'DepDel15', 'DepartureDelayGroups',\n",
    " 'DepTimeBlk', 'TaxiOut', 'WheelsOff', 'WheelsOn', 'TaxiIn', 'CRSArrTime', 'ArrTime',\n",
    " 'ArrDelay', 'ArrDelayMinutes', 'ArrDel15', 'ArrivalDelayGroups', 'ArrTimeBlk',\n",
    " 'Cancelled', 'CancellationCode', 'Diverted', 'CRSElapsedTime', 'ActualElapsedTime',\n",
    " 'AirTime', 'Flights', 'Distance', 'DistanceGroup',\n",
    " 'CarrierDelay', 'WeatherDelay', 'NASDelay', 'SecurityDelay', 'LateAircraftDelay',\n",
    " 'FirstDepTime', 'TotalAddGTime', 'LongestAddGTime', 'DivAirportLandings',\n",
    " 'DivReachedDest', 'DivActualElapsedTime', 'DivArrDelay', 'DivDistance']\n",
    "df = df[keys]"
   ]
  },
  {
   "cell_type": "code",
   "execution_count": 58,
   "metadata": {
    "collapsed": false
   },
   "outputs": [
    {
     "data": {
      "text/plain": [
       "Origin\n",
       "ABE     120\n",
       "ABI     241\n",
       "ABQ    1764\n",
       "ABR      62\n",
       "ABY      78\n",
       "dtype: int64"
      ]
     },
     "execution_count": 58,
     "metadata": {},
     "output_type": "execute_result"
    }
   ],
   "source": [
    "dep_air=df.groupby(['Origin'])\n",
    "nflight=dep_air.size()"
   ]
  },
  {
   "cell_type": "code",
   "execution_count": 31,
   "metadata": {
    "collapsed": false
   },
   "outputs": [
    {
     "name": "stdout",
     "output_type": "stream",
     "text": [
      "DayofMonth      1       2       3       4       5      6      7       8   \\\n",
      "Origin                                                                     \n",
      "ABE            6.0     5.0     4.0     5.0     5.0    2.0    5.0     5.0   \n",
      "ABI            8.0     8.0     8.0     8.0     8.0    6.0    8.0     8.0   \n",
      "ABQ           67.0    56.0    55.0    57.0    57.0   45.0   54.0    56.0   \n",
      "ABR            2.0     2.0     2.0     2.0     2.0    2.0    2.0     2.0   \n",
      "ABY            3.0     3.0     3.0     3.0     3.0    2.0    3.0     3.0   \n",
      "ACT            5.0     5.0     5.0     5.0     5.0    4.0    5.0     5.0   \n",
      "ACV            9.0     9.0     5.0     5.0     5.0    4.0    5.0     5.0   \n",
      "ACY            2.0     2.0     NaN     NaN     NaN    NaN    NaN     NaN   \n",
      "ADK            NaN     NaN     NaN     1.0     NaN    NaN    1.0     NaN   \n",
      "ADQ            1.0     1.0     1.0     1.0     1.0    1.0    1.0     1.0   \n",
      "AEX           10.0     8.0     9.0     9.0     9.0    6.0    8.0     8.0   \n",
      "AGS            7.0     7.0     7.0     7.0     7.0    5.0    7.0     7.0   \n",
      "ALB           26.0    23.0    23.0    22.0    23.0   18.0   22.0    24.0   \n",
      "ALO            2.0     2.0     2.0     2.0     2.0    1.0    2.0     2.0   \n",
      "AMA           20.0    19.0    19.0    20.0    20.0   15.0   18.0    20.0   \n",
      "ANC           42.0    39.0    35.0    40.0    41.0   38.0   38.0    39.0   \n",
      "APN            2.0     2.0     2.0     2.0     2.0    1.0    1.0     2.0   \n",
      "ASE            3.0     3.0     4.0     5.0     5.0    5.0   10.0     5.0   \n",
      "ATL         1053.0  1008.0  1021.0  1030.0  1034.0  743.0  969.0  1030.0   \n",
      "ATW           10.0     8.0     7.0     7.0     7.0    5.0    7.0     6.0   \n",
      "AUS          130.0   119.0   117.0   121.0   121.0   87.0  113.0   121.0   \n",
      "AVL            9.0     8.0     8.0     8.0     8.0    5.0    8.0     8.0   \n",
      "AVP            7.0     5.0     4.0     4.0     4.0    3.0    3.0     4.0   \n",
      "AZO            6.0     5.0     5.0     5.0     5.0    4.0    6.0     5.0   \n",
      "BDL           71.0    63.0    61.0    63.0    63.0   47.0   56.0    62.0   \n",
      "BET            3.0     3.0     3.0     3.0     3.0    2.0    2.0     3.0   \n",
      "BFL            8.0     8.0     8.0     8.0     8.0    6.0    7.0     7.0   \n",
      "BGR            2.0     1.0     NaN     NaN     NaN    NaN    NaN     NaN   \n",
      "BHM           42.0    39.0    38.0    40.0    40.0   24.0   38.0    40.0   \n",
      "BIL            9.0     9.0     6.0     6.0     6.0    5.0    7.0     6.0   \n",
      "...            ...     ...     ...     ...     ...    ...    ...     ...   \n",
      "SPS            4.0     4.0     4.0     4.0     4.0    4.0    4.0     4.0   \n",
      "SRQ           10.0    10.0    10.0    10.0    10.0    9.0   10.0    10.0   \n",
      "STC            2.0     2.0     2.0     2.0     2.0    2.0    2.0     2.0   \n",
      "STL          161.0   148.0   147.0   149.0   148.0   97.0  130.0   148.0   \n",
      "STT           10.0     8.0     9.0    10.0    11.0   16.0   13.0     9.0   \n",
      "STX            3.0     2.0     2.0     2.0     3.0    3.0    3.0     3.0   \n",
      "SUN            2.0     2.0     1.0     2.0     2.0    2.0    2.0     2.0   \n",
      "SUX            2.0     2.0     2.0     2.0     2.0    1.0    2.0     2.0   \n",
      "SWF            2.0     3.0     3.0     3.0     3.0    3.0    3.0     3.0   \n",
      "SYR           22.0    17.0    16.0    14.0    15.0   13.0   15.0    13.0   \n",
      "TLH           13.0    12.0    12.0    12.0    12.0   10.0   12.0    12.0   \n",
      "TOL            3.0     3.0     3.0     3.0     3.0    2.0    3.0     3.0   \n",
      "TPA          202.0   184.0   184.0   186.0   186.0  161.0  175.0   186.0   \n",
      "TRI            6.0     6.0     6.0     6.0     6.0    3.0    6.0     6.0   \n",
      "TTN            9.0    10.0     9.0    10.0     9.0    7.0   10.0     9.0   \n",
      "TUL           53.0    46.0    45.0    46.0    47.0   33.0   47.0    46.0   \n",
      "TUS           52.0    44.0    44.0    47.0    47.0   41.0   48.0    46.0   \n",
      "TVC            9.0     9.0     7.0     7.0     7.0    7.0    8.0     7.0   \n",
      "TWF            2.0     2.0     2.0     2.0     2.0    2.0    2.0     2.0   \n",
      "TXK            3.0     3.0     3.0     3.0     3.0    2.0    3.0     3.0   \n",
      "TYR            8.0     7.0     7.0     8.0     8.0    5.0    8.0     8.0   \n",
      "TYS           28.0    26.0    26.0    26.0    25.0   14.0   25.0    25.0   \n",
      "UST            1.0     1.0     1.0     1.0     1.0    1.0    NaN     1.0   \n",
      "VEL            2.0     2.0     2.0     2.0     2.0    1.0    1.0     2.0   \n",
      "VLD            3.0     3.0     3.0     3.0     3.0    2.0    3.0     3.0   \n",
      "VPS           13.0    12.0    13.0    13.0    13.0   10.0   12.0    13.0   \n",
      "WRG            2.0     2.0     2.0     2.0     2.0    2.0    2.0     2.0   \n",
      "XNA           29.0    29.0    28.0    29.0    29.0   17.0   20.0    29.0   \n",
      "YAK            2.0     2.0     2.0     2.0     2.0    2.0    2.0     2.0   \n",
      "YUM            9.0     9.0     6.0     6.0     6.0    4.0    6.0     5.0   \n",
      "\n",
      "DayofMonth      9       10  ...       22     23     24     25      26     27  \\\n",
      "Origin                      ...                                                \n",
      "ABE            4.0     4.0  ...      3.0    2.0    2.0    2.0     4.0    4.0   \n",
      "ABI            8.0     8.0  ...      8.0    8.0    7.0    8.0     8.0    7.0   \n",
      "ABQ           53.0    54.0  ...     63.0   63.0   55.0   51.0    63.0   61.0   \n",
      "ABR            2.0     2.0  ...      2.0    2.0    2.0    2.0     2.0    2.0   \n",
      "ABY            3.0     3.0  ...      2.0    2.0    2.0    1.0     2.0    2.0   \n",
      "ACT            5.0     5.0  ...      5.0    5.0    5.0    5.0     5.0    5.0   \n",
      "ACV            5.0     5.0  ...      6.0    6.0    4.0    5.0     6.0    6.0   \n",
      "ACY            NaN     NaN  ...      NaN    NaN    NaN    NaN     NaN    NaN   \n",
      "ADK            NaN     NaN  ...      NaN    NaN    NaN    1.0     NaN    NaN   \n",
      "ADQ            1.0     1.0  ...      1.0    1.0    1.0    NaN     1.0    1.0   \n",
      "AEX            8.0     8.0  ...     10.0   10.0    8.0    7.0    10.0   10.0   \n",
      "AGS            7.0     7.0  ...      7.0    7.0    5.0    4.0     8.0    7.0   \n",
      "ALB           23.0    22.0  ...     21.0   22.0   17.0   16.0    21.0   20.0   \n",
      "ALO            2.0     2.0  ...      2.0    2.0    2.0    2.0     2.0    2.0   \n",
      "AMA           19.0    19.0  ...     19.0   19.0   15.0   16.0    19.0   17.0   \n",
      "ANC           39.0    35.0  ...     45.0   44.0   36.0   31.0    44.0   43.0   \n",
      "APN            2.0     2.0  ...      2.0    2.0    2.0    2.0     2.0    1.0   \n",
      "ASE            4.0     4.0  ...     25.0   25.0   19.0   19.0    25.0   28.0   \n",
      "ATL         1012.0  1021.0  ...    985.0  985.0  755.0  730.0  1031.0  932.0   \n",
      "ATW            7.0     7.0  ...      7.0    8.0    5.0    3.0     6.0    5.0   \n",
      "AUS          116.0   117.0  ...    119.0  119.0  100.0   97.0   119.0  114.0   \n",
      "AVL            8.0     8.0  ...      8.0    8.0    7.0    6.0     8.0    7.0   \n",
      "AVP            4.0     4.0  ...      4.0    4.0    2.0    2.0     3.0    3.0   \n",
      "AZO            5.0     6.0  ...      5.0    5.0    5.0    3.0     5.0    4.0   \n",
      "BDL           61.0    62.0  ...     61.0   62.0   52.0   48.0    61.0   56.0   \n",
      "BET            3.0     3.0  ...      3.0    3.0    2.0    NaN     2.0    2.0   \n",
      "BFL            7.0     8.0  ...      9.0    9.0    6.0    6.0     9.0    8.0   \n",
      "BGR            NaN     NaN  ...      NaN    NaN    NaN    NaN     NaN    NaN   \n",
      "BHM           38.0    38.0  ...     37.0   37.0   27.0   26.0    36.0   35.0   \n",
      "BIL            6.0     6.0  ...      8.0    8.0    7.0    6.0    10.0   10.0   \n",
      "...            ...     ...  ...      ...    ...    ...    ...     ...    ...   \n",
      "SPS            4.0     4.0  ...      4.0    4.0    4.0    4.0     4.0    4.0   \n",
      "SRQ           10.0    10.0  ...     12.0   12.0   11.0    9.0    12.0   12.0   \n",
      "STC            2.0     2.0  ...      2.0    2.0    2.0    1.0     2.0    2.0   \n",
      "STL          146.0   147.0  ...    143.0  141.0  103.0  107.0   142.0  127.0   \n",
      "STT            8.0     9.0  ...     15.0   15.0   15.0   16.0    16.0   21.0   \n",
      "STX            2.0     2.0  ...      3.0    3.0    3.0    3.0     3.0    5.0   \n",
      "SUN            2.0     1.0  ...      5.0    5.0    4.0    3.0     5.0    5.0   \n",
      "SUX            2.0     2.0  ...      2.0    2.0    2.0    2.0     2.0    2.0   \n",
      "SWF            3.0     3.0  ...      2.0    2.0    2.0    2.0     2.0    2.0   \n",
      "SYR           14.0    18.0  ...     16.0   17.0   13.0   16.0    15.0   15.0   \n",
      "TLH           12.0    12.0  ...     12.0   12.0   11.0   10.0    12.0   12.0   \n",
      "TOL            3.0     3.0  ...      3.0    3.0    2.0    2.0     2.0    3.0   \n",
      "TPA          179.0   184.0  ...    199.0  195.0  166.0  173.0   204.0  196.0   \n",
      "TRI            6.0     6.0  ...      4.0    5.0    4.0    4.0     6.0    5.0   \n",
      "TTN            9.0     9.0  ...      9.0    9.0    9.0   10.0     9.0    7.0   \n",
      "TUL           45.0    46.0  ...     43.0   43.0   35.0   34.0    42.0   42.0   \n",
      "TUS           43.0    44.0  ...     51.0   51.0   43.0   41.0    52.0   50.0   \n",
      "TVC            7.0     8.0  ...      6.0    6.0    7.0    6.0     6.0    6.0   \n",
      "TWF            2.0     2.0  ...      2.0    2.0    2.0    1.0     2.0    2.0   \n",
      "TXK            3.0     3.0  ...      3.0    3.0    2.0    3.0     3.0    3.0   \n",
      "TYR            7.0     7.0  ...      6.0    6.0    5.0    6.0     6.0    6.0   \n",
      "TYS           26.0    26.0  ...     23.0   24.0   16.0   17.0    24.0   18.0   \n",
      "UST            1.0     1.0  ...      1.0    1.0    1.0    1.0     1.0    1.0   \n",
      "VEL            2.0     2.0  ...      2.0    2.0    2.0    2.0     2.0    1.0   \n",
      "VLD            3.0     3.0  ...      3.0    3.0    2.0    1.0     3.0    3.0   \n",
      "VPS           12.0    13.0  ...     15.0   15.0   13.0   12.0    15.0   15.0   \n",
      "WRG            2.0     2.0  ...      2.0    2.0    2.0    NaN     2.0    2.0   \n",
      "XNA           27.0    28.0  ...     26.0   26.0   18.0   17.0    26.0   20.0   \n",
      "YAK            2.0     2.0  ...      2.0    2.0    2.0    NaN     2.0    2.0   \n",
      "YUM            5.0     6.0  ...      6.0    6.0    6.0    6.0     6.0    5.0   \n",
      "\n",
      "DayofMonth      28     29     30     31  \n",
      "Origin                                   \n",
      "ABE            3.0    3.0    3.0    2.0  \n",
      "ABI            8.0    8.0    8.0    8.0  \n",
      "ABQ           62.0   63.0   63.0   51.0  \n",
      "ABR            2.0    2.0    2.0    2.0  \n",
      "ABY            2.0    2.0    2.0    2.0  \n",
      "ACT            5.0    5.0    5.0    5.0  \n",
      "ACV            6.0    6.0    6.0    4.0  \n",
      "ACY            NaN    NaN    NaN    NaN  \n",
      "ADK            1.0    NaN    NaN    NaN  \n",
      "ADQ            1.0    1.0    1.0    NaN  \n",
      "AEX           10.0   10.0   10.0    9.0  \n",
      "AGS            8.0    7.0    7.0    5.0  \n",
      "ALB           20.0   21.0   21.0   16.0  \n",
      "ALO            2.0    2.0    2.0    2.0  \n",
      "AMA           18.0   19.0   19.0   15.0  \n",
      "ANC           45.0   44.0   43.0   37.0  \n",
      "APN            1.0    2.0    2.0    2.0  \n",
      "ASE           29.0   25.0   25.0   21.0  \n",
      "ATL         1027.0  986.0  989.0  749.0  \n",
      "ATW            6.0    6.0    8.0    4.0  \n",
      "AUS          114.0  119.0  120.0   97.0  \n",
      "AVL            8.0    9.0    9.0    7.0  \n",
      "AVP            3.0    3.0    3.0    2.0  \n",
      "AZO            5.0    5.0    5.0    5.0  \n",
      "BDL           59.0   61.0   62.0   55.0  \n",
      "BET            2.0    3.0    3.0    2.0  \n",
      "BFL            8.0    9.0    9.0    7.0  \n",
      "BGR            NaN    NaN    NaN    NaN  \n",
      "BHM           38.0   37.0   37.0   27.0  \n",
      "BIL           11.0    8.0    8.0    8.0  \n",
      "...            ...    ...    ...    ...  \n",
      "SPS            4.0    4.0    4.0    4.0  \n",
      "SRQ           12.0   12.0   12.0   11.0  \n",
      "STC            2.0    2.0    2.0    2.0  \n",
      "STL          136.0  141.0  139.0  103.0  \n",
      "STT           20.0   15.0   15.0   15.0  \n",
      "STX            3.0    3.0    3.0    3.0  \n",
      "SUN            5.0    5.0    5.0    4.0  \n",
      "SUX            2.0    2.0    2.0    2.0  \n",
      "SWF            2.0    2.0    2.0    2.0  \n",
      "SYR           16.0   15.0   15.0   15.0  \n",
      "TLH           12.0   12.0   12.0   10.0  \n",
      "TOL            3.0    3.0    3.0    3.0  \n",
      "TPA          202.0  201.0  197.0  172.0  \n",
      "TRI            6.0    4.0    4.0    4.0  \n",
      "TTN           10.0    9.0    9.0    9.0  \n",
      "TUL           41.0   42.0   43.0   35.0  \n",
      "TUS           51.0   50.0   50.0   46.0  \n",
      "TVC            6.0    6.0    6.0    6.0  \n",
      "TWF            2.0    2.0    2.0    1.0  \n",
      "TXK            3.0    3.0    3.0    3.0  \n",
      "TYR            6.0    6.0    6.0    6.0  \n",
      "TYS           25.0   23.0   24.0   17.0  \n",
      "UST            NaN    1.0    1.0    1.0  \n",
      "VEL            1.0    2.0    2.0    2.0  \n",
      "VLD            3.0    3.0    3.0    2.0  \n",
      "VPS           15.0   15.0   15.0   13.0  \n",
      "WRG            2.0    2.0    2.0    2.0  \n",
      "XNA           24.0   26.0   25.0   19.0  \n",
      "YAK            2.0    2.0    2.0    2.0  \n",
      "YUM            6.0    6.0    6.0    6.0  \n",
      "\n",
      "[312 rows x 31 columns]\n"
     ]
    },
    {
     "data": {
      "text/plain": [
       "9418"
      ]
     },
     "execution_count": 31,
     "metadata": {},
     "output_type": "execute_result"
    }
   ],
   "source": [
    "arr_air=df.groupby(['Origin','DayofMonth'])\n",
    "print(arr_air.size().unstack())\n",
    "len(dep_air)"
   ]
  },
  {
   "cell_type": "code",
   "execution_count": 60,
   "metadata": {
    "collapsed": true
   },
   "outputs": [],
   "source": [
    "all_airports, airport_inverse, airport_count = np.unique(df['Origin'],return_counts=True,return_inverse=True)\n",
    "\n",
    "# Determine number of flights for the origin airport\n",
    "Nflights_orig = np.zeros(len(airport_inverse))\n",
    "for i in range(len(all_airports)):\n",
    "    Nflights_orig[np.where(airport_inverse==i)] = airport_count[i]\n",
    "    \n",
    "flights_df = df.loc[df.index[Nflights_orig>=3000]]"
   ]
  },
  {
   "cell_type": "code",
   "execution_count": 61,
   "metadata": {
    "collapsed": false
   },
   "outputs": [],
   "source": [
    "all_airports, airport_inverse, airport_count = np.unique(flights_df['Origin'],return_counts=True,return_inverse=True)"
   ]
  },
  {
   "cell_type": "code",
   "execution_count": 44,
   "metadata": {
    "collapsed": false
   },
   "outputs": [
    {
     "data": {
      "text/plain": [
       "array([  2994.,  29951.,  13299., ...,  17802.,  29951.,   3899.])"
      ]
     },
     "execution_count": 44,
     "metadata": {},
     "output_type": "execute_result"
    }
   ],
   "source": [
    "Nflights_orig"
   ]
  },
  {
   "cell_type": "code",
   "execution_count": 62,
   "metadata": {
    "collapsed": false
   },
   "outputs": [
    {
     "name": "stdout",
     "output_type": "stream",
     "text": [
      "['ATL' 'AUS' 'BNA' 'BOS' 'BWI' 'CLE' 'CLT' 'DAL' 'DCA' 'DEN' 'DFW' 'DTW'\n",
      " 'EWR' 'FLL' 'HNL' 'HOU' 'IAD' 'IAH' 'JFK' 'LAS' 'LAX' 'LGA' 'MCI' 'MCO'\n",
      " 'MDW' 'MIA' 'MSP' 'MSY' 'OAK' 'ORD' 'PDX' 'PHL' 'PHX' 'SAN' 'SEA' 'SFO'\n",
      " 'SJC' 'SLC' 'SMF' 'SNA' 'STL' 'TPA']\n",
      "42\n"
     ]
    }
   ],
   "source": [
    "print(all_airports)\n",
    "print(len(all_airports))\n"
   ]
  },
  {
   "cell_type": "code",
   "execution_count": 39,
   "metadata": {
    "collapsed": false
   },
   "outputs": [
    {
     "data": {
      "text/plain": [
       "array([248,  18, 230, ..., 169,  18, 227], dtype=int64)"
      ]
     },
     "execution_count": 39,
     "metadata": {},
     "output_type": "execute_result"
    }
   ],
   "source": [
    "airport_inverse"
   ]
  },
  {
   "cell_type": "code",
   "execution_count": 73,
   "metadata": {
    "collapsed": false
   },
   "outputs": [
    {
     "data": {
      "text/plain": [
       "OriginState  Origin\n",
       "AZ           PHX       13299\n",
       "CA           LAX       17802\n",
       "             OAK        3638\n",
       "             SAN        6333\n",
       "             SFO       13816\n",
       "             SJC        3433\n",
       "             SMF        3411\n",
       "             SNA        3258\n",
       "CO           DEN       18232\n",
       "FL           FLL        6022\n",
       "             MCO        9739\n",
       "             MIA        6878\n",
       "             TPA        5770\n",
       "GA           ATL       29951\n",
       "HI           HNL        3993\n",
       "IL           MDW        7187\n",
       "             ORD       23481\n",
       "LA           MSY        3307\n",
       "MA           BOS        8887\n",
       "MD           BWI        7381\n",
       "MI           DTW        8689\n",
       "MN           MSP        8421\n",
       "MO           MCI        3432\n",
       "             STL        4216\n",
       "NC           CLT        9531\n",
       "NJ           EWR        9155\n",
       "NV           LAS       10742\n",
       "NY           JFK        8589\n",
       "             LGA        9221\n",
       "OH           CLE        3041\n",
       "OR           PDX        3899\n",
       "PA           PHL        5733\n",
       "TN           BNA        4430\n",
       "TX           AUS        3544\n",
       "             DAL        5046\n",
       "             DFW       23059\n",
       "             HOU        4850\n",
       "             IAH       14129\n",
       "UT           SLC        8820\n",
       "VA           DCA        6464\n",
       "             IAD        4354\n",
       "WA           SEA        8985\n",
       "dtype: int64"
      ]
     },
     "execution_count": 73,
     "metadata": {},
     "output_type": "execute_result"
    }
   ],
   "source": [
    "a=flights_df.groupby(['OriginState','Origin'])\n",
    "a.size()"
   ]
  },
  {
   "cell_type": "code",
   "execution_count": 40,
   "metadata": {
    "collapsed": false
   },
   "outputs": [
    {
     "data": {
      "text/plain": [
       "array([  120,   241,  1764,    62,    78,   153,   170,     4,     8,\n",
       "          29,   274,   209,   664,    60,   572,  1253,    54,   435,\n",
       "       29951,   201,  3544,   238,   114,   155,  1856,    79,   240,\n",
       "           3,  1122,   226,   264,    62,   101,   231,  4430,   981,\n",
       "        8887,    92,    83,   131,    77,   206,    78,    62,   689,\n",
       "         386,  1420,  1715,  7381,   290,   554,   596,    53,    60,\n",
       "          59,   345,   186,  1020,     6,   618,    58,   203,  3041,\n",
       "         205,  9531,  2122,   208,    62,    51,    62,   686,   124,\n",
       "         202,   549,   208,    79,  1857,   117,   123,  5046,   736,\n",
       "          74,  6464, 18232, 23059,   116,   131,   145,   152,   781,\n",
       "        8689,    50,    62,   241,   165,    80,   146,  1141,    62,\n",
       "          51,   393,   293,    59,  9155,   302,   154,   450,   739,\n",
       "         154,    88,   128,  6022,   419,   551,   196,   358,   120,\n",
       "          62,   849,    31,    59,   331,   222,   347,   399,    58,\n",
       "         399,   955,   769,   592,   171,    78,    83,    31,    78,\n",
       "          55,   103,  3993,    52,  4850,   700,   285,   473,    53,\n",
       "        4354, 14129,   718,   224,    21,   154,    58,  2308,    54,\n",
       "         254,   398,   517,   317,   628,  1789,  8589,    59,    77,\n",
       "         295,   967,   184,   155,    61, 10742,   138, 17802,   507,\n",
       "         152,   509,   508,  9221,   830,   988,   984,   199,   207,\n",
       "         108,    59,   817,   145,  3432,     1,  9739,   253,  7187,\n",
       "          85,  1295,   370,   265,   291,   155,   524,  6878,  2703,\n",
       "          62,   119,   369,   268,    21,   451,   138,    27,   309,\n",
       "         857,   172,  8421,  3307,   116,   115,    98,  3638,  1931,\n",
       "        1550,  1544,    59,  1681, 23481,   820,    62,    16,    59,\n",
       "          61,  2321,  3899,   160,  5733, 13299,   376,    54,    84,\n",
       "        2179,    54,   686,    11,   196,    82,    60,  1062,    54,\n",
       "        1023,   286,   261,    92,   177,  2994,    89,  1418,   119,\n",
       "        1172,   141,   656,    90,   175,  2485,   143,  6333,  2806,\n",
       "         759,   626,   372,   412,    79,    73,  1010,  8985, 13816,\n",
       "         564,   140,   568,    92,  3433,   152,  2397,  8820,  3411,\n",
       "          76,  3258,   150,   124,   327,    61,  4216,   410,    89,\n",
       "          94,    60,    81,   474,   362,    88,  5770,   165,   279,\n",
       "        1335,  1464,   215,    60,    90,   208,   726,    27,    54,\n",
       "          87,   412,    60,   772,    60,   182], dtype=int64)"
      ]
     },
     "execution_count": 40,
     "metadata": {},
     "output_type": "execute_result"
    }
   ],
   "source": [
    "airport_count"
   ]
  },
  {
   "cell_type": "code",
   "execution_count": 75,
   "metadata": {
    "collapsed": false
   },
   "outputs": [],
   "source": [
    "# seperate by the airport\n",
    "all_airports, airport_inverse, airport_count = np.unique(flights_df['Origin'],return_counts=True,return_inverse=True)\n",
    "\n",
    "airport_dfs = {}\n",
    "for k in all_airports:\n",
    "    airport_dfs[k] = flights_df[flights_df['Origin']==k]"
   ]
  },
  {
   "cell_type": "code",
   "execution_count": 77,
   "metadata": {
    "collapsed": false
   },
   "outputs": [
    {
     "ename": "ModuleNotFoundError",
     "evalue": "No module named 'util'",
     "output_type": "error",
     "traceback": [
      "\u001b[0;31m---------------------------------------------------------------------------\u001b[0m",
      "\u001b[0;31mModuleNotFoundError\u001b[0m                       Traceback (most recent call last)",
      "\u001b[0;32m<ipython-input-77-5fd883fd5ee3>\u001b[0m in \u001b[0;36m<module>\u001b[0;34m()\u001b[0m\n\u001b[0;32m----> 1\u001b[0;31m \u001b[1;32mimport\u001b[0m \u001b[0mutil\u001b[0m\u001b[1;33m\u001b[0m\u001b[0m\n\u001b[0m\u001b[1;32m      2\u001b[0m \u001b[0manalysis_fn\u001b[0m \u001b[1;33m=\u001b[0m \u001b[0mutil\u001b[0m\u001b[1;33m.\u001b[0m\u001b[0mrelation_mean\u001b[0m\u001b[1;33m\u001b[0m\u001b[0m\n\u001b[1;32m      3\u001b[0m \u001b[1;31m#aps = ['SAN','LAX','SEA','LGA','ORD','MIA']\u001b[0m\u001b[1;33m\u001b[0m\u001b[1;33m\u001b[0m\u001b[0m\n\u001b[1;32m      4\u001b[0m \u001b[0maps\u001b[0m \u001b[1;33m=\u001b[0m \u001b[1;33m[\u001b[0m\u001b[1;34m'JFK'\u001b[0m\u001b[1;33m,\u001b[0m\u001b[1;34m'AUS'\u001b[0m\u001b[1;33m,\u001b[0m\u001b[1;34m'HOU'\u001b[0m\u001b[1;33m,\u001b[0m\u001b[1;34m'DEN'\u001b[0m\u001b[1;33m,\u001b[0m\u001b[1;34m'MSP'\u001b[0m\u001b[1;33m]\u001b[0m\u001b[1;33m\u001b[0m\u001b[0m\n\u001b[1;32m      5\u001b[0m \u001b[0my_by_x_mean\u001b[0m \u001b[1;33m=\u001b[0m \u001b[1;33m{\u001b[0m\u001b[1;33m}\u001b[0m\u001b[1;33m\u001b[0m\u001b[0m\n",
      "\u001b[0;31mModuleNotFoundError\u001b[0m: No module named 'util'"
     ]
    }
   ],
   "source": []
  }
 ],
 "metadata": {
  "kernelspec": {
   "display_name": "Python 3",
   "language": "python",
   "name": "python3"
  },
  "language_info": {
   "codemirror_mode": {
    "name": "ipython",
    "version": 3
   },
   "file_extension": ".py",
   "mimetype": "text/x-python",
   "name": "python",
   "nbconvert_exporter": "python",
   "pygments_lexer": "ipython3",
   "version": "3.6.0"
  }
 },
 "nbformat": 4,
 "nbformat_minor": 2
}
