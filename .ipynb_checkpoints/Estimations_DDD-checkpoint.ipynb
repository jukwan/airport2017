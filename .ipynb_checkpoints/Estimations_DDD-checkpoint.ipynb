{
 "cells": [
  {
   "cell_type": "markdown",
   "metadata": {},
   "source": [
    "# Delay estimation"
   ]
  },
  {
   "cell_type": "markdown",
   "metadata": {},
   "source": [
    "## 1. Load the data"
   ]
  },
  {
   "cell_type": "code",
   "execution_count": 31,
   "metadata": {
    "collapsed": false
   },
   "outputs": [],
   "source": [
    "import numpy as np\n",
    "import pandas as pd\n",
    "import datetime as datetime\n",
    "import os\n",
    "import matplotlib.pyplot as plt\n",
    "from matplotlib import style\n",
    "style.use('fivethirtyeight')\n",
    "%matplotlib inline\n",
    "import statsmodels.api as sm\n",
    "import statsmodels.formula.api as smf\n",
    "# from IPython.core.interactiveshell import InteractiveShell # show all results of commands\n",
    "# InteractiveShell.ast_node_interactivity = \"all\"\n"
   ]
  },
  {
   "cell_type": "code",
   "execution_count": 32,
   "metadata": {
    "collapsed": false
   },
   "outputs": [
    {
     "name": "stderr",
     "output_type": "stream",
     "text": [
      "C:\\Users\\Jukwan\\Anaconda3\\lib\\site-packages\\IPython\\core\\interactiveshell.py:2717: DtypeWarning: Columns (80,84,86,88,90,92,94,96,98,104,116) have mixed types. Specify dtype option on import or set low_memory=False.\n",
      "  interactivity=interactivity, compiler=compiler, result=result)\n"
     ]
    }
   ],
   "source": [
    "path= 'F:\\\\Dropbox\\\\Flight\\\\DATA\\\\cleaned_data' #for load the data\n",
    "df= pd.read_csv(path+'\\\\prepared_data.csv', parse_dates=['time','S_Dep_time','S_Arr_time'])\n",
    "#parse data help the conversion string to datetime dtype."
   ]
  },
  {
   "cell_type": "code",
   "execution_count": 33,
   "metadata": {
    "collapsed": false
   },
   "outputs": [
    {
     "name": "stdout",
     "output_type": "stream",
     "text": [
      "0.0    842990\n",
      "1.0      1734\n",
      "Name: Diverted, dtype: int64\n",
      "0.0    831698\n",
      "1.0     13026\n",
      "Name: Cancelled, dtype: int64\n"
     ]
    }
   ],
   "source": [
    "print(df['Diverted'].value_counts())\n",
    "\n",
    "print(df['Cancelled'].value_counts())\n",
    "df=df[df['Cancelled']==0]\n"
   ]
  },
  {
   "cell_type": "code",
   "execution_count": 34,
   "metadata": {
    "collapsed": false
   },
   "outputs": [
    {
     "name": "stdout",
     "output_type": "stream",
     "text": [
      "0.0    829964\n",
      "Name: Diverted, dtype: int64\n"
     ]
    }
   ],
   "source": [
    "len(df)\n",
    "df= df[df['Diverted']==0]\n",
    "print(df['Diverted'].value_counts())"
   ]
  },
  {
   "cell_type": "markdown",
   "metadata": {},
   "source": [
    "## 2. Make dummy variables for"
   ]
  },
  {
   "cell_type": "code",
   "execution_count": 35,
   "metadata": {
    "collapsed": false
   },
   "outputs": [
    {
     "name": "stdout",
     "output_type": "stream",
     "text": [
      "0    BOS\n",
      "1    BOS\n",
      "2    BOS\n",
      "3    BOS\n",
      "4    BOS\n",
      "Name: airport, dtype: object\n"
     ]
    }
   ],
   "source": [
    " \n",
    "# 1. make dictionary \n",
    "city_to_dic={ 'BOS': 'North', 'PVD' :'North', 'MHT':'North', 'ORH': 'North', \\\n",
    "             'LAX' : 'South', 'LGB':'South', 'BUR':'South','SNA':'South' }\n",
    "# 2. maping the function\n",
    "# print(df['Diverted'].value_counts())\n",
    "# df=df[df['Diverted']==0]\n",
    "\n",
    "df['loca_dep']= df['Dest'].map(city_to_dic)\n",
    "df['loca_arr']= df['Origin'].map(city_to_dic)\n",
    "# print(df['loca_dep'].value_counts())\n",
    "# print(df['loca_arr'].value_counts())\n",
    "# location north = 1 or south =0\n",
    "\n",
    "mask = (df['loca_dep']=='North')|(df['loca_arr']=='North')\n",
    "df['north'] =mask.astype(int)\n",
    "# df['north'].value_counts()\n",
    "# dep: data set split  departure = 1 arrrival = 0\n",
    "# print(df['con'].value_counts())\n",
    "\n",
    "\n",
    "## use the delay at 8 airports\n",
    "df['airport']= np.where(df['con']=='Dep', df['Origin'],df['Dest'])\n",
    "print(df['airport'].head())\n",
    "df['delay']=np.where(df['con']=='Dep', df['DepDelay'],df['ArrDelay'])\n",
    "\n",
    "df['taxitime']= np.where(df['con']=='Dep', df['TaxiOut'],df['TaxiIn'])\n",
    "## Snow if weather type contain any SN \n",
    "mask =df['WeatherType'].str.contains(\"SN\", na=False)\n",
    "df['snow'] =mask.astype(int)\n",
    "df['snow'].value_counts()\n",
    "\n",
    "df['temp']=pd.to_numeric(df.DryBulbFarenheit, errors='coerce')\n",
    "# print(df['temp'].value_counts())\n",
    "# # df['temp']# # M is missin\n",
    "df['HourlyPrecip']=df['HourlyPrecip'].str.replace('T', '0.005')\n",
    "df['HourlyPrecip'].value_counts()\n",
    "df['precip']=pd.to_numeric(df['HourlyPrecip'], errors='coerce')\n",
    "# #how much of data is missing\n",
    "df['precip'].value_counts()\n",
    "df['precip']=np.nan_to_num(df['precip']) # Nan chage to '0'\n",
    "df['vis']= pd.to_numeric(df.Visibility, errors='coerce')\n",
    "\n",
    "## winter and summer\n",
    "\n",
    "mask= (df.Month== 11)|(df.Month== 12)|(df.Month== 1)|(df.Month==2)|(df.Month== 3)\n",
    "df['winter']= mask.astype(int)\n",
    "\n",
    "## give id to airport\n",
    "\n",
    "df['airs'] = df['airport'].astype('category')\n",
    "\n",
    "df['airs'].dtypes\n",
    "df['airs_cat']= df['airs'].cat.codes\n",
    "# df['airs_cat'].value_counts()"
   ]
  },
  {
   "cell_type": "code",
   "execution_count": 36,
   "metadata": {
    "collapsed": false
   },
   "outputs": [],
   "source": [
    "df['FlightDate']=pd.to_datetime(df['FlightDate'])\n",
    "# print(df.FlightDate)\n",
    "df['DateStr']=df['FlightDate'].apply(lambda x: x.strftime('%Y%m%d'))\n"
   ]
  },
  {
   "cell_type": "code",
   "execution_count": 37,
   "metadata": {
    "collapsed": false
   },
   "outputs": [
    {
     "data": {
      "text/plain": [
       "0   2014-10-21\n",
       "1   2014-10-21\n",
       "2   2014-10-21\n",
       "Name: FlightDate, dtype: datetime64[ns]"
      ]
     },
     "execution_count": 37,
     "metadata": {},
     "output_type": "execute_result"
    }
   ],
   "source": [
    "df['FlightDate'].head(3)"
   ]
  },
  {
   "cell_type": "code",
   "execution_count": 38,
   "metadata": {
    "collapsed": false
   },
   "outputs": [],
   "source": [
    "# snow_airport = df.pivot_table(index='Month', columns='airport', values='snow', aggfunc='sum')\n",
    "# snow_airport.head(12)"
   ]
  },
  {
   "cell_type": "code",
   "execution_count": null,
   "metadata": {
    "collapsed": true
   },
   "outputs": [],
   "source": []
  },
  {
   "cell_type": "code",
   "execution_count": 39,
   "metadata": {
    "collapsed": false
   },
   "outputs": [],
   "source": [
    "### dummies for airport\n",
    "s = pd.get_dummies(df.airport)\n",
    "df= df.join(s)"
   ]
  },
  {
   "cell_type": "code",
   "execution_count": 40,
   "metadata": {
    "collapsed": false
   },
   "outputs": [
    {
     "data": {
      "text/plain": [
       "False    829964\n",
       "Name: delay, dtype: int64"
      ]
     },
     "execution_count": 40,
     "metadata": {},
     "output_type": "execute_result"
    }
   ],
   "source": [
    "len(df.delay)\n",
    "mask =df.delay.isnull()\n",
    "mask.value_counts()"
   ]
  },
  {
   "cell_type": "code",
   "execution_count": 41,
   "metadata": {
    "collapsed": false
   },
   "outputs": [
    {
     "data": {
      "text/plain": [
       "2    432448\n",
       "0    218751\n",
       "7     77523\n",
       "1     41299\n",
       "6     23742\n",
       "3     21750\n",
       "4     13090\n",
       "5      1361\n",
       "Name: airs_cat, dtype: int64"
      ]
     },
     "execution_count": 41,
     "metadata": {},
     "output_type": "execute_result"
    }
   ],
   "source": [
    "df['airs'].dtypes\n",
    "df['airs_cat']= df['airs'].cat.codes\n",
    "df['airs_cat'].value_counts()"
   ]
  },
  {
   "cell_type": "code",
   "execution_count": null,
   "metadata": {
    "collapsed": true
   },
   "outputs": [],
   "source": []
  },
  {
   "cell_type": "code",
   "execution_count": 42,
   "metadata": {
    "collapsed": false
   },
   "outputs": [],
   "source": [
    "df_dep = df[df['con']=='Dep']\n",
    "df_arr = df[df['con']=='Arr']\n"
   ]
  },
  {
   "cell_type": "code",
   "execution_count": 43,
   "metadata": {
    "collapsed": true
   },
   "outputs": [],
   "source": [
    "## ** show north/south snow/"
   ]
  },
  {
   "cell_type": "markdown",
   "metadata": {},
   "source": [
    "## 3. Estimations\n",
    "    Difference in Difference in Difference\n",
    "### 3.1 Identification of snow effect.\n",
    "    \n",
    "    First difference : between Winter and Summer\n",
    "    Second difference : between North and South\n",
    "    Last difference : between snowday and others\n",
    "    Issue: south has no snow. -> \n",
    "   \n",
    "### 3.2 define treatment.\n",
    "    Treat: snow\n",
    "    Treatment group : airport in north\n",
    "    control group : airport in south.\n",
    "    time: winter/summer.\n",
    "    \n"
   ]
  },
  {
   "cell_type": "markdown",
   "metadata": {},
   "source": [
    "\\begin{align}\n",
    "Delay_{ijt} = & \\alpha + \\beta_1 X_{ijt}+\\beta_2 North+ \\beta_3 Winter + \\beta_4 Snow+\\\\\n",
    "&  \\beta_5 (North*Winter) +\\beta_6(North*Snow) +\\beta_7(Winter * Snow)+ \\\\\n",
    "& \\beta_8(North*Winter*Snow) \n",
    "\\end{align}\n"
   ]
  },
  {
   "cell_type": "code",
   "execution_count": 44,
   "metadata": {
    "collapsed": false
   },
   "outputs": [],
   "source": [
    "#set panel data using multi indexing.\n",
    "df.drop(['Unnamed: 0', 'Unnamed: 0.1'],axis =1, inplace= True)\n",
    "df.set_index(['airport','FlightDate'],drop = False, inplace= True)"
   ]
  },
  {
   "cell_type": "code",
   "execution_count": 45,
   "metadata": {
    "collapsed": true
   },
   "outputs": [],
   "source": [
    "df['north_winter']= df['north']*df['winter']\n",
    "df['north_snow']= df['north']*df['snow']\n",
    "df['winter_snow']= df['winter']*df['snow']\n",
    "df['n_w_snow']= df['winter']*df['north']*df['snow']"
   ]
  },
  {
   "cell_type": "code",
   "execution_count": 46,
   "metadata": {
    "collapsed": false
   },
   "outputs": [],
   "source": [
    "a=df\n",
    "a.to_csv(\"a.csv\")"
   ]
  },
  {
   "cell_type": "markdown",
   "metadata": {},
   "source": [
    "### Delay (in minutes)"
   ]
  },
  {
   "cell_type": "code",
   "execution_count": 47,
   "metadata": {
    "collapsed": false
   },
   "outputs": [
    {
     "name": "stdout",
     "output_type": "stream",
     "text": [
      "                            OLS Regression Results                            \n",
      "==============================================================================\n",
      "Dep. Variable:                  delay   R-squared:                       0.011\n",
      "Model:                            OLS   Adj. R-squared:                  0.011\n",
      "Method:                 Least Squares   F-statistic:                     366.0\n",
      "Date:                Tue, 07 Nov 2017   Prob (F-statistic):               0.00\n",
      "Time:                        13:33:11   Log-Likelihood:            -4.0885e+06\n",
      "No. Observations:              823546   AIC:                         8.177e+06\n",
      "Df Residuals:                  823519   BIC:                         8.177e+06\n",
      "Df Model:                          26                                         \n",
      "Covariance Type:            nonrobust                                         \n",
      "=====================================================================================\n",
      "                        coef    std err          t      P>|t|      [95.0% Conf. Int.]\n",
      "-------------------------------------------------------------------------------------\n",
      "Intercept            18.0088      0.455     39.589      0.000        17.117    18.900\n",
      "C(Month)[T.2]         4.8721      0.199     24.434      0.000         4.481     5.263\n",
      "C(Month)[T.3]         3.1240      0.191     16.333      0.000         2.749     3.499\n",
      "C(Month)[T.4]        -0.2501      0.132     -1.889      0.059        -0.510     0.009\n",
      "C(Month)[T.5]         2.4970      0.133     18.720      0.000         2.236     2.758\n",
      "C(Month)[T.6]         6.1573      0.135     45.663      0.000         5.893     6.422\n",
      "C(Month)[T.7]         6.4300      0.146     44.101      0.000         6.144     6.716\n",
      "C(Month)[T.8]         4.0585      0.141     28.815      0.000         3.782     4.335\n",
      "C(Month)[T.9]        -0.4085      0.145     -2.810      0.005        -0.693    -0.124\n",
      "C(Month)[T.10]        0.3577      0.134      2.669      0.008         0.095     0.620\n",
      "C(Month)[T.11]        1.1279      0.197      5.715      0.000         0.741     1.515\n",
      "C(Month)[T.12]        5.5257      0.192     28.813      0.000         5.150     5.902\n",
      "C(airport)[T.BUR]    -0.3110      0.431     -0.721      0.471        -1.156     0.534\n",
      "C(airport)[T.LAX]     1.0684      0.391      2.730      0.006         0.301     1.835\n",
      "C(airport)[T.LGB]    -4.2120      0.458     -9.196      0.000        -5.110    -3.314\n",
      "C(airport)[T.MHT]     0.3222      0.313      1.031      0.303        -0.290     0.935\n",
      "C(airport)[T.ORH]    -3.3447      0.944     -3.542      0.000        -5.195    -1.494\n",
      "C(airport)[T.PVD]    -0.0521      0.237     -0.220      0.826        -0.517     0.413\n",
      "C(airport)[T.SNA]    -1.1161      0.415     -2.692      0.007        -1.929    -0.304\n",
      "north_winter         -2.8490      0.205    -13.890      0.000        -3.251    -2.447\n",
      "north_snow            0.2153     10.007      0.022      0.983       -19.398    19.829\n",
      "winter_snow           5.6474     10.009      0.564      0.573       -13.969    25.264\n",
      "n_w_snow              5.6474     10.009      0.564      0.573       -13.969    25.264\n",
      "temp                 -0.1343      0.005    -26.791      0.000        -0.144    -0.124\n",
      "vis                  -0.3927      0.022    -17.631      0.000        -0.436    -0.349\n",
      "Distance             -0.0011   4.99e-05    -21.307      0.000        -0.001    -0.001\n",
      "precip               97.4092      3.352     29.062      0.000        90.840   103.979\n",
      "north                -0.9930      0.387     -2.569      0.010        -1.751    -0.235\n",
      "winter               -0.8332      0.143     -5.843      0.000        -1.113    -0.554\n",
      "snow                  0.2153     10.007      0.022      0.983       -19.398    19.829\n",
      "==============================================================================\n",
      "Omnibus:                  1041413.620   Durbin-Watson:                   1.755\n",
      "Prob(Omnibus):                  0.000   Jarque-Bera (JB):        431948015.526\n",
      "Skew:                           6.644   Prob(JB):                         0.00\n",
      "Kurtosis:                     114.406   Cond. No.                     1.27e+16\n",
      "==============================================================================\n",
      "\n",
      "Warnings:\n",
      "[1] Standard Errors assume that the covariance matrix of the errors is correctly specified.\n",
      "[2] The smallest eigenvalue is 8.76e-21. This might indicate that there are\n",
      "strong multicollinearity problems or that the design matrix is singular.\n"
     ]
    }
   ],
   "source": [
    "Xs= \"temp+vis+Distance+precip+north+winter+snow\"\n",
    "reg= smf.ols('delay ~ north_winter + north_snow + winter_snow + n_w_snow+C(Month)+C(airport)+' +Xs, data=df).fit()\n",
    "print (reg.summary())"
   ]
  },
  {
   "cell_type": "markdown",
   "metadata": {},
   "source": [
    "- *n_w_snow: third_level interaction coefficients shows that snowfall increases 5.64 min of delay for the treatment airport.*"
   ]
  },
  {
   "cell_type": "markdown",
   "metadata": {},
   "source": [
    "### Weather delay"
   ]
  },
  {
   "cell_type": "code",
   "execution_count": 48,
   "metadata": {
    "collapsed": false
   },
   "outputs": [
    {
     "name": "stdout",
     "output_type": "stream",
     "text": [
      "                            OLS Regression Results                            \n",
      "==============================================================================\n",
      "Dep. Variable:           WeatherDelay   R-squared:                       0.008\n",
      "Model:                            OLS   Adj. R-squared:                  0.008\n",
      "Method:                 Least Squares   F-statistic:                     52.52\n",
      "Date:                Tue, 07 Nov 2017   Prob (F-statistic):          8.80e-271\n",
      "Time:                        13:33:17   Log-Likelihood:            -6.9486e+05\n",
      "No. Observations:              169059   AIC:                         1.390e+06\n",
      "Df Residuals:                  169032   BIC:                         1.390e+06\n",
      "Df Model:                          26                                         \n",
      "Covariance Type:            nonrobust                                         \n",
      "=====================================================================================\n",
      "                        coef    std err          t      P>|t|      [95.0% Conf. Int.]\n",
      "-------------------------------------------------------------------------------------\n",
      "Intercept             3.5867      0.425      8.438      0.000         2.754     4.420\n",
      "C(Month)[T.2]         1.1801      0.181      6.527      0.000         0.826     1.534\n",
      "C(Month)[T.3]        -0.3093      0.178     -1.734      0.083        -0.659     0.040\n",
      "C(Month)[T.4]        -0.2356      0.130     -1.811      0.070        -0.491     0.019\n",
      "C(Month)[T.5]         0.4300      0.127      3.382      0.001         0.181     0.679\n",
      "C(Month)[T.6]         0.4122      0.120      3.422      0.001         0.176     0.648\n",
      "C(Month)[T.7]         1.1600      0.134      8.645      0.000         0.897     1.423\n",
      "C(Month)[T.8]         0.9169      0.133      6.893      0.000         0.656     1.178\n",
      "C(Month)[T.9]         0.2171      0.156      1.393      0.164        -0.088     0.523\n",
      "C(Month)[T.10]       -0.0776      0.136     -0.571      0.568        -0.344     0.188\n",
      "C(Month)[T.11]       -0.5203      0.194     -2.679      0.007        -0.901    -0.140\n",
      "C(Month)[T.12]       -1.2597      0.174     -7.258      0.000        -1.600    -0.919\n",
      "C(airport)[T.BUR]    -0.0672      0.414     -0.162      0.871        -0.879     0.745\n",
      "C(airport)[T.LAX]    -0.3109      0.372     -0.836      0.403        -1.040     0.418\n",
      "C(airport)[T.LGB]    -0.4504      0.461     -0.978      0.328        -1.353     0.452\n",
      "C(airport)[T.MHT]     0.6376      0.301      2.117      0.034         0.047     1.228\n",
      "C(airport)[T.ORH]    -1.8354      0.932     -1.969      0.049        -3.662    -0.009\n",
      "C(airport)[T.PVD]    -0.1835      0.227     -0.807      0.420        -0.629     0.262\n",
      "C(airport)[T.SNA]    -0.3374      0.397     -0.850      0.395        -1.115     0.440\n",
      "north_winter         -0.8853      0.195     -4.531      0.000        -1.268    -0.502\n",
      "north_snow           -1.5963      7.377     -0.216      0.829       -16.056    12.863\n",
      "n_w_snow              6.9656     14.756      0.472      0.637       -21.957    35.888\n",
      "temp                 -0.0143      0.005     -3.035      0.002        -0.024    -0.005\n",
      "vis                  -0.2088      0.019    -10.912      0.000        -0.246    -0.171\n",
      "Distance              0.0005   4.69e-05     11.170      0.000         0.000     0.001\n",
      "precip                6.9275      2.163      3.203      0.001         2.688    11.167\n",
      "north                 0.4146      0.369      1.124      0.261        -0.309     1.138\n",
      "winter                0.7637      0.138      5.533      0.000         0.493     1.034\n",
      "snow                 -1.5963      7.377     -0.216      0.829       -16.056    12.863\n",
      "==============================================================================\n",
      "Omnibus:                   396920.676   Durbin-Watson:                   1.853\n",
      "Prob(Omnibus):                  0.000   Jarque-Bera (JB):       7036375567.103\n",
      "Skew:                          23.341   Prob(JB):                         0.00\n",
      "Kurtosis:                    1001.359   Cond. No.                     1.27e+16\n",
      "==============================================================================\n",
      "\n",
      "Warnings:\n",
      "[1] Standard Errors assume that the covariance matrix of the errors is correctly specified.\n",
      "[2] The smallest eigenvalue is 1.79e-21. This might indicate that there are\n",
      "strong multicollinearity problems or that the design matrix is singular.\n"
     ]
    }
   ],
   "source": [
    "Xs= \"temp+vis+Distance+precip+north+winter+snow\"\n",
    "reg= smf.ols('WeatherDelay ~ north_winter + north_snow + n_w_snow+C(Month)+C(airport)+' +Xs, data=df).fit()\n",
    "print (reg.summary())"
   ]
  },
  {
   "cell_type": "markdown",
   "metadata": {},
   "source": [
    "### Runway Delay"
   ]
  },
  {
   "cell_type": "markdown",
   "metadata": {},
   "source": []
  },
  {
   "cell_type": "code",
   "execution_count": 49,
   "metadata": {
    "collapsed": false
   },
   "outputs": [
    {
     "name": "stdout",
     "output_type": "stream",
     "text": [
      "                            OLS Regression Results                            \n",
      "==============================================================================\n",
      "Dep. Variable:               taxitime   R-squared:                       0.087\n",
      "Model:                            OLS   Adj. R-squared:                  0.087\n",
      "Method:                 Least Squares   F-statistic:                     3007.\n",
      "Date:                Tue, 07 Nov 2017   Prob (F-statistic):               0.00\n",
      "Time:                        13:33:26   Log-Likelihood:            -2.8834e+06\n",
      "No. Observations:              823546   AIC:                         5.767e+06\n",
      "Df Residuals:                  823519   BIC:                         5.767e+06\n",
      "Df Model:                          26                                         \n",
      "Covariance Type:            nonrobust                                         \n",
      "=====================================================================================\n",
      "                        coef    std err          t      P>|t|      [95.0% Conf. Int.]\n",
      "-------------------------------------------------------------------------------------\n",
      "Intercept            14.5897      0.105    138.564      0.000        14.383    14.796\n",
      "C(Month)[T.2]         0.3174      0.046      6.878      0.000         0.227     0.408\n",
      "C(Month)[T.3]         0.8478      0.044     19.149      0.000         0.761     0.935\n",
      "C(Month)[T.4]         1.4806      0.031     48.323      0.000         1.421     1.541\n",
      "C(Month)[T.5]         1.5629      0.031     50.624      0.000         1.502     1.623\n",
      "C(Month)[T.6]         1.8816      0.031     60.288      0.000         1.820     1.943\n",
      "C(Month)[T.7]         2.5311      0.034     75.000      0.000         2.465     2.597\n",
      "C(Month)[T.8]         2.2920      0.033     70.304      0.000         2.228     2.356\n",
      "C(Month)[T.9]         1.5399      0.034     45.761      0.000         1.474     1.606\n",
      "C(Month)[T.10]        1.5631      0.031     50.376      0.000         1.502     1.624\n",
      "C(Month)[T.11]        0.0416      0.046      0.910      0.363        -0.048     0.131\n",
      "C(Month)[T.12]        0.2506      0.044      5.646      0.000         0.164     0.338\n",
      "C(airport)[T.BUR]    -6.0979      0.100    -61.091      0.000        -6.294    -5.902\n",
      "C(airport)[T.LAX]    -0.0654      0.091     -0.722      0.470        -0.243     0.112\n",
      "C(airport)[T.LGB]    -5.0971      0.106    -48.077      0.000        -5.305    -4.889\n",
      "C(airport)[T.MHT]    -4.6052      0.072    -63.661      0.000        -4.747    -4.463\n",
      "C(airport)[T.ORH]    -5.4403      0.219    -24.891      0.000        -5.869    -5.012\n",
      "C(airport)[T.PVD]    -4.5285      0.055    -82.468      0.000        -4.636    -4.421\n",
      "C(airport)[T.SNA]    -4.8284      0.096    -50.320      0.000        -5.017    -4.640\n",
      "north_winter         -0.3617      0.047     -7.618      0.000        -0.455    -0.269\n",
      "north_snow           -2.8557      2.316     -1.233      0.218        -7.396     1.684\n",
      "n_w_snow             13.4903      4.633      2.912      0.004         4.409    22.571\n",
      "temp                 -0.0180      0.001    -15.535      0.000        -0.020    -0.016\n",
      "vis                  -0.2160      0.005    -41.912      0.000        -0.226    -0.206\n",
      "Distance              0.0004   1.16e-05     37.080      0.000         0.000     0.000\n",
      "precip                5.6955      0.776      7.341      0.000         4.175     7.216\n",
      "north                -0.7333      0.089     -8.194      0.000        -0.909    -0.558\n",
      "winter                1.7383      0.033     52.662      0.000         1.674     1.803\n",
      "snow                 -2.8557      2.316     -1.233      0.218        -7.396     1.684\n",
      "==============================================================================\n",
      "Omnibus:                   466186.657   Durbin-Watson:                   1.132\n",
      "Prob(Omnibus):                  0.000   Jarque-Bera (JB):          8013082.567\n",
      "Skew:                           2.374   Prob(JB):                         0.00\n",
      "Kurtosis:                      17.525   Cond. No.                     1.27e+16\n",
      "==============================================================================\n",
      "\n",
      "Warnings:\n",
      "[1] Standard Errors assume that the covariance matrix of the errors is correctly specified.\n",
      "[2] The smallest eigenvalue is 8.76e-21. This might indicate that there are\n",
      "strong multicollinearity problems or that the design matrix is singular.\n"
     ]
    }
   ],
   "source": [
    "Xs= \"temp+vis+Distance+precip+north+winter+snow\"\n",
    "reg= smf.ols('taxitime ~ north_winter + north_snow + n_w_snow+C(Month)+C(airport)+' +Xs, data=df).fit()\n",
    "print (reg.summary())"
   ]
  },
  {
   "cell_type": "markdown",
   "metadata": {},
   "source": [
    "### Runway Delay : Taxi in"
   ]
  },
  {
   "cell_type": "code",
   "execution_count": 50,
   "metadata": {
    "collapsed": false
   },
   "outputs": [
    {
     "name": "stdout",
     "output_type": "stream",
     "text": [
      "                            OLS Regression Results                            \n",
      "==============================================================================\n",
      "Dep. Variable:                 TaxiIn   R-squared:                       0.069\n",
      "Model:                            OLS   Adj. R-squared:                  0.069\n",
      "Method:                 Least Squares   F-statistic:                     2334.\n",
      "Date:                Tue, 07 Nov 2017   Prob (F-statistic):               0.00\n",
      "Time:                        13:33:34   Log-Likelihood:            -2.5712e+06\n",
      "No. Observations:              823546   AIC:                         5.143e+06\n",
      "Df Residuals:                  823519   BIC:                         5.143e+06\n",
      "Df Model:                          26                                         \n",
      "Covariance Type:            nonrobust                                         \n",
      "=====================================================================================\n",
      "                        coef    std err          t      P>|t|      [95.0% Conf. Int.]\n",
      "-------------------------------------------------------------------------------------\n",
      "Intercept             6.9620      0.072     96.592      0.000         6.821     7.103\n",
      "C(Month)[T.2]         0.0645      0.032      2.040      0.041         0.003     0.126\n",
      "C(Month)[T.3]         0.1827      0.030      6.028      0.000         0.123     0.242\n",
      "C(Month)[T.4]         0.5682      0.021     27.090      0.000         0.527     0.609\n",
      "C(Month)[T.5]         0.7157      0.021     33.865      0.000         0.674     0.757\n",
      "C(Month)[T.6]         0.9815      0.021     45.939      0.000         0.940     1.023\n",
      "C(Month)[T.7]         1.0811      0.023     46.797      0.000         1.036     1.126\n",
      "C(Month)[T.8]         1.1255      0.022     50.430      0.000         1.082     1.169\n",
      "C(Month)[T.9]         0.6969      0.023     30.254      0.000         0.652     0.742\n",
      "C(Month)[T.10]        0.6909      0.021     32.528      0.000         0.649     0.733\n",
      "C(Month)[T.11]       -0.2544      0.031     -8.137      0.000        -0.316    -0.193\n",
      "C(Month)[T.12]        0.1531      0.030      5.039      0.000         0.094     0.213\n",
      "C(airport)[T.BUR]    -3.0076      0.068    -44.016      0.000        -3.141    -2.874\n",
      "C(airport)[T.LAX]     0.7065      0.062     11.394      0.000         0.585     0.828\n",
      "C(airport)[T.LGB]    -2.7059      0.073    -37.285      0.000        -2.848    -2.564\n",
      "C(airport)[T.MHT]    -0.9600      0.050    -19.387      0.000        -1.057    -0.863\n",
      "C(airport)[T.ORH]    -2.1946      0.150    -14.668      0.000        -2.488    -1.901\n",
      "C(airport)[T.PVD]    -0.9120      0.038    -24.261      0.000        -0.986    -0.838\n",
      "C(airport)[T.SNA]    -1.6139      0.066    -24.571      0.000        -1.743    -1.485\n",
      "north_winter         -0.3965      0.032    -12.200      0.000        -0.460    -0.333\n",
      "north_snow           -1.0218      1.586     -0.644      0.519        -4.129     2.086\n",
      "winter_snow           1.2955      1.586      0.817      0.414        -1.813     4.404\n",
      "n_w_snow              1.2955      1.586      0.817      0.414        -1.813     4.404\n",
      "temp                 -0.0052      0.001     -6.606      0.000        -0.007    -0.004\n",
      "vis                  -0.0332      0.004     -9.399      0.000        -0.040    -0.026\n",
      "Distance              0.0008   7.91e-06     98.466      0.000         0.001     0.001\n",
      "precip                3.1671      0.531      5.964      0.000         2.126     4.208\n",
      "north                -0.9214      0.061    -15.042      0.000        -1.041    -0.801\n",
      "winter                1.1022      0.023     48.780      0.000         1.058     1.147\n",
      "snow                 -1.0218      1.586     -0.644      0.519        -4.129     2.086\n",
      "==============================================================================\n",
      "Omnibus:                   699233.810   Durbin-Watson:                   1.509\n",
      "Prob(Omnibus):                  0.000   Jarque-Bera (JB):         35177604.321\n",
      "Skew:                           3.835   Prob(JB):                         0.00\n",
      "Kurtosis:                      34.086   Cond. No.                     1.27e+16\n",
      "==============================================================================\n",
      "\n",
      "Warnings:\n",
      "[1] Standard Errors assume that the covariance matrix of the errors is correctly specified.\n",
      "[2] The smallest eigenvalue is 8.76e-21. This might indicate that there are\n",
      "strong multicollinearity problems or that the design matrix is singular.\n"
     ]
    }
   ],
   "source": [
    "Xs= \"temp+vis+Distance+precip+north+winter+snow\"\n",
    "reg= smf.ols('TaxiIn ~ north_winter + north_snow + winter_snow + n_w_snow+C(Month)+C(airport)+' +Xs, data=df).fit()\n",
    "print (reg.summary())"
   ]
  },
  {
   "cell_type": "markdown",
   "metadata": {},
   "source": [
    "### Runway delay : Taxi out"
   ]
  },
  {
   "cell_type": "code",
   "execution_count": 51,
   "metadata": {
    "collapsed": false
   },
   "outputs": [
    {
     "name": "stdout",
     "output_type": "stream",
     "text": [
      "                            OLS Regression Results                            \n",
      "==============================================================================\n",
      "Dep. Variable:                TaxiOut   R-squared:                       0.074\n",
      "Model:                            OLS   Adj. R-squared:                  0.074\n",
      "Method:                 Least Squares   F-statistic:                     2539.\n",
      "Date:                Tue, 07 Nov 2017   Prob (F-statistic):               0.00\n",
      "Time:                        13:33:43   Log-Likelihood:            -2.9127e+06\n",
      "No. Observations:              823546   AIC:                         5.825e+06\n",
      "Df Residuals:                  823519   BIC:                         5.826e+06\n",
      "Df Model:                          26                                         \n",
      "Covariance Type:            nonrobust                                         \n",
      "=====================================================================================\n",
      "                        coef    std err          t      P>|t|      [95.0% Conf. Int.]\n",
      "-------------------------------------------------------------------------------------\n",
      "Intercept            17.2887      0.109    158.455      0.000        17.075    17.503\n",
      "C(Month)[T.2]         0.5515      0.048     11.530      0.000         0.458     0.645\n",
      "C(Month)[T.3]         0.7100      0.046     15.476      0.000         0.620     0.800\n",
      "C(Month)[T.4]         1.5364      0.032     48.390      0.000         1.474     1.599\n",
      "C(Month)[T.5]         1.8847      0.032     58.911      0.000         1.822     1.947\n",
      "C(Month)[T.6]         2.2875      0.032     70.728      0.000         2.224     2.351\n",
      "C(Month)[T.7]         2.9447      0.035     84.204      0.000         2.876     3.013\n",
      "C(Month)[T.8]         2.5912      0.034     76.702      0.000         2.525     2.657\n",
      "C(Month)[T.9]         1.9863      0.035     56.963      0.000         1.918     2.055\n",
      "C(Month)[T.10]        2.0266      0.032     63.028      0.000         1.964     2.090\n",
      "C(Month)[T.11]        0.0133      0.047      0.280      0.780        -0.080     0.106\n",
      "C(Month)[T.12]        0.0093      0.046      0.203      0.839        -0.081     0.099\n",
      "C(airport)[T.BUR]    -4.7753      0.103    -46.168      0.000        -4.978    -4.573\n",
      "C(airport)[T.LAX]    -1.0547      0.094    -11.237      0.000        -1.239    -0.871\n",
      "C(airport)[T.LGB]    -2.6972      0.110    -24.551      0.000        -2.913    -2.482\n",
      "C(airport)[T.MHT]    -4.8067      0.075    -64.123      0.000        -4.954    -4.660\n",
      "C(airport)[T.ORH]    -4.5953      0.226    -20.289      0.000        -5.039    -4.151\n",
      "C(airport)[T.PVD]    -4.6084      0.057    -80.988      0.000        -4.720    -4.497\n",
      "C(airport)[T.SNA]    -3.9210      0.099    -39.434      0.000        -4.116    -3.726\n",
      "north_winter         -0.1193      0.049     -2.426      0.015        -0.216    -0.023\n",
      "north_snow           -2.9853      2.400     -1.244      0.214        -7.690     1.719\n",
      "winter_snow           7.1046      2.401      2.959      0.003         2.399    11.810\n",
      "n_w_snow              7.1046      2.401      2.959      0.003         2.399    11.810\n",
      "temp                 -0.0198      0.001    -16.451      0.000        -0.022    -0.017\n",
      "vis                  -0.1803      0.005    -33.746      0.000        -0.191    -0.170\n",
      "Distance              0.0008    1.2e-05     65.077      0.000         0.001     0.001\n",
      "precip                9.2767      0.804     11.539      0.000         7.701    10.852\n",
      "north                 0.8380      0.093      9.037      0.000         0.656     1.020\n",
      "winter                2.0312      0.034     59.383      0.000         1.964     2.098\n",
      "snow                 -2.9853      2.400     -1.244      0.214        -7.690     1.719\n",
      "==============================================================================\n",
      "Omnibus:                   605537.322   Durbin-Watson:                   1.531\n",
      "Prob(Omnibus):                  0.000   Jarque-Bera (JB):         19675120.515\n",
      "Skew:                           3.201   Prob(JB):                         0.00\n",
      "Kurtosis:                      26.074   Cond. No.                     1.27e+16\n",
      "==============================================================================\n",
      "\n",
      "Warnings:\n",
      "[1] Standard Errors assume that the covariance matrix of the errors is correctly specified.\n",
      "[2] The smallest eigenvalue is 8.76e-21. This might indicate that there are\n",
      "strong multicollinearity problems or that the design matrix is singular.\n"
     ]
    }
   ],
   "source": [
    "Xs= \"temp+vis+Distance+precip+north+winter+snow\"\n",
    "reg= smf.ols('TaxiOut ~ north_winter + north_snow + winter_snow + n_w_snow+C(Month)+C(airport)+' +Xs, data=df).fit()\n",
    "print (reg.summary())"
   ]
  }
 ],
 "metadata": {
  "kernelspec": {
   "display_name": "Python 3",
   "language": "python",
   "name": "python3"
  },
  "language_info": {
   "codemirror_mode": {
    "name": "ipython",
    "version": 3
   },
   "file_extension": ".py",
   "mimetype": "text/x-python",
   "name": "python",
   "nbconvert_exporter": "python",
   "pygments_lexer": "ipython3",
   "version": "3.6.0"
  }
 },
 "nbformat": 4,
 "nbformat_minor": 2
}
