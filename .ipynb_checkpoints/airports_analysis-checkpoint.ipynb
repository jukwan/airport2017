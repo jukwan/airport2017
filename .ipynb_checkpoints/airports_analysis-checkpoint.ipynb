{
 "cells": [
  {
   "cell_type": "code",
   "execution_count": 2,
   "metadata": {
    "collapsed": false
   },
   "outputs": [],
   "source": [
    "import numpy as np\n",
    "import pandas as pd\n",
    "import datetime as datetime\n",
    "import os\n",
    "import matplotlib.pyplot as plt\n",
    "from matplotlib import style\n",
    "style.use('fivethirtyeight')\n",
    "%matplotlib inline\n",
    "import statsmodels.formula.api as sm"
   ]
  },
  {
   "cell_type": "code",
   "execution_count": 3,
   "metadata": {
    "collapsed": false
   },
   "outputs": [
    {
     "data": {
      "text/plain": [
       "'F:\\\\Dropbox\\\\Flight\\\\Code'"
      ]
     },
     "execution_count": 3,
     "metadata": {},
     "output_type": "execute_result"
    }
   ],
   "source": [
    "pwd #current working folder location"
   ]
  },
  {
   "cell_type": "code",
   "execution_count": 4,
   "metadata": {
    "collapsed": false
   },
   "outputs": [
    {
     "data": {
      "text/plain": [
       "'F:\\\\Dropbox\\\\Flight\\\\DATA\\\\cleaned_data'"
      ]
     },
     "execution_count": 4,
     "metadata": {},
     "output_type": "execute_result"
    }
   ],
   "source": [
    "path= 'F:\\\\Dropbox\\\\Flight\\\\DATA\\\\cleaned_data'\n",
    "path2= 'F:\\\\Dropbox\\\\Flight\\\\Code\\\\results'\n",
    "path"
   ]
  },
  {
   "cell_type": "code",
   "execution_count": 5,
   "metadata": {
    "collapsed": true
   },
   "outputs": [],
   "source": [
    "os.chdir(path)"
   ]
  },
  {
   "cell_type": "code",
   "execution_count": 6,
   "metadata": {
    "collapsed": false
   },
   "outputs": [
    {
     "name": "stderr",
     "output_type": "stream",
     "text": [
      "C:\\Users\\Jukwan\\Anaconda3\\lib\\site-packages\\IPython\\core\\interactiveshell.py:2717: DtypeWarning: Columns (1) have mixed types. Specify dtype option on import or set low_memory=False.\n",
      "  interactivity=interactivity, compiler=compiler, result=result)\n"
     ]
    }
   ],
   "source": [
    "df= pd.read_csv('clean_data.csv', parse_dates=['scheduled_arrival_time','scheduled_departure_time',\n",
    "                                               'actual_arrival_time','actual_departure_time'])"
   ]
  },
  {
   "cell_type": "code",
   "execution_count": 7,
   "metadata": {
    "collapsed": false
   },
   "outputs": [
    {
     "data": {
      "text/html": [
       "<div>\n",
       "<table border=\"1\" class=\"dataframe\">\n",
       "  <thead>\n",
       "    <tr style=\"text-align: right;\">\n",
       "      <th></th>\n",
       "      <th>Unnamed: 0</th>\n",
       "      <th>flt_no</th>\n",
       "      <th>airline_code</th>\n",
       "      <th>airline_name</th>\n",
       "      <th>dep_airport_code</th>\n",
       "      <th>dep_airport_name</th>\n",
       "      <th>scheduled_departure_date</th>\n",
       "      <th>scheduled_departure_month</th>\n",
       "      <th>scheduled_departure_time</th>\n",
       "      <th>actual_departure_date</th>\n",
       "      <th>...</th>\n",
       "      <th>rain</th>\n",
       "      <th>snow</th>\n",
       "      <th>hail</th>\n",
       "      <th>thunder</th>\n",
       "      <th>tornado</th>\n",
       "      <th>airport</th>\n",
       "      <th>next_obs</th>\n",
       "      <th>mid</th>\n",
       "      <th>id</th>\n",
       "      <th>_merge</th>\n",
       "    </tr>\n",
       "  </thead>\n",
       "  <tbody>\n",
       "    <tr>\n",
       "      <th>0</th>\n",
       "      <td>0</td>\n",
       "      <td>1527</td>\n",
       "      <td>AA</td>\n",
       "      <td>American Airlines</td>\n",
       "      <td>MIA</td>\n",
       "      <td>Miami International Apt</td>\n",
       "      <td>2014-11-15</td>\n",
       "      <td>11</td>\n",
       "      <td>2017-10-19 09:30:00</td>\n",
       "      <td>2014-11-15</td>\n",
       "      <td>...</td>\n",
       "      <td>0</td>\n",
       "      <td>0</td>\n",
       "      <td>0</td>\n",
       "      <td>0</td>\n",
       "      <td>0</td>\n",
       "      <td>KBOS</td>\n",
       "      <td>2014-11-15 13:54:00</td>\n",
       "      <td>2014-11-15 13:24:00</td>\n",
       "      <td>1319</td>\n",
       "      <td>both</td>\n",
       "    </tr>\n",
       "    <tr>\n",
       "      <th>1</th>\n",
       "      <td>1</td>\n",
       "      <td>1030</td>\n",
       "      <td>9K</td>\n",
       "      <td>Cape Air</td>\n",
       "      <td>SLK</td>\n",
       "      <td>Saranac Lake</td>\n",
       "      <td>2014-11-15</td>\n",
       "      <td>11</td>\n",
       "      <td>2017-10-19 11:32:00</td>\n",
       "      <td>NaN</td>\n",
       "      <td>...</td>\n",
       "      <td>0</td>\n",
       "      <td>0</td>\n",
       "      <td>0</td>\n",
       "      <td>0</td>\n",
       "      <td>0</td>\n",
       "      <td>KBOS</td>\n",
       "      <td>2014-11-15 13:54:00</td>\n",
       "      <td>2014-11-15 13:24:00</td>\n",
       "      <td>1319</td>\n",
       "      <td>both</td>\n",
       "    </tr>\n",
       "    <tr>\n",
       "      <th>2</th>\n",
       "      <td>2</td>\n",
       "      <td>722</td>\n",
       "      <td>B6</td>\n",
       "      <td>JetBlue Airways Corporation</td>\n",
       "      <td>PBI</td>\n",
       "      <td>West Palm Beach International Apt</td>\n",
       "      <td>2014-11-15</td>\n",
       "      <td>11</td>\n",
       "      <td>2017-10-19 10:00:00</td>\n",
       "      <td>2014-11-15</td>\n",
       "      <td>...</td>\n",
       "      <td>0</td>\n",
       "      <td>0</td>\n",
       "      <td>0</td>\n",
       "      <td>0</td>\n",
       "      <td>0</td>\n",
       "      <td>KBOS</td>\n",
       "      <td>2014-11-15 13:54:00</td>\n",
       "      <td>2014-11-15 13:24:00</td>\n",
       "      <td>1319</td>\n",
       "      <td>both</td>\n",
       "    </tr>\n",
       "    <tr>\n",
       "      <th>3</th>\n",
       "      <td>3</td>\n",
       "      <td>192</td>\n",
       "      <td>B6</td>\n",
       "      <td>JetBlue Airways Corporation</td>\n",
       "      <td>TPA</td>\n",
       "      <td>Tampa International Apt</td>\n",
       "      <td>2014-11-15</td>\n",
       "      <td>11</td>\n",
       "      <td>2017-10-19 10:15:00</td>\n",
       "      <td>2014-11-15</td>\n",
       "      <td>...</td>\n",
       "      <td>0</td>\n",
       "      <td>0</td>\n",
       "      <td>0</td>\n",
       "      <td>0</td>\n",
       "      <td>0</td>\n",
       "      <td>KBOS</td>\n",
       "      <td>2014-11-15 13:54:00</td>\n",
       "      <td>2014-11-15 13:24:00</td>\n",
       "      <td>1319</td>\n",
       "      <td>both</td>\n",
       "    </tr>\n",
       "    <tr>\n",
       "      <th>4</th>\n",
       "      <td>4</td>\n",
       "      <td>1318</td>\n",
       "      <td>B6</td>\n",
       "      <td>JetBlue Airways Corporation</td>\n",
       "      <td>JFK</td>\n",
       "      <td>New York J F Kennedy International Apt</td>\n",
       "      <td>2014-11-15</td>\n",
       "      <td>11</td>\n",
       "      <td>2017-10-19 12:15:00</td>\n",
       "      <td>2014-11-15</td>\n",
       "      <td>...</td>\n",
       "      <td>0</td>\n",
       "      <td>0</td>\n",
       "      <td>0</td>\n",
       "      <td>0</td>\n",
       "      <td>0</td>\n",
       "      <td>KBOS</td>\n",
       "      <td>2014-11-15 13:54:00</td>\n",
       "      <td>2014-11-15 13:24:00</td>\n",
       "      <td>1319</td>\n",
       "      <td>both</td>\n",
       "    </tr>\n",
       "  </tbody>\n",
       "</table>\n",
       "<p>5 rows × 48 columns</p>\n",
       "</div>"
      ],
      "text/plain": [
       "   Unnamed: 0 flt_no airline_code                 airline_name  \\\n",
       "0           0   1527           AA            American Airlines   \n",
       "1           1   1030           9K                     Cape Air   \n",
       "2           2    722           B6  JetBlue Airways Corporation   \n",
       "3           3    192           B6  JetBlue Airways Corporation   \n",
       "4           4   1318           B6  JetBlue Airways Corporation   \n",
       "\n",
       "  dep_airport_code                        dep_airport_name  \\\n",
       "0              MIA                 Miami International Apt   \n",
       "1              SLK                            Saranac Lake   \n",
       "2              PBI       West Palm Beach International Apt   \n",
       "3              TPA                 Tampa International Apt   \n",
       "4              JFK  New York J F Kennedy International Apt   \n",
       "\n",
       "  scheduled_departure_date  scheduled_departure_month  \\\n",
       "0               2014-11-15                         11   \n",
       "1               2014-11-15                         11   \n",
       "2               2014-11-15                         11   \n",
       "3               2014-11-15                         11   \n",
       "4               2014-11-15                         11   \n",
       "\n",
       "  scheduled_departure_time actual_departure_date  ...   rain snow hail  \\\n",
       "0      2017-10-19 09:30:00            2014-11-15  ...      0    0    0   \n",
       "1      2017-10-19 11:32:00                   NaN  ...      0    0    0   \n",
       "2      2017-10-19 10:00:00            2014-11-15  ...      0    0    0   \n",
       "3      2017-10-19 10:15:00            2014-11-15  ...      0    0    0   \n",
       "4      2017-10-19 12:15:00            2014-11-15  ...      0    0    0   \n",
       "\n",
       "  thunder  tornado airport             next_obs                  mid    id  \\\n",
       "0       0        0    KBOS  2014-11-15 13:54:00  2014-11-15 13:24:00  1319   \n",
       "1       0        0    KBOS  2014-11-15 13:54:00  2014-11-15 13:24:00  1319   \n",
       "2       0        0    KBOS  2014-11-15 13:54:00  2014-11-15 13:24:00  1319   \n",
       "3       0        0    KBOS  2014-11-15 13:54:00  2014-11-15 13:24:00  1319   \n",
       "4       0        0    KBOS  2014-11-15 13:54:00  2014-11-15 13:24:00  1319   \n",
       "\n",
       "  _merge  \n",
       "0   both  \n",
       "1   both  \n",
       "2   both  \n",
       "3   both  \n",
       "4   both  \n",
       "\n",
       "[5 rows x 48 columns]"
      ]
     },
     "execution_count": 7,
     "metadata": {},
     "output_type": "execute_result"
    }
   ],
   "source": [
    "# pd.set_option('display.max_rows', 8) # change presets for date preview\n",
    "# pd.reset_option('display.max_rows')\n",
    "df.head(5)"
   ]
  },
  {
   "cell_type": "code",
   "execution_count": 8,
   "metadata": {
    "collapsed": true
   },
   "outputs": [],
   "source": [
    "os.chdir(path2)"
   ]
  },
  {
   "cell_type": "code",
   "execution_count": 9,
   "metadata": {
    "collapsed": false
   },
   "outputs": [],
   "source": [
    "# df.dtypes"
   ]
  },
  {
   "cell_type": "code",
   "execution_count": 10,
   "metadata": {
    "collapsed": false
   },
   "outputs": [],
   "source": [
    "# del df[\"Unnamed: 0\"]\n",
    "# del df[\"Unnamed: 0.1\"]"
   ]
  },
  {
   "cell_type": "code",
   "execution_count": 11,
   "metadata": {
    "collapsed": false
   },
   "outputs": [],
   "source": [
    "## overall there is 2 flight which has string flight no.\n",
    "df['flt_no'].replace(['620A','052A'],[620,52], inplace= True)\n",
    "df[['flt_no']] = df[['flt_no']].apply(pd.to_numeric)"
   ]
  },
  {
   "cell_type": "code",
   "execution_count": 12,
   "metadata": {
    "collapsed": false
   },
   "outputs": [],
   "source": [
    "## drop if flight is not actually operate. \n",
    "## df[] = df[df.actual_departure_time.notnull()]"
   ]
  },
  {
   "cell_type": "code",
   "execution_count": 13,
   "metadata": {
    "collapsed": false
   },
   "outputs": [],
   "source": [
    "# ## change the d type from string to datetime.\n",
    "# # this part replaced by read_csv(, parse_dates= ['','']) option.\n",
    "# df['scheduled_arrival_time']=pd.to_datetime(df['scheduled_arrival_time'])\n",
    "# df['actual_arrival_time']=pd.to_datetime(df['actual_arrival_time'])\n",
    "# df['scheduled_departure_time']=pd.to_datetime(df['scheduled_departure_time'])\n",
    "# df['actual_departure_time']=pd.to_datetime(df['actual_departure_time'])"
   ]
  },
  {
   "cell_type": "code",
   "execution_count": 14,
   "metadata": {
    "collapsed": false
   },
   "outputs": [
    {
     "name": "stdout",
     "output_type": "stream",
     "text": [
      "scheduled_departure_n\n",
      "scheduled_arrival_n\n",
      "actual_departure_n\n",
      "actual_arrival_n\n"
     ]
    }
   ],
   "source": [
    "##  adding date and time and put it in to a column\n",
    "coln= ['scheduled_departure','scheduled_arrival','actual_departure','actual_arrival']\n",
    "\n",
    "for hey in coln:\n",
    "    new_hey= hey+\"_n\"\n",
    "    hey_date=hey+\"_date\"\n",
    "    hey_time= hey+\"_time\"\n",
    "    print(new_hey)\n",
    "    hour=df[hey_time].dt.hour\n",
    "    min=df[hey_time].dt.minute\n",
    "    sec=df[hey_time].dt.second\n",
    "    new_time = pd.DataFrame({'time': pd.to_datetime(df[hey_date])+pd.to_timedelta(hour,unit='h')+pd.to_timedelta(min,unit='m')+pd.to_timedelta(sec,unit='s')})\n",
    "    df[new_hey]=new_time\n",
    "#new variables"
   ]
  },
  {
   "cell_type": "code",
   "execution_count": 15,
   "metadata": {
    "collapsed": false
   },
   "outputs": [
    {
     "data": {
      "text/plain": [
       "0     9\n",
       "1    11\n",
       "2    10\n",
       "3    10\n",
       "4    12\n",
       "5    11\n",
       "6    12\n",
       "7     8\n",
       "8    10\n",
       "9    12\n",
       "Name: sd_hour, dtype: int64"
      ]
     },
     "execution_count": 15,
     "metadata": {},
     "output_type": "execute_result"
    }
   ],
   "source": [
    "### this part replaced by for_loop code above\n",
    "df['sd_hour']=df['scheduled_departure_n'].dt.hour\n",
    "# sd_min=df['scheduled_departure_time'].dt.minute\n",
    "# sd_sec=df['scheduled_departure_time'].dt.second\n",
    "# sd_time = pd.DataFrame({'time': pd.to_datetime(df[\"scheduled_departure_date\"])+pd.to_timedelta(sd_hour,unit='h')+pd.to_timedelta(sd_min,unit='m')+pd.to_timedelta(sd_sec,unit='s')})\n",
    "\n",
    "\n",
    "# sa_hour=df['scheduled_arrival_time'].dt.hour\n",
    "# sa_min= df['scheduled_arrival_time'].dt.minute\n",
    "# sa_sec= df['scheduled_arrival_time'].dt.second\n",
    "# sa_time = pd.DataFrame({'time': pd.to_datetime(df[\"scheduled_arrival_date\"])+pd.to_timedelta(sa_hour,unit='h')+pd.to_timedelta(sa_min,unit='m')+pd.to_timedelta(sa_sec,unit='s')})\n",
    "# df['sa_time']=sa_time\n",
    "\n",
    "# aa_hour=df['actual_arrival_time'].dt.hour\n",
    "# aa_min= df['actual_arrival_time'].dt.minute\n",
    "# aa_sec= df['actual_arrival_time'].dt.second\n",
    "# aa_time = pd.DataFrame({'time': pd.to_datetime(df[\"actual_arrival_date\"])+pd.to_timedelta(aa_hour,unit='h')+pd.to_timedelta(aa_min,unit='m')+pd.to_timedelta(aa_sec,unit='s')})\n",
    "# df['aa_time']=aa_time\n",
    "\n",
    "# ad_hour=df['actual_departure_time'].dt.hour\n",
    "# ad_min= df['actual_departure_time'].dt.minute\n",
    "# ad_sec= df['actual_departure_time'].dt.second\n",
    "# ad_time = pd.DataFrame({'time': pd.to_datetime(df[\"actual_departure_date\"])+pd.to_timedelta(ad_hour,unit='h')+pd.to_timedelta(ad_min,unit='m')+pd.to_timedelta(ad_sec,unit='s')})\n",
    "# df['ad_time']=ad_time\n",
    "df['sd_hour'].head(10)"
   ]
  },
  {
   "cell_type": "code",
   "execution_count": 16,
   "metadata": {
    "collapsed": false
   },
   "outputs": [],
   "source": [
    "# ## unique values\n",
    "# for col_name in df.columns:\n",
    "#     if df[col_name].dtypes == 'object':\n",
    "#         unique_cat = len(df[col_name].unique())\n",
    "#         print(\"Feature '{col_name}' has {unique_cat} unique categories\".format(col_name=col_name, unique_cat=unique_cat))"
   ]
  },
  {
   "cell_type": "code",
   "execution_count": 17,
   "metadata": {
    "collapsed": false,
    "scrolled": true
   },
   "outputs": [
    {
     "data": {
      "text/plain": [
       "count                    469601\n",
       "mean     0 days 00:09:31.939327\n",
       "std      0 days 00:44:54.098404\n",
       "min           -1 days +00:00:00\n",
       "25%           -1 days +23:55:00\n",
       "50%           -1 days +23:59:00\n",
       "75%             0 days 00:10:00\n",
       "max             2 days 13:33:00\n",
       "Name: delay_dep, dtype: object"
      ]
     },
     "execution_count": 17,
     "metadata": {},
     "output_type": "execute_result"
    }
   ],
   "source": [
    "### delay in departure.\n",
    "\n",
    "# scheduled_departure_n\n",
    "# scheduled_arrival_n\n",
    "# actual_departure_n\n",
    "# actual_arrival_n\n",
    "df['delay_dep'] = df['actual_departure_n']-df['scheduled_departure_n']\n",
    "df['delay_dep'].describe()"
   ]
  },
  {
   "cell_type": "code",
   "execution_count": 18,
   "metadata": {
    "collapsed": false
   },
   "outputs": [
    {
     "data": {
      "text/plain": [
       "count                    466948\n",
       "mean     0 days 00:05:44.526242\n",
       "std      0 days 00:50:03.740840\n",
       "min           -3 days +20:34:00\n",
       "25%           -1 days +23:48:00\n",
       "50%           -1 days +23:57:00\n",
       "75%             0 days 00:12:00\n",
       "max             2 days 01:08:00\n",
       "Name: delay_arr, dtype: object"
      ]
     },
     "execution_count": 18,
     "metadata": {},
     "output_type": "execute_result"
    }
   ],
   "source": [
    "## delay time in arrival\n",
    "\n",
    "df['delay_arr'] = df['actual_arrival_n']-df['scheduled_arrival_n']\n",
    "df['delay_arr'].describe()"
   ]
  },
  {
   "cell_type": "code",
   "execution_count": 19,
   "metadata": {
    "collapsed": false
   },
   "outputs": [],
   "source": [
    "# list(df)"
   ]
  },
  {
   "cell_type": "code",
   "execution_count": 20,
   "metadata": {
    "collapsed": false
   },
   "outputs": [
    {
     "name": "stdout",
     "output_type": "stream",
     "text": [
      "0    2400.0\n",
      "1       NaN\n",
      "2    -660.0\n",
      "3   -1080.0\n",
      "4    -720.0\n",
      "Name: diff_arr, dtype: float64\n"
     ]
    },
    {
     "data": {
      "text/plain": [
       "count    466948.000000\n",
       "mean        344.526243\n",
       "std        3003.740840\n",
       "min     -185160.000000\n",
       "25%        -720.000000\n",
       "50%        -180.000000\n",
       "75%         720.000000\n",
       "max      176880.000000\n",
       "Name: diff_arr, dtype: float64"
      ]
     },
     "execution_count": 20,
     "metadata": {},
     "output_type": "execute_result"
    }
   ],
   "source": [
    "##deling with the time convert time which can be shown as distribution \n",
    "df['diff_arr']=df['delay_arr'].dt.total_seconds()\n",
    "df['diff_dep']=df['delay_dep'].dt.total_seconds()\n",
    "print(df['diff_arr'].head())##deling with the time convert time which can be shown as distribution \n",
    "df['diff_arr'].describe()"
   ]
  },
  {
   "cell_type": "code",
   "execution_count": 21,
   "metadata": {
    "collapsed": false
   },
   "outputs": [
    {
     "data": {
      "text/plain": [
       "0    440751\n",
       "1    100275\n",
       "Name: late_arr, dtype: int64"
      ]
     },
     "execution_count": 21,
     "metadata": {},
     "output_type": "execute_result"
    }
   ],
   "source": [
    "##delay indicator_arrival(0,1)\n",
    "mask = df['delay_arr'] > datetime.timedelta(minutes=15)\n",
    "df['late_arr'] = mask.astype(int)\n",
    "\n",
    "df['late_arr'].value_counts()"
   ]
  },
  {
   "cell_type": "code",
   "execution_count": 22,
   "metadata": {
    "collapsed": false
   },
   "outputs": [
    {
     "data": {
      "text/plain": [
       "0    448686\n",
       "1     92340\n",
       "Name: late_dep, dtype: int64"
      ]
     },
     "execution_count": 22,
     "metadata": {},
     "output_type": "execute_result"
    }
   ],
   "source": [
    "##delay indicator_depature(0,1:if delay time is larger than 15 min)\n",
    "mask = df['delay_dep'] > datetime.timedelta(minutes=15)\n",
    "df['late_dep'] = mask.astype(int)\n",
    "\n",
    "df['late_dep'].value_counts()"
   ]
  },
  {
   "cell_type": "code",
   "execution_count": 23,
   "metadata": {
    "collapsed": false
   },
   "outputs": [
    {
     "data": {
      "text/plain": [
       "0    538800\n",
       "1      2226\n",
       "Name: early_dep, dtype: int64"
      ]
     },
     "execution_count": 23,
     "metadata": {},
     "output_type": "execute_result"
    }
   ],
   "source": [
    "## indcate early departure = 1 if delay < -15 min,\n",
    "##delay indicator\n",
    "mask = (df['delay_dep']< datetime.timedelta(minutes=-15))\n",
    "df['early_dep'] = mask.astype(int)\n",
    "\n",
    "df['early_dep'].value_counts()\n",
    "\n"
   ]
  },
  {
   "cell_type": "code",
   "execution_count": 24,
   "metadata": {
    "collapsed": false
   },
   "outputs": [
    {
     "data": {
      "text/plain": [
       "0    458793\n",
       "1     82233\n",
       "Name: early_arr, dtype: int64"
      ]
     },
     "execution_count": 24,
     "metadata": {},
     "output_type": "execute_result"
    }
   ],
   "source": [
    "mask = (df['delay_arr']< datetime.timedelta(minutes=-15))\n",
    "\n",
    "df['early_arr'] = mask.astype(int)\n",
    "\n",
    "df['early_arr'].value_counts()"
   ]
  },
  {
   "cell_type": "code",
   "execution_count": 25,
   "metadata": {
    "collapsed": false
   },
   "outputs": [
    {
     "data": {
      "text/plain": [
       "0    469601\n",
       "1     71425\n",
       "Name: cancelled, dtype: int64"
      ]
     },
     "execution_count": 25,
     "metadata": {},
     "output_type": "execute_result"
    }
   ],
   "source": [
    "## need to double check the rawdata....\n",
    "# list(df)\n",
    "# ## df[] = df[df.actual_departure_time.notnull()]\n",
    "mask =df.actual_departure_n.isnull()\n",
    "mask.sample(5)\n",
    "df['cancelled'] = mask.astype(int)\n",
    "df['cancelled'].value_counts()\n",
    "\n",
    "# df.sort_values(by='cancelled')"
   ]
  },
  {
   "cell_type": "code",
   "execution_count": 26,
   "metadata": {
    "collapsed": false
   },
   "outputs": [
    {
     "name": "stdout",
     "output_type": "stream",
     "text": [
      "0    448169\n",
      "1     92857\n",
      "Name: north_dep, dtype: int64\n",
      "0    449600\n",
      "1     91426\n",
      "Name: north_arr, dtype: int64\n",
      "0    358532\n",
      "1    182494\n",
      "Name: south_dep, dtype: int64\n",
      "0    358688\n",
      "1    182338\n",
      "Name: south_arr, dtype: int64\n"
     ]
    }
   ],
   "source": [
    "# indicate the data: north and south arrival date | departuredata\n",
    "\n",
    "# North departure\n",
    "mask=(df['dep_airport_code']== 'BOS') |(df['dep_airport_code']== 'PVD')|(df['dep_airport_code']== 'MHT') |(df['dep_airport_code']== 'ORH') ;mask\n",
    "df['north_dep']=mask.astype(int)\n",
    "print(df['north_dep'].value_counts())\n",
    "# North arrival\n",
    "mask=(df['arr_airport_code']== 'BOS') |(df['arr_airport_code']== 'PVD')|(df['arr_airport_code']== 'MHT') |(df['arr_airport_code']== 'ORH') ;mask\n",
    "df['north_arr']=mask.astype(int)\n",
    "print(df['north_arr'].value_counts())\n",
    "\n",
    "# indicate dep south\n",
    "mask=(df['dep_airport_code']== 'LAX') |(df['dep_airport_code']== 'SNA')|(df['dep_airport_code']== 'BUR') |(df['dep_airport_code']== 'LGB') ;mask\n",
    "df['south_dep']=mask.astype(int)\n",
    "print(df['south_dep'].value_counts())\n",
    "\n",
    "# south arrival\n",
    "mask=(df['arr_airport_code']== 'LAX') |(df['arr_airport_code']== 'SNA')|(df['arr_airport_code']== 'BUR') |(df['arr_airport_code']== 'LGB') ;mask\n",
    "df['south_arr']=mask.astype(int)\n",
    "print(df['south_arr'].value_counts())\n"
   ]
  },
  {
   "cell_type": "code",
   "execution_count": 27,
   "metadata": {
    "collapsed": false
   },
   "outputs": [
    {
     "data": {
      "text/plain": [
       "South    182494\n",
       "North     92857\n",
       "Name: loca_dep, dtype: int64"
      ]
     },
     "execution_count": 27,
     "metadata": {},
     "output_type": "execute_result"
    }
   ],
   "source": [
    "## or can use mapping 1. make dictionary \n",
    "city_to_dic={ 'BOS': 'North', 'PVD' :'North', 'MHT':'North', 'ORH': 'North', \\\n",
    "             'LAX' : 'South', 'LGB':'South', 'BUR':'South','SNA':'South' }\n",
    "## 1. maping the function\n",
    "df['loca_dep']= df['dep_airport_code'].map(city_to_dic)\n",
    "df['loca_arr']= df['arr_airport_code'].map(city_to_dic)\n",
    "df['loca_dep'].value_counts()\n"
   ]
  },
  {
   "cell_type": "code",
   "execution_count": 28,
   "metadata": {
    "collapsed": false
   },
   "outputs": [
    {
     "data": {
      "text/plain": [
       "0    356744\n",
       "1    184282\n",
       "Name: north, dtype: int64"
      ]
     },
     "execution_count": 28,
     "metadata": {},
     "output_type": "execute_result"
    }
   ],
   "source": [
    "# location north = 1 or south =0\n",
    "mask = (df['north_dep']==1)|(df['north_arr']==1)\n",
    "df['north'] =mask.astype(int)\n",
    "df['north'].value_counts()\n"
   ]
  },
  {
   "cell_type": "code",
   "execution_count": 29,
   "metadata": {
    "collapsed": false
   },
   "outputs": [
    {
     "data": {
      "text/plain": [
       "1    275351\n",
       "0    265675\n",
       "Name: dep, dtype: int64"
      ]
     },
     "execution_count": 29,
     "metadata": {},
     "output_type": "execute_result"
    }
   ],
   "source": [
    "# dep:  departure = 1 arrrival = 0\n",
    "mask = (df['south_dep']==1)|(df['north_dep']==1)\n",
    "df['dep']=mask.astype(int)\n",
    "df['dep'].value_counts()"
   ]
  },
  {
   "cell_type": "code",
   "execution_count": 30,
   "metadata": {
    "collapsed": false
   },
   "outputs": [
    {
     "data": {
      "text/plain": [
       "<matplotlib.axes._subplots.AxesSubplot at 0x1fe1cb95da0>"
      ]
     },
     "execution_count": 30,
     "metadata": {},
     "output_type": "execute_result"
    },
    {
     "data": {
      "image/png": "[encoded data removed]",
      "text/plain": [
       "<matplotlib.figure.Figure at 0x1fe16ce4cf8>"
      ]
     },
     "metadata": {},
     "output_type": "display_data"
    }
   ],
   "source": [
    "#  # of depature flights by airport\n",
    "\n",
    "df['dep_airport_code'].value_counts().head(8).sort_index().plot()"
   ]
  },
  {
   "cell_type": "code",
   "execution_count": 31,
   "metadata": {
    "collapsed": false
   },
   "outputs": [
    {
     "data": {
      "text/plain": [
       "<matplotlib.axes._subplots.AxesSubplot at 0x1fe16ce4ef0>"
      ]
     },
     "execution_count": 31,
     "metadata": {},
     "output_type": "execute_result"
    },
    {
     "data": {
      "image/png": "[encoded data removed]",
      "text/plain": [
       "<matplotlib.figure.Figure at 0x1fe259867b8>"
      ]
     },
     "metadata": {},
     "output_type": "display_data"
    }
   ],
   "source": [
    " # of flights by airport\n",
    "df['dep_airport_code'].where(df['dep']==1).value_counts().head(8).plot()\n",
    "df['arr_airport_code'].where(df['dep']==0).value_counts().head(8).plot()"
   ]
  },
  {
   "cell_type": "code",
   "execution_count": 32,
   "metadata": {
    "collapsed": false
   },
   "outputs": [],
   "source": [
    "# #data slice\n",
    "df_dep = df[df['dep']==1] # departure data\n",
    "df_arr = df[df['dep']==0]\n"
   ]
  },
  {
   "cell_type": "code",
   "execution_count": 33,
   "metadata": {
    "collapsed": false
   },
   "outputs": [],
   "source": [
    "# % gen delay = 'delay_arr' if [dep] ==1\n",
    "# % replace delay = delay_dep if df['dep'] ==0\n",
    "#df[:,'delay']= df.loc[:,'delay_dep]\n",
    "# delay.head(10)\n",
    "# delay.describe()\n",
    "# pd.merge(df,delay)\n",
    "\n",
    "df['delay']=np.where(df['dep']==1, df['diff_dep'],df['diff_arr'])"
   ]
  },
  {
   "cell_type": "code",
   "execution_count": 34,
   "metadata": {
    "collapsed": false
   },
   "outputs": [
    {
     "data": {
      "text/plain": [
       "0    2400.0\n",
       "1       NaN\n",
       "2    -660.0\n",
       "3   -1080.0\n",
       "Name: delay, dtype: float64"
      ]
     },
     "execution_count": 34,
     "metadata": {},
     "output_type": "execute_result"
    }
   ],
   "source": [
    "df['delay'].head(4)"
   ]
  },
  {
   "cell_type": "code",
   "execution_count": 35,
   "metadata": {
    "collapsed": false
   },
   "outputs": [],
   "source": [
    "df['airport']= np.where(df['dep']==1, df['dep_airport_code'],df['arr_airport_code'])"
   ]
  },
  {
   "cell_type": "code",
   "execution_count": 36,
   "metadata": {
    "collapsed": false
   },
   "outputs": [
    {
     "data": {
      "text/plain": [
       "0    BOS\n",
       "1    BOS\n",
       "2    BOS\n",
       "Name: airport, dtype: object"
      ]
     },
     "execution_count": 36,
     "metadata": {},
     "output_type": "execute_result"
    }
   ],
   "source": [
    "df['airport'].head(3)"
   ]
  },
  {
   "cell_type": "code",
   "execution_count": 37,
   "metadata": {
    "collapsed": false
   },
   "outputs": [
    {
     "data": {
      "text/plain": [
       "10    95779\n",
       "3     94521\n",
       "12    91395\n",
       "1     89246\n",
       "11    88390\n",
       "2     81695\n",
       "Name: scheduled_departure_month, dtype: int64"
      ]
     },
     "execution_count": 37,
     "metadata": {},
     "output_type": "execute_result"
    }
   ],
   "source": [
    "df['scheduled_departure_month'].value_counts()"
   ]
  },
  {
   "cell_type": "code",
   "execution_count": 38,
   "metadata": {
    "collapsed": false
   },
   "outputs": [
    {
     "data": {
      "text/plain": [
       "<matplotlib.axes._subplots.AxesSubplot at 0x1fe1e321ac8>"
      ]
     },
     "execution_count": 38,
     "metadata": {},
     "output_type": "execute_result"
    },
    {
     "data": {
      "image/png": "[encoded data removed]",
      "text/plain": [
       "<matplotlib.figure.Figure at 0x1fe26f2da90>"
      ]
     },
     "metadata": {},
     "output_type": "display_data"
    }
   ],
   "source": [
    "df['airport'].where(df['scheduled_departure_month']==1).value_counts().plot()\n",
    "df['airport'].where(df['scheduled_departure_month']==2).value_counts().plot()\n",
    "df['airport'].where(df['scheduled_departure_month']==3).value_counts().plot()\n",
    "df['airport'].where(df['scheduled_departure_month']==10).value_counts().plot()\n",
    "df['airport'].where(df['scheduled_departure_month']==11).value_counts().plot()\n",
    "df['airport'].where(df['scheduled_departure_month']==12).value_counts().plot()"
   ]
  },
  {
   "cell_type": "code",
   "execution_count": 39,
   "metadata": {
    "collapsed": false
   },
   "outputs": [
    {
     "data": {
      "text/plain": [
       "0   2014-11-15 12:43:00\n",
       "1   2014-11-15 13:01:00\n",
       "2   2014-11-15 12:54:00\n",
       "Name: s_operation_time, dtype: datetime64[ns]"
      ]
     },
     "execution_count": 39,
     "metadata": {},
     "output_type": "execute_result"
    }
   ],
   "source": [
    "#dep = 1 means departure data.\n",
    "#scheduled time = depature time if departure if not (arrival data) then schedueld arrival time\n",
    "df['s_operation_time'] = np.where(df['dep']==1, df['scheduled_departure_n'], df['scheduled_arrival_n'])\n",
    "df['s_operation_time'].head(3)"
   ]
  },
  {
   "cell_type": "code",
   "execution_count": 40,
   "metadata": {
    "collapsed": false
   },
   "outputs": [
    {
     "data": {
      "text/plain": [
       "0   2014-11-15 13:23:00\n",
       "1                   NaT\n",
       "2   2014-11-15 12:43:00\n",
       "Name: a_operation_time, dtype: datetime64[ns]"
      ]
     },
     "execution_count": 40,
     "metadata": {},
     "output_type": "execute_result"
    }
   ],
   "source": [
    "df['a_operation_time'] = np.where(df['dep']==1, df['actual_departure_n'], df['actual_arrival_n'])\n",
    "df['a_operation_time'].head(3)"
   ]
  },
  {
   "cell_type": "code",
   "execution_count": 41,
   "metadata": {
    "collapsed": false
   },
   "outputs": [
    {
     "data": {
      "text/plain": [
       "0            00:40:00\n",
       "1                 NaT\n",
       "2   -1 days +23:49:00\n",
       "3   -1 days +23:42:00\n",
       "4   -1 days +23:48:00\n",
       "Name: delay_at_airport, dtype: timedelta64[ns]"
      ]
     },
     "execution_count": 41,
     "metadata": {},
     "output_type": "execute_result"
    }
   ],
   "source": [
    "df['delay_at_airport']= df['a_operation_time']-df['s_operation_time']\n",
    "df['delay_at_airport'].head()"
   ]
  },
  {
   "cell_type": "code",
   "execution_count": 42,
   "metadata": {
    "collapsed": false
   },
   "outputs": [
    {
     "data": {
      "text/plain": [
       "0    2400.0\n",
       "1       NaN\n",
       "2    -660.0\n",
       "3   -1080.0\n",
       "4    -720.0\n",
       "Name: delay, dtype: float64"
      ]
     },
     "execution_count": 42,
     "metadata": {},
     "output_type": "execute_result"
    }
   ],
   "source": [
    "df['delay'].head(5)"
   ]
  },
  {
   "cell_type": "code",
   "execution_count": 43,
   "metadata": {
    "collapsed": false
   },
   "outputs": [
    {
     "data": {
      "text/html": [
       "<div>\n",
       "<table border=\"1\" class=\"dataframe\">\n",
       "  <thead>\n",
       "    <tr style=\"text-align: right;\">\n",
       "      <th></th>\n",
       "      <th>Unnamed: 0</th>\n",
       "      <th>flt_no</th>\n",
       "      <th>airline_code</th>\n",
       "      <th>airline_name</th>\n",
       "      <th>dep_airport_code</th>\n",
       "      <th>dep_airport_name</th>\n",
       "      <th>scheduled_departure_date</th>\n",
       "      <th>scheduled_departure_month</th>\n",
       "      <th>scheduled_departure_time</th>\n",
       "      <th>actual_departure_date</th>\n",
       "      <th>...</th>\n",
       "      <th>south_dep</th>\n",
       "      <th>south_arr</th>\n",
       "      <th>loca_dep</th>\n",
       "      <th>loca_arr</th>\n",
       "      <th>north</th>\n",
       "      <th>dep</th>\n",
       "      <th>delay</th>\n",
       "      <th>s_operation_time</th>\n",
       "      <th>a_operation_time</th>\n",
       "      <th>delay_at_airport</th>\n",
       "    </tr>\n",
       "  </thead>\n",
       "  <tbody>\n",
       "    <tr>\n",
       "      <th>319787</th>\n",
       "      <td>139146</td>\n",
       "      <td>1212</td>\n",
       "      <td>DL</td>\n",
       "      <td>Delta Air Lines</td>\n",
       "      <td>HNL</td>\n",
       "      <td>Honolulu</td>\n",
       "      <td>2015-02-13</td>\n",
       "      <td>2</td>\n",
       "      <td>2017-10-19 22:07:00</td>\n",
       "      <td>2015-02-16</td>\n",
       "      <td>...</td>\n",
       "      <td>0</td>\n",
       "      <td>1</td>\n",
       "      <td>NaN</td>\n",
       "      <td>South</td>\n",
       "      <td>0</td>\n",
       "      <td>0</td>\n",
       "      <td>176880.0</td>\n",
       "      <td>2015-02-14 05:39:00</td>\n",
       "      <td>2015-02-16 06:47:00</td>\n",
       "      <td>2 days 01:08:00</td>\n",
       "    </tr>\n",
       "    <tr>\n",
       "      <th>142803</th>\n",
       "      <td>64364</td>\n",
       "      <td>238</td>\n",
       "      <td>EK</td>\n",
       "      <td>Emirates</td>\n",
       "      <td>BOS</td>\n",
       "      <td>Boston Logan International Apt</td>\n",
       "      <td>2014-11-01</td>\n",
       "      <td>11</td>\n",
       "      <td>2017-10-19 23:15:00</td>\n",
       "      <td>2014-11-03</td>\n",
       "      <td>...</td>\n",
       "      <td>0</td>\n",
       "      <td>0</td>\n",
       "      <td>North</td>\n",
       "      <td>NaN</td>\n",
       "      <td>1</td>\n",
       "      <td>1</td>\n",
       "      <td>95640.0</td>\n",
       "      <td>2014-11-01 23:15:00</td>\n",
       "      <td>2014-11-03 01:49:00</td>\n",
       "      <td>1 days 02:34:00</td>\n",
       "    </tr>\n",
       "    <tr>\n",
       "      <th>236467</th>\n",
       "      <td>55826</td>\n",
       "      <td>224</td>\n",
       "      <td>AA</td>\n",
       "      <td>American Airlines</td>\n",
       "      <td>LAS</td>\n",
       "      <td>Las Vegas McCarran International Apt</td>\n",
       "      <td>2015-01-18</td>\n",
       "      <td>1</td>\n",
       "      <td>2017-10-19 11:30:00</td>\n",
       "      <td>2015-01-19</td>\n",
       "      <td>...</td>\n",
       "      <td>0</td>\n",
       "      <td>1</td>\n",
       "      <td>NaN</td>\n",
       "      <td>South</td>\n",
       "      <td>0</td>\n",
       "      <td>0</td>\n",
       "      <td>95580.0</td>\n",
       "      <td>2015-01-18 12:46:00</td>\n",
       "      <td>2015-01-19 15:19:00</td>\n",
       "      <td>1 days 02:33:00</td>\n",
       "    </tr>\n",
       "    <tr>\n",
       "      <th>187455</th>\n",
       "      <td>6814</td>\n",
       "      <td>270</td>\n",
       "      <td>AA</td>\n",
       "      <td>American Airlines</td>\n",
       "      <td>HNL</td>\n",
       "      <td>Honolulu</td>\n",
       "      <td>2015-03-04</td>\n",
       "      <td>3</td>\n",
       "      <td>2017-10-19 08:28:00</td>\n",
       "      <td>2015-03-05</td>\n",
       "      <td>...</td>\n",
       "      <td>0</td>\n",
       "      <td>1</td>\n",
       "      <td>NaN</td>\n",
       "      <td>South</td>\n",
       "      <td>0</td>\n",
       "      <td>0</td>\n",
       "      <td>94560.0</td>\n",
       "      <td>2015-03-04 15:55:00</td>\n",
       "      <td>2015-03-05 18:11:00</td>\n",
       "      <td>1 days 02:16:00</td>\n",
       "    </tr>\n",
       "    <tr>\n",
       "      <th>516732</th>\n",
       "      <td>15408</td>\n",
       "      <td>660</td>\n",
       "      <td>US</td>\n",
       "      <td>US Airways</td>\n",
       "      <td>PHX</td>\n",
       "      <td>Phoenix Sky Harbor Intl Apt</td>\n",
       "      <td>2015-03-07</td>\n",
       "      <td>3</td>\n",
       "      <td>2017-10-19 18:00:00</td>\n",
       "      <td>2015-03-07</td>\n",
       "      <td>...</td>\n",
       "      <td>0</td>\n",
       "      <td>1</td>\n",
       "      <td>NaN</td>\n",
       "      <td>South</td>\n",
       "      <td>0</td>\n",
       "      <td>0</td>\n",
       "      <td>88860.0</td>\n",
       "      <td>2015-03-07 18:16:00</td>\n",
       "      <td>2015-03-08 18:57:00</td>\n",
       "      <td>1 days 00:41:00</td>\n",
       "    </tr>\n",
       "  </tbody>\n",
       "</table>\n",
       "<p>5 rows × 74 columns</p>\n",
       "</div>"
      ],
      "text/plain": [
       "        Unnamed: 0  flt_no airline_code       airline_name dep_airport_code  \\\n",
       "319787      139146    1212           DL    Delta Air Lines              HNL   \n",
       "142803       64364     238           EK           Emirates              BOS   \n",
       "236467       55826     224           AA  American Airlines              LAS   \n",
       "187455        6814     270           AA  American Airlines              HNL   \n",
       "516732       15408     660           US         US Airways              PHX   \n",
       "\n",
       "                            dep_airport_name scheduled_departure_date  \\\n",
       "319787                              Honolulu               2015-02-13   \n",
       "142803        Boston Logan International Apt               2014-11-01   \n",
       "236467  Las Vegas McCarran International Apt               2015-01-18   \n",
       "187455                              Honolulu               2015-03-04   \n",
       "516732           Phoenix Sky Harbor Intl Apt               2015-03-07   \n",
       "\n",
       "        scheduled_departure_month scheduled_departure_time  \\\n",
       "319787                          2      2017-10-19 22:07:00   \n",
       "142803                         11      2017-10-19 23:15:00   \n",
       "236467                          1      2017-10-19 11:30:00   \n",
       "187455                          3      2017-10-19 08:28:00   \n",
       "516732                          3      2017-10-19 18:00:00   \n",
       "\n",
       "       actual_departure_date       ...        south_dep south_arr loca_dep  \\\n",
       "319787            2015-02-16       ...                0         1      NaN   \n",
       "142803            2014-11-03       ...                0         0    North   \n",
       "236467            2015-01-19       ...                0         1      NaN   \n",
       "187455            2015-03-05       ...                0         1      NaN   \n",
       "516732            2015-03-07       ...                0         1      NaN   \n",
       "\n",
       "       loca_arr  north dep     delay    s_operation_time    a_operation_time  \\\n",
       "319787    South      0   0  176880.0 2015-02-14 05:39:00 2015-02-16 06:47:00   \n",
       "142803      NaN      1   1   95640.0 2014-11-01 23:15:00 2014-11-03 01:49:00   \n",
       "236467    South      0   0   95580.0 2015-01-18 12:46:00 2015-01-19 15:19:00   \n",
       "187455    South      0   0   94560.0 2015-03-04 15:55:00 2015-03-05 18:11:00   \n",
       "516732    South      0   0   88860.0 2015-03-07 18:16:00 2015-03-08 18:57:00   \n",
       "\n",
       "       delay_at_airport  \n",
       "319787  2 days 01:08:00  \n",
       "142803  1 days 02:34:00  \n",
       "236467  1 days 02:33:00  \n",
       "187455  1 days 02:16:00  \n",
       "516732  1 days 00:41:00  \n",
       "\n",
       "[5 rows x 74 columns]"
      ]
     },
     "execution_count": 43,
     "metadata": {},
     "output_type": "execute_result"
    }
   ],
   "source": [
    "df.sort_values(by=\"delay\", ascending =False)[:5]"
   ]
  },
  {
   "cell_type": "code",
   "execution_count": 44,
   "metadata": {
    "collapsed": true
   },
   "outputs": [],
   "source": [
    "results=[]"
   ]
  },
  {
   "cell_type": "code",
   "execution_count": 45,
   "metadata": {
    "collapsed": false
   },
   "outputs": [],
   "source": [
    "## save this and expor to excel.\n",
    "\n",
    "desc_d =df_dep.groupby('dep_airport_code').describe()     \n",
    "desc_a= df_arr.groupby('arr_airport_code').describe()  \n",
    "\n",
    "results.append(desc_d)\n",
    "results.append(desc_a)\n",
    "append_results= pd.concat(results, axis= 0)\n",
    "append_results.to_excel('description.xlsx')"
   ]
  },
  {
   "cell_type": "code",
   "execution_count": 46,
   "metadata": {
    "collapsed": false
   },
   "outputs": [
    {
     "data": {
      "text/html": [
       "<div>\n",
       "<table border=\"1\" class=\"dataframe\">\n",
       "  <thead>\n",
       "    <tr style=\"text-align: right;\">\n",
       "      <th>late_arr</th>\n",
       "      <th>0</th>\n",
       "      <th>1</th>\n",
       "    </tr>\n",
       "    <tr>\n",
       "      <th>airport</th>\n",
       "      <th></th>\n",
       "      <th></th>\n",
       "    </tr>\n",
       "  </thead>\n",
       "  <tbody>\n",
       "    <tr>\n",
       "      <th>BOS</th>\n",
       "      <td>126832</td>\n",
       "      <td>30050</td>\n",
       "    </tr>\n",
       "    <tr>\n",
       "      <th>BUR</th>\n",
       "      <td>20736</td>\n",
       "      <td>3022</td>\n",
       "    </tr>\n",
       "    <tr>\n",
       "      <th>LAX</th>\n",
       "      <td>230193</td>\n",
       "      <td>56094</td>\n",
       "    </tr>\n",
       "    <tr>\n",
       "      <th>LGB</th>\n",
       "      <td>9432</td>\n",
       "      <td>1609</td>\n",
       "    </tr>\n",
       "    <tr>\n",
       "      <th>MHT</th>\n",
       "      <td>10188</td>\n",
       "      <td>2278</td>\n",
       "    </tr>\n",
       "    <tr>\n",
       "      <th>ORH</th>\n",
       "      <td>612</td>\n",
       "      <td>118</td>\n",
       "    </tr>\n",
       "    <tr>\n",
       "      <th>PVD</th>\n",
       "      <td>8443</td>\n",
       "      <td>1717</td>\n",
       "    </tr>\n",
       "    <tr>\n",
       "      <th>SNA</th>\n",
       "      <td>34315</td>\n",
       "      <td>5387</td>\n",
       "    </tr>\n",
       "  </tbody>\n",
       "</table>\n",
       "</div>"
      ],
      "text/plain": [
       "late_arr       0      1\n",
       "airport                \n",
       "BOS       126832  30050\n",
       "BUR        20736   3022\n",
       "LAX       230193  56094\n",
       "LGB         9432   1609\n",
       "MHT        10188   2278\n",
       "ORH          612    118\n",
       "PVD         8443   1717\n",
       "SNA        34315   5387"
      ]
     },
     "execution_count": 46,
     "metadata": {},
     "output_type": "execute_result"
    }
   ],
   "source": [
    "delay_arr= df.groupby(['airport','late_arr'])\n",
    "\n",
    "delay_arr=delay_arr.size().unstack()\n",
    "delay_arr\n",
    "#late_arr is arrival >15"
   ]
  },
  {
   "cell_type": "code",
   "execution_count": 47,
   "metadata": {
    "collapsed": false
   },
   "outputs": [],
   "source": [
    "dep_lateby = df.groupby(['scheduled_departure_month','late_dep','airport'])\n",
    "delay_dep= dep_lateby.size().unstack()"
   ]
  },
  {
   "cell_type": "code",
   "execution_count": 48,
   "metadata": {
    "collapsed": false
   },
   "outputs": [
    {
     "data": {
      "text/html": [
       "<div>\n",
       "<table border=\"1\" class=\"dataframe\">\n",
       "  <thead>\n",
       "    <tr style=\"text-align: right;\">\n",
       "      <th></th>\n",
       "      <th>airport</th>\n",
       "      <th>BOS</th>\n",
       "      <th>BUR</th>\n",
       "      <th>LAX</th>\n",
       "      <th>LGB</th>\n",
       "      <th>MHT</th>\n",
       "      <th>ORH</th>\n",
       "      <th>PVD</th>\n",
       "      <th>SNA</th>\n",
       "    </tr>\n",
       "    <tr>\n",
       "      <th>scheduled_departure_month</th>\n",
       "      <th>late_dep</th>\n",
       "      <th></th>\n",
       "      <th></th>\n",
       "      <th></th>\n",
       "      <th></th>\n",
       "      <th></th>\n",
       "      <th></th>\n",
       "      <th></th>\n",
       "      <th></th>\n",
       "    </tr>\n",
       "  </thead>\n",
       "  <tbody>\n",
       "    <tr>\n",
       "      <th rowspan=\"2\" valign=\"top\">1</th>\n",
       "      <th>0</th>\n",
       "      <td>21058</td>\n",
       "      <td>3356</td>\n",
       "      <td>39652</td>\n",
       "      <td>1571</td>\n",
       "      <td>1539</td>\n",
       "      <td>105</td>\n",
       "      <td>1290</td>\n",
       "      <td>5576</td>\n",
       "    </tr>\n",
       "    <tr>\n",
       "      <th>1</th>\n",
       "      <td>4266</td>\n",
       "      <td>558</td>\n",
       "      <td>8366</td>\n",
       "      <td>233</td>\n",
       "      <td>395</td>\n",
       "      <td>19</td>\n",
       "      <td>284</td>\n",
       "      <td>978</td>\n",
       "    </tr>\n",
       "    <tr>\n",
       "      <th rowspan=\"2\" valign=\"top\">2</th>\n",
       "      <th>0</th>\n",
       "      <td>17940</td>\n",
       "      <td>3013</td>\n",
       "      <td>35206</td>\n",
       "      <td>1337</td>\n",
       "      <td>1431</td>\n",
       "      <td>88</td>\n",
       "      <td>1167</td>\n",
       "      <td>5129</td>\n",
       "    </tr>\n",
       "    <tr>\n",
       "      <th>1</th>\n",
       "      <td>5775</td>\n",
       "      <td>575</td>\n",
       "      <td>8106</td>\n",
       "      <td>263</td>\n",
       "      <td>408</td>\n",
       "      <td>24</td>\n",
       "      <td>307</td>\n",
       "      <td>926</td>\n",
       "    </tr>\n",
       "    <tr>\n",
       "      <th rowspan=\"2\" valign=\"top\">3</th>\n",
       "      <th>0</th>\n",
       "      <td>22856</td>\n",
       "      <td>3593</td>\n",
       "      <td>38816</td>\n",
       "      <td>1554</td>\n",
       "      <td>1729</td>\n",
       "      <td>112</td>\n",
       "      <td>1409</td>\n",
       "      <td>5979</td>\n",
       "    </tr>\n",
       "    <tr>\n",
       "      <th>1</th>\n",
       "      <td>4900</td>\n",
       "      <td>533</td>\n",
       "      <td>11053</td>\n",
       "      <td>260</td>\n",
       "      <td>428</td>\n",
       "      <td>12</td>\n",
       "      <td>323</td>\n",
       "      <td>964</td>\n",
       "    </tr>\n",
       "    <tr>\n",
       "      <th rowspan=\"2\" valign=\"top\">10</th>\n",
       "      <th>0</th>\n",
       "      <td>25043</td>\n",
       "      <td>4092</td>\n",
       "      <td>43391</td>\n",
       "      <td>1889</td>\n",
       "      <td>2077</td>\n",
       "      <td>109</td>\n",
       "      <td>1992</td>\n",
       "      <td>6411</td>\n",
       "    </tr>\n",
       "    <tr>\n",
       "      <th>1</th>\n",
       "      <td>3685</td>\n",
       "      <td>130</td>\n",
       "      <td>5781</td>\n",
       "      <td>167</td>\n",
       "      <td>241</td>\n",
       "      <td>16</td>\n",
       "      <td>228</td>\n",
       "      <td>527</td>\n",
       "    </tr>\n",
       "    <tr>\n",
       "      <th rowspan=\"2\" valign=\"top\">11</th>\n",
       "      <th>0</th>\n",
       "      <td>22372</td>\n",
       "      <td>3678</td>\n",
       "      <td>40010</td>\n",
       "      <td>1583</td>\n",
       "      <td>1906</td>\n",
       "      <td>113</td>\n",
       "      <td>1383</td>\n",
       "      <td>5911</td>\n",
       "    </tr>\n",
       "    <tr>\n",
       "      <th>1</th>\n",
       "      <td>3333</td>\n",
       "      <td>244</td>\n",
       "      <td>6580</td>\n",
       "      <td>282</td>\n",
       "      <td>231</td>\n",
       "      <td>8</td>\n",
       "      <td>166</td>\n",
       "      <td>590</td>\n",
       "    </tr>\n",
       "    <tr>\n",
       "      <th rowspan=\"2\" valign=\"top\">12</th>\n",
       "      <th>0</th>\n",
       "      <td>21569</td>\n",
       "      <td>3001</td>\n",
       "      <td>36873</td>\n",
       "      <td>1575</td>\n",
       "      <td>1671</td>\n",
       "      <td>110</td>\n",
       "      <td>1342</td>\n",
       "      <td>5079</td>\n",
       "    </tr>\n",
       "    <tr>\n",
       "      <th>1</th>\n",
       "      <td>4085</td>\n",
       "      <td>985</td>\n",
       "      <td>12453</td>\n",
       "      <td>327</td>\n",
       "      <td>410</td>\n",
       "      <td>14</td>\n",
       "      <td>269</td>\n",
       "      <td>1632</td>\n",
       "    </tr>\n",
       "  </tbody>\n",
       "</table>\n",
       "</div>"
      ],
      "text/plain": [
       "airport                               BOS   BUR    LAX   LGB   MHT  ORH   PVD  \\\n",
       "scheduled_departure_month late_dep                                              \n",
       "1                         0         21058  3356  39652  1571  1539  105  1290   \n",
       "                          1          4266   558   8366   233   395   19   284   \n",
       "2                         0         17940  3013  35206  1337  1431   88  1167   \n",
       "                          1          5775   575   8106   263   408   24   307   \n",
       "3                         0         22856  3593  38816  1554  1729  112  1409   \n",
       "                          1          4900   533  11053   260   428   12   323   \n",
       "10                        0         25043  4092  43391  1889  2077  109  1992   \n",
       "                          1          3685   130   5781   167   241   16   228   \n",
       "11                        0         22372  3678  40010  1583  1906  113  1383   \n",
       "                          1          3333   244   6580   282   231    8   166   \n",
       "12                        0         21569  3001  36873  1575  1671  110  1342   \n",
       "                          1          4085   985  12453   327   410   14   269   \n",
       "\n",
       "airport                              SNA  \n",
       "scheduled_departure_month late_dep        \n",
       "1                         0         5576  \n",
       "                          1          978  \n",
       "2                         0         5129  \n",
       "                          1          926  \n",
       "3                         0         5979  \n",
       "                          1          964  \n",
       "10                        0         6411  \n",
       "                          1          527  \n",
       "11                        0         5911  \n",
       "                          1          590  \n",
       "12                        0         5079  \n",
       "                          1         1632  "
      ]
     },
     "execution_count": 48,
     "metadata": {},
     "output_type": "execute_result"
    }
   ],
   "source": [
    "delay_dep"
   ]
  },
  {
   "cell_type": "code",
   "execution_count": 49,
   "metadata": {
    "collapsed": false
   },
   "outputs": [
    {
     "data": {
      "text/plain": [
       "<matplotlib.axes._subplots.AxesSubplot at 0x1fe1b7e9080>"
      ]
     },
     "execution_count": 49,
     "metadata": {},
     "output_type": "execute_result"
    },
    {
     "data": {
      "image/png": "[encoded data removed]",
      "text/plain": [
       "<matplotlib.figure.Figure at 0x1fe1f4cfc50>"
      ]
     },
     "metadata": {},
     "output_type": "display_data"
    },
    {
     "data": {
      "image/png": "[encoded data removed]",
      "text/plain": [
       "<matplotlib.figure.Figure at 0x1fe1cbb42e8>"
      ]
     },
     "metadata": {},
     "output_type": "display_data"
    }
   ],
   "source": [
    "\n",
    "delay_arr.plot(kind='barh',stacked=True)\n",
    "delay_dep.plot(kind='barh',stacked=True)"
   ]
  },
  {
   "cell_type": "code",
   "execution_count": 50,
   "metadata": {
    "collapsed": false
   },
   "outputs": [
    {
     "data": {
      "text/html": [
       "<div>\n",
       "<table border=\"1\" class=\"dataframe\">\n",
       "  <thead>\n",
       "    <tr style=\"text-align: right;\">\n",
       "      <th>airport</th>\n",
       "      <th>BOS</th>\n",
       "      <th>BUR</th>\n",
       "      <th>LAX</th>\n",
       "      <th>LGB</th>\n",
       "      <th>MHT</th>\n",
       "      <th>ORH</th>\n",
       "      <th>PVD</th>\n",
       "      <th>SNA</th>\n",
       "    </tr>\n",
       "    <tr>\n",
       "      <th>scheduled_departure_date</th>\n",
       "      <th></th>\n",
       "      <th></th>\n",
       "      <th></th>\n",
       "      <th></th>\n",
       "      <th></th>\n",
       "      <th></th>\n",
       "      <th></th>\n",
       "      <th></th>\n",
       "    </tr>\n",
       "  </thead>\n",
       "  <tbody>\n",
       "    <tr>\n",
       "      <th>2014-10-01</th>\n",
       "      <td>964</td>\n",
       "      <td>146</td>\n",
       "      <td>1583</td>\n",
       "      <td>64</td>\n",
       "      <td>80</td>\n",
       "      <td>4</td>\n",
       "      <td>108</td>\n",
       "      <td>236</td>\n",
       "    </tr>\n",
       "    <tr>\n",
       "      <th>2014-10-02</th>\n",
       "      <td>999</td>\n",
       "      <td>146</td>\n",
       "      <td>1663</td>\n",
       "      <td>67</td>\n",
       "      <td>80</td>\n",
       "      <td>4</td>\n",
       "      <td>112</td>\n",
       "      <td>238</td>\n",
       "    </tr>\n",
       "    <tr>\n",
       "      <th>2014-10-03</th>\n",
       "      <td>1016</td>\n",
       "      <td>146</td>\n",
       "      <td>1665</td>\n",
       "      <td>66</td>\n",
       "      <td>80</td>\n",
       "      <td>4</td>\n",
       "      <td>114</td>\n",
       "      <td>238</td>\n",
       "    </tr>\n",
       "    <tr>\n",
       "      <th>2014-10-04</th>\n",
       "      <td>693</td>\n",
       "      <td>94</td>\n",
       "      <td>1341</td>\n",
       "      <td>63</td>\n",
       "      <td>57</td>\n",
       "      <td>4</td>\n",
       "      <td>90</td>\n",
       "      <td>168</td>\n",
       "    </tr>\n",
       "    <tr>\n",
       "      <th>2014-10-05</th>\n",
       "      <td>908</td>\n",
       "      <td>134</td>\n",
       "      <td>1628</td>\n",
       "      <td>67</td>\n",
       "      <td>73</td>\n",
       "      <td>4</td>\n",
       "      <td>105</td>\n",
       "      <td>218</td>\n",
       "    </tr>\n",
       "    <tr>\n",
       "      <th>2014-10-06</th>\n",
       "      <td>1003</td>\n",
       "      <td>144</td>\n",
       "      <td>1655</td>\n",
       "      <td>68</td>\n",
       "      <td>80</td>\n",
       "      <td>4</td>\n",
       "      <td>113</td>\n",
       "      <td>238</td>\n",
       "    </tr>\n",
       "    <tr>\n",
       "      <th>2014-10-07</th>\n",
       "      <td>956</td>\n",
       "      <td>142</td>\n",
       "      <td>1578</td>\n",
       "      <td>67</td>\n",
       "      <td>80</td>\n",
       "      <td>4</td>\n",
       "      <td>108</td>\n",
       "      <td>230</td>\n",
       "    </tr>\n",
       "    <tr>\n",
       "      <th>2014-10-08</th>\n",
       "      <td>971</td>\n",
       "      <td>146</td>\n",
       "      <td>1600</td>\n",
       "      <td>66</td>\n",
       "      <td>80</td>\n",
       "      <td>4</td>\n",
       "      <td>108</td>\n",
       "      <td>236</td>\n",
       "    </tr>\n",
       "    <tr>\n",
       "      <th>2014-10-09</th>\n",
       "      <td>1012</td>\n",
       "      <td>146</td>\n",
       "      <td>1662</td>\n",
       "      <td>69</td>\n",
       "      <td>80</td>\n",
       "      <td>4</td>\n",
       "      <td>107</td>\n",
       "      <td>238</td>\n",
       "    </tr>\n",
       "    <tr>\n",
       "      <th>2014-10-10</th>\n",
       "      <td>1028</td>\n",
       "      <td>146</td>\n",
       "      <td>1674</td>\n",
       "      <td>70</td>\n",
       "      <td>80</td>\n",
       "      <td>4</td>\n",
       "      <td>64</td>\n",
       "      <td>238</td>\n",
       "    </tr>\n",
       "  </tbody>\n",
       "</table>\n",
       "</div>"
      ],
      "text/plain": [
       "airport                    BOS  BUR   LAX  LGB  MHT  ORH  PVD  SNA\n",
       "scheduled_departure_date                                          \n",
       "2014-10-01                 964  146  1583   64   80    4  108  236\n",
       "2014-10-02                 999  146  1663   67   80    4  112  238\n",
       "2014-10-03                1016  146  1665   66   80    4  114  238\n",
       "2014-10-04                 693   94  1341   63   57    4   90  168\n",
       "2014-10-05                 908  134  1628   67   73    4  105  218\n",
       "2014-10-06                1003  144  1655   68   80    4  113  238\n",
       "2014-10-07                 956  142  1578   67   80    4  108  230\n",
       "2014-10-08                 971  146  1600   66   80    4  108  236\n",
       "2014-10-09                1012  146  1662   69   80    4  107  238\n",
       "2014-10-10                1028  146  1674   70   80    4   64  238"
      ]
     },
     "execution_count": 50,
     "metadata": {},
     "output_type": "execute_result"
    }
   ],
   "source": [
    "flights_by_airport = df.pivot_table(index='scheduled_departure_date', columns='airport', values='flt_no', aggfunc='count')\n",
    "flights_by_airport.head(10)\n"
   ]
  },
  {
   "cell_type": "code",
   "execution_count": 53,
   "metadata": {
    "collapsed": false
   },
   "outputs": [
    {
     "data": {
      "text/plain": [
       "<matplotlib.axes._subplots.AxesSubplot at 0x1fe18025f28>"
      ]
     },
     "execution_count": 53,
     "metadata": {},
     "output_type": "execute_result"
    },
    {
     "data": {
      "image/png": "[encoded data removed]",
      "text/plain": [
       "<matplotlib.figure.Figure at 0x1fe18025400>"
      ]
     },
     "metadata": {},
     "output_type": "display_data"
    }
   ],
   "source": [
    "# daily flight operations\n",
    "flights_by_airport.plot(figsize=[20,6],stacked=True )"
   ]
  },
  {
   "cell_type": "code",
   "execution_count": null,
   "metadata": {
    "collapsed": false
   },
   "outputs": [],
   "source": [
    "# mean delay by airport (seconds).\n",
    "mean_delay_by_airport = df.pivot_table(index='scheduled_departure_date', columns='airport', values='delay', aggfunc='mean')\n",
    "\n",
    "mean_delay_by_airport.head(10)\n"
   ]
  },
  {
   "cell_type": "code",
   "execution_count": null,
   "metadata": {
    "collapsed": false
   },
   "outputs": [],
   "source": [
    "flights_by_airport.plot(figsize=[20,6],stacked=True )"
   ]
  },
  {
   "cell_type": "code",
   "execution_count": null,
   "metadata": {
    "collapsed": false
   },
   "outputs": [],
   "source": [
    "# mean arrival delay by airport (seconds).\n",
    "mean_arr_delay_by_airport = df_arr.pivot_table(index='scheduled_departure_month', columns='airport', values='diff_arr', aggfunc='mean')\n",
    "\n",
    "mean_arr_delay_by_airport"
   ]
  },
  {
   "cell_type": "code",
   "execution_count": null,
   "metadata": {
    "collapsed": false
   },
   "outputs": [],
   "source": [
    "mean_delay_by_airport.plot(figsize=[10,6])"
   ]
  },
  {
   "cell_type": "code",
   "execution_count": null,
   "metadata": {
    "collapsed": false
   },
   "outputs": [],
   "source": [
    "mean_delay_by_airport = df.pivot_table(index='scheduled_departure_month', columns='airport', values='diff_dep', aggfunc='mean')\n",
    "mean_delay_by_airport"
   ]
  },
  {
   "cell_type": "code",
   "execution_count": null,
   "metadata": {
    "collapsed": false
   },
   "outputs": [],
   "source": [
    "mean_delay_by_airport.plot(figsize=[10,6])"
   ]
  },
  {
   "cell_type": "code",
   "execution_count": null,
   "metadata": {
    "collapsed": false
   },
   "outputs": [],
   "source": [
    "weather_by_airport = df.pivot_table(index='scheduled_departure_month', columns='airport', values='snow', aggfunc='mean')\n",
    "weather_by_airport.head()\n",
    "weather_by_airport.plot(figsize=[10,6])"
   ]
  },
  {
   "cell_type": "code",
   "execution_count": null,
   "metadata": {
    "collapsed": false
   },
   "outputs": [],
   "source": [
    "df.sd_hour.head()\n"
   ]
  },
  {
   "cell_type": "code",
   "execution_count": null,
   "metadata": {
    "collapsed": false
   },
   "outputs": [],
   "source": [
    "hourly_operlation= df.pivot_table(index ='sd_hour', columns= 'airport', values= 'flt_no', aggfunc='count')\n",
    "hourly_operlation.plot(figsize=[10,6])\n",
    "hourly_operlation"
   ]
  },
  {
   "cell_type": "code",
   "execution_count": null,
   "metadata": {
    "collapsed": false
   },
   "outputs": [],
   "source": [
    "df.pivot_table(columns='scheduled_departure_date')"
   ]
  },
  {
   "cell_type": "code",
   "execution_count": null,
   "metadata": {
    "collapsed": false
   },
   "outputs": [],
   "source": [
    "#how much of data is missing\n",
    "df.isnull().sum().sort_values(ascending=False).head()"
   ]
  },
  {
   "cell_type": "code",
   "execution_count": null,
   "metadata": {
    "collapsed": false
   },
   "outputs": [],
   "source": [
    "# grouped_arr.get_group('BOS').describe()"
   ]
  },
  {
   "cell_type": "code",
   "execution_count": null,
   "metadata": {
    "collapsed": false
   },
   "outputs": [],
   "source": [
    "#get_dummies in pandas\n",
    "# pd.get_dummies(df['month'])\n",
    "# make date. \n",
    "#df['new']= df['early'].map(lambda x : \"new\"+x)\n",
    "#df['new']= df['early'].map(lambda x : x*x)"
   ]
  },
  {
   "cell_type": "code",
   "execution_count": null,
   "metadata": {
    "collapsed": false
   },
   "outputs": [],
   "source": [
    "def plot_histogram(x):\n",
    "    plt.hist(x, alpha=0.5)\n",
    "    plt.title(\"Histogram of '{var_name}'\".format(var_name=x.name))\n",
    "    plt.xlabel(\"Value\")\n",
    "    plt.ylabel(\"Frequency\")\n",
    "    plt.show()"
   ]
  },
  {
   "cell_type": "code",
   "execution_count": null,
   "metadata": {
    "collapsed": false
   },
   "outputs": [],
   "source": [
    "plot_histogram(df['scheduled_arrival_month'])\n",
    "plot_histogram(df['scheduled_departure_month'])"
   ]
  },
  {
   "cell_type": "code",
   "execution_count": null,
   "metadata": {
    "collapsed": true
   },
   "outputs": [],
   "source": [
    "\n",
    "# Plot histograms to show distribution of features by outcome categories\n",
    "def plot_histogram_dv(x,y):\n",
    "    plt.hist(list(x[y==0]), alpha=0.5, label='Outcome=0')\n",
    "    plt.hist(list(x[y==1]), alpha=0.5, label='Outcome=1')\n",
    "    plt.title(\"Histogram of '{var_name}' by Outcome Category\".format(var_name=x.name))\n",
    "    plt.xlabel(\"Value\")\n",
    "    plt.ylabel(\"Frequency\")\n",
    "    plt.legend(loc='upper right')\n",
    "    plt.show()"
   ]
  },
  {
   "cell_type": "code",
   "execution_count": null,
   "metadata": {
    "collapsed": false
   },
   "outputs": [],
   "source": [
    "plot_histogram_dv(df['north_dep'],df['late_dep'])"
   ]
  },
  {
   "cell_type": "code",
   "execution_count": null,
   "metadata": {
    "collapsed": false
   },
   "outputs": [],
   "source": [
    "from matplotlib.pyplot import *\n",
    "plot(df['delay'],df['vis'],'o') \n"
   ]
  },
  {
   "cell_type": "code",
   "execution_count": null,
   "metadata": {
    "collapsed": false
   },
   "outputs": [],
   "source": [
    "from matplotlib.pyplot import *\n",
    "plot(df['temp'],df['delay'],'o') "
   ]
  },
  {
   "cell_type": "code",
   "execution_count": null,
   "metadata": {
    "collapsed": false
   },
   "outputs": [],
   "source": [
    "df['month']=df['scheduled_departure_month']"
   ]
  },
  {
   "cell_type": "code",
   "execution_count": null,
   "metadata": {
    "collapsed": false
   },
   "outputs": [],
   "source": [
    "## OLS\n",
    "result = sm.ols(formula =\"delay ~ temp +vis+ +snow + north\", data= df).fit()\n",
    "print(result.params)\n",
    "print (result.summary())"
   ]
  },
  {
   "cell_type": "code",
   "execution_count": null,
   "metadata": {
    "collapsed": true
   },
   "outputs": [],
   "source": [
    "## furture job.  congestion  and dummy for month \n",
    "\n"
   ]
  }
 ],
 "metadata": {
  "kernelspec": {
   "display_name": "Python 3",
   "language": "python",
   "name": "python3"
  },
  "language_info": {
   "codemirror_mode": {
    "name": "ipython",
    "version": 3
   },
   "file_extension": ".py",
   "mimetype": "text/x-python",
   "name": "python",
   "nbconvert_exporter": "python",
   "pygments_lexer": "ipython3",
   "version": "3.6.0"
  }
 },
 "nbformat": 4,
 "nbformat_minor": 2
}
