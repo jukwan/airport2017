{
 "cells": [
  {
   "cell_type": "markdown",
   "metadata": {},
   "source": [
    "# Merge weather and airport"
   ]
  },
  {
   "cell_type": "code",
   "execution_count": null,
   "metadata": {
    "collapsed": false
   },
   "outputs": [],
   "source": [
    "import sys\n",
    "import csv\n",
    "import pandas as pd\n",
    "import logging\n",
    "import time"
   ]
  },
  {
   "cell_type": "code",
   "execution_count": null,
   "metadata": {
    "collapsed": true
   },
   "outputs": [],
   "source": [
    "wban_code = {} # wban= weather station code\n",
    "weather_data = {}\n"
   ]
  },
  {
   "cell_type": "code",
   "execution_count": null,
   "metadata": {
    "collapsed": true
   },
   "outputs": [],
   "source": [
    "def time_diff(a, b):\n",
    "    mina = int(a/100)*60 + (a%100)\n",
    "    minb = int(b/100)*60 + (b%100)\n",
    "    return abs(mina-minb)"
   ]
  },
  {
   "cell_type": "code",
   "execution_count": null,
   "metadata": {
    "collapsed": true
   },
   "outputs": [],
   "source": [
    "year= '2014'"
   ]
  },
  {
   "cell_type": "code",
   "execution_count": null,
   "metadata": {
    "collapsed": false
   },
   "outputs": [],
   "source": [
    "pwd"
   ]
  },
  {
   "cell_type": "code",
   "execution_count": null,
   "metadata": {
    "collapsed": true
   },
   "outputs": [],
   "source": [
    "path ='F:\\\\Dropbox\\\\Flight\\\\Data\\\\'"
   ]
  },
  {
   "cell_type": "code",
   "execution_count": null,
   "metadata": {
    "collapsed": false
   },
   "outputs": [],
   "source": [
    "merged_file_name = path+'merged' + year + '.csv'\n",
    "merged_file = open(merged_file_name, 'wb')\n",
    "merged_file_writer = csv.writer(merged_file)"
   ]
  },
  {
   "cell_type": "code",
   "execution_count": null,
   "metadata": {
    "collapsed": true
   },
   "outputs": [],
   "source": []
  },
  {
   "cell_type": "markdown",
   "metadata": {},
   "source": [
    "# 1. read the WBAN CODE from weather station"
   ]
  },
  {
   "cell_type": "code",
   "execution_count": null,
   "metadata": {
    "collapsed": false
   },
   "outputs": [],
   "source": [
    "# read the station code file to create the wban map\n",
    "wban_code={}\n",
    "\n",
    "for i in range(1,13):\n",
    "    month= str(i)\n",
    "    if(i < 10):\n",
    "        month = '0' + month\n",
    "    mapfile_name =path+'Weather\\\\'+year +month+'station.txt'\n",
    " \n",
    "    try:        \n",
    "        map_file = open(mapfile_name) #open file\n",
    "        print(mapfile_name)\n",
    "    except FileNotFoundError:\n",
    "  \n",
    "        continue\n",
    "        \n",
    "    lines = map_file.readlines()\n",
    "    for i in range(1, len(lines)):\n",
    "        \n",
    "        items = lines[i].split('|') #parse the cell\n",
    "        wban_code[items[2]] = items[0] #\n",
    "    map_file.close()    \n",
    "        # set dictionary \n",
    "        #item[2] is CallSign: items[0] is WBAN : CallSign is enclude the airport code.\n",
    "# print(lines[0])\n",
    "# print(lines[5]) \n",
    "#creat map file\n",
    "mpfile = open('mapfile.txt', 'w')\n",
    "mpfile.write(str(wban_code))\n",
    "mpfile.close()   \n"
   ]
  },
  {
   "cell_type": "code",
   "execution_count": null,
   "metadata": {
    "collapsed": false
   },
   "outputs": [],
   "source": []
  },
  {
   "cell_type": "markdown",
   "metadata": {},
   "source": [
    "# 2.  Collecting WBAN code and date of airport data \n"
   ]
  },
  {
   "cell_type": "code",
   "execution_count": null,
   "metadata": {
    "collapsed": false
   },
   "outputs": [],
   "source": [
    "# read the airport data.\n",
    "airport_file= open(path+ '\\\\Data_ontime\\\\On_Time_On_Time_Performance_2014_4.csv','r')\n",
    "airport_lines= airport_file.read().splitlines()\n",
    "airport_file.close()\n",
    "\n"
   ]
  },
  {
   "cell_type": "code",
   "execution_count": null,
   "metadata": {
    "collapsed": false
   },
   "outputs": [],
   "source": [
    "# df= pd.read_csv(path+ '\\\\Data_ontime\\\\On_Time_On_Time_Performance_2014_4.csv')\n",
    "# wban_code['DCA']\n",
    "# origin_wban=df['Origin'].map(wban_code)\n",
    "# ori_wban=origin_wban.tolist()\n",
    "# date_stamp = df['FlightDate']\n",
    "# date=date_stamp.tolist"
   ]
  },
  {
   "cell_type": "code",
   "execution_count": null,
   "metadata": {
    "collapsed": false
   },
   "outputs": [],
   "source": []
  },
  {
   "cell_type": "markdown",
   "metadata": {
    "collapsed": false
   },
   "source": [
    "#  2. Make weather dictionary\n"
   ]
  },
  {
   "cell_type": "code",
   "execution_count": null,
   "metadata": {
    "collapsed": false
   },
   "outputs": [],
   "source": [
    "for month in range(4,5):\n",
    "    print(month)\n",
    "    weather_data ={}\n",
    "    for key, value in wban_code.items():\n",
    "#         print(value is wban code)\n",
    "#         print(value)\n",
    "        weather_data[value]={} #make empty dictionary for each data point\n",
    "           \n",
    "#     print(weather_data)              \n",
    "\n",
    "    num =str(month)\n",
    "    if(month<10):\n",
    "        num = '0' + num\n",
    "\n",
    "#   take hourly data for each month\n",
    "    # num is month.\n",
    "    hourly_file_name = path+'Weather\\\\'+year+ num +'hourly.txt'\n",
    "    \n",
    "    try:        \n",
    "        hourly_file = open(hourly_file_name) #open file\n",
    "        print(hourly_file_name)\n",
    "\n",
    "    except FileNotFoundError:\n",
    "        continue\n",
    "    lines = hourly_file.read().splitlines()\n",
    "\n",
    "    hourly_file.close()\n",
    "\n",
    "    headings = lines[0].split(',') #read first raw of weather file\n",
    "#     print(headings)\n",
    "\n",
    "    for j in range(1, len(lines)):\n",
    "        items = lines[j].split(',')\n",
    "        #print items[2:]\n",
    "        try:\n",
    "            date = items[1]\n",
    "            wban = items[0]\n",
    "            print(date)\n",
    "        except:\n",
    "            message = \"Date/wban invalid in hourly file\"\n",
    "            print(message)\n",
    "            continue\n",
    "        #print date, wban\n",
    "        \n",
    "        try:\n",
    "            if date in weather_data[wban]:\n",
    "                weather_data[wban][date].append(items[2:])\n",
    "            else:\n",
    "                weather_data[wban][date] = [items[2:]]\n",
    "        except:\n",
    "#             message = \"wban: \" + str(wban) + \" not in wban_code map\"\n",
    "            continue\n",
    "#     print(weather_data)\n",
    "    \n",
    "    \n",
    "## call airport data's wban and date\n",
    "\n",
    "#     for j in range(1, len(lines)):\n",
    "#         items = lines[j].split(',')\n",
    "#             print(items[2:])\n",
    "    \n",
    "     "
   ]
  },
  {
   "cell_type": "code",
   "execution_count": null,
   "metadata": {
    "collapsed": true
   },
   "outputs": [],
   "source": []
  },
  {
   "cell_type": "code",
   "execution_count": null,
   "metadata": {
    "collapsed": false
   },
   "outputs": [],
   "source": [
    "\n",
    "for k in range(1, 5):\n",
    "    items = airport_lines[k].split(',')\n",
    "    date_stamp= items[5]\n",
    "    date_stamp= date_stamp.replace('-','')\n",
    "#     date_stamp = int(date_stamp)\n",
    "    print(date_stamp)\n",
    "    \n",
    "    origin = items[14]\n",
    "    origin=origin.replace('\"','')\n",
    "    print(origin)\n",
    "    \n",
    "    dest = items[24]\n",
    "    dest= dest.replace('\"','')\n",
    "    print(dest)\n",
    "    print(wban_code[origin])\n",
    "    origin_wban= wban_code[origin]\n",
    "    weather_data[origin_wban]['20140401']"
   ]
  },
  {
   "cell_type": "code",
   "execution_count": null,
   "metadata": {
    "collapsed": false
   },
   "outputs": [],
   "source": [
    "        lines = hourly_file.read().splitlines()\n",
    "\n",
    "        hourly_file.close()\n",
    "\n",
    "        headings = lines[0].split(',') #read first raw of weather file\n",
    "\n",
    "        cnt = 0\n",
    "        # read the heading\n",
    "        for item in headings:\n",
    "            print(item)\n",
    "            if cnt < 2:\n",
    "                cnt+=1\n",
    "                continue\n",
    "            header.append(\"source_\" + item)\n",
    "    #     print(header)\n",
    "        cnt = 0\n",
    "        for item in headings:\n",
    "            if cnt < 2:\n",
    "                cnt+=1\n",
    "                continue\n",
    "            header.append(\"dest_\" + item)\n",
    "\n",
    "        if not(done):\n",
    "            merged_file_writer.writerow(header)\n",
    "            done = True\n",
    "\n",
    "\n",
    "        for j in range(1, len(lines)):\n",
    "            items = lines[j].split(',')\n",
    "            print(items[2:])\n",
    "            try:\n",
    "                date = int(items[1])\n",
    "                wban = int(items[0])\n",
    "            except:\n",
    "                 continue\n",
    "        for k in range(1, 2):\n",
    "            items = airport_lines[k].split(',')\n",
    "            date_stamp= items[5]\n",
    "            date_stamp= date_stamp.replace('-','')\n",
    "            date_stamp = int(date_stamp)\n",
    "            print(date_stamp)\n",
    "            day = items[3]\n",
    "            origin = items[14]\n",
    "            origin=origin.replace('\"','')\n",
    "            print(origin)\n",
    "            dest = items[24]\n",
    "            dest= dest.replace('\"','')\n",
    "\n",
    "            print(wban_code[origin])\n",
    "\n"
   ]
  },
  {
   "cell_type": "code",
   "execution_count": null,
   "metadata": {
    "collapsed": true
   },
   "outputs": [],
   "source": []
  },
  {
   "cell_type": "code",
   "execution_count": null,
   "metadata": {
    "collapsed": true
   },
   "outputs": [],
   "source": []
  }
 ],
 "metadata": {
  "kernelspec": {
   "display_name": "Python 3",
   "language": "python",
   "name": "python3"
  },
  "language_info": {
   "codemirror_mode": {
    "name": "ipython",
    "version": 3
   },
   "file_extension": ".py",
   "mimetype": "text/x-python",
   "name": "python",
   "nbconvert_exporter": "python",
   "pygments_lexer": "ipython3",
   "version": "3.6.0"
  }
 },
 "nbformat": 4,
 "nbformat_minor": 2
}
