{
 "cells": [
  {
   "cell_type": "markdown",
   "metadata": {},
   "source": [
    "# Delay estimation"
   ]
  },
  {
   "cell_type": "markdown",
   "metadata": {},
   "source": [
    "## 1. Load the data"
   ]
  },
  {
   "cell_type": "code",
   "execution_count": 1,
   "metadata": {
    "collapsed": false
   },
   "outputs": [],
   "source": [
    "import numpy as np\n",
    "import pandas as pd\n",
    "import datetime as datetime\n",
    "import os\n",
    "import matplotlib.pyplot as plt\n",
    "from matplotlib import style\n",
    "style.use('fivethirtyeight')\n",
    "%matplotlib inline\n",
    "import statsmodels.api as sm\n",
    "import statsmodels.formula.api as smf\n",
    "# from IPython.core.interactiveshell import InteractiveShell # show all results of commands\n",
    "# InteractiveShell.ast_node_interactivity = \"all\"\n"
   ]
  },
  {
   "cell_type": "code",
   "execution_count": 2,
   "metadata": {
    "collapsed": false
   },
   "outputs": [
    {
     "name": "stderr",
     "output_type": "stream",
     "text": [
      "C:\\Users\\Jukwan\\Anaconda3\\lib\\site-packages\\IPython\\core\\interactiveshell.py:2717: DtypeWarning: Columns (80,84,86,88,90,92,94,96,98,104,116) have mixed types. Specify dtype option on import or set low_memory=False.\n",
      "  interactivity=interactivity, compiler=compiler, result=result)\n"
     ]
    }
   ],
   "source": [
    "path= 'F:\\\\Dropbox\\\\Flight\\\\DATA\\\\cleaned_data' #for load the data\n",
    "df= pd.read_csv(path+'\\\\prepared_data.csv', parse_dates=['time','S_Dep_time','S_Arr_time'])\n",
    "#parse data help the conversion string to datetime dtype."
   ]
  },
  {
   "cell_type": "code",
   "execution_count": 3,
   "metadata": {
    "collapsed": false
   },
   "outputs": [
    {
     "name": "stdout",
     "output_type": "stream",
     "text": [
      "0.0    842990\n",
      "1.0      1734\n",
      "Name: Diverted, dtype: int64\n",
      "0.0    831698\n",
      "1.0     13026\n",
      "Name: Cancelled, dtype: int64\n"
     ]
    }
   ],
   "source": [
    "print(df['Diverted'].value_counts())\n",
    "\n",
    "print(df['Cancelled'].value_counts())\n",
    "df=df[df['Cancelled']==0]\n"
   ]
  },
  {
   "cell_type": "code",
   "execution_count": 4,
   "metadata": {
    "collapsed": false
   },
   "outputs": [
    {
     "name": "stdout",
     "output_type": "stream",
     "text": [
      "0.0    829964\n",
      "Name: Diverted, dtype: int64\n"
     ]
    }
   ],
   "source": [
    "len(df)\n",
    "df= df[df['Diverted']==0]\n",
    "print(df['Diverted'].value_counts())"
   ]
  },
  {
   "cell_type": "markdown",
   "metadata": {},
   "source": [
    "## 2. Make dummy variables for"
   ]
  },
  {
   "cell_type": "code",
   "execution_count": 5,
   "metadata": {
    "collapsed": false
   },
   "outputs": [
    {
     "name": "stdout",
     "output_type": "stream",
     "text": [
      "0.0    829964\n",
      "Name: Diverted, dtype: int64\n",
      "South    290993\n",
      "North    133100\n",
      "Name: loca_dep, dtype: int64\n",
      "South    290930\n",
      "North    132747\n",
      "Name: loca_arr, dtype: int64\n",
      "Arr    415190\n",
      "Dep    414774\n",
      "Name: con, dtype: int64\n",
      "0    BOS\n",
      "1    BOS\n",
      "2    BOS\n",
      "3    BOS\n",
      "4    BOS\n",
      "Name: airport, dtype: object\n"
     ]
    },
    {
     "data": {
      "text/plain": [
       "2    432448\n",
       "0    218751\n",
       "7     77523\n",
       "1     41299\n",
       "6     23742\n",
       "3     21750\n",
       "4     13090\n",
       "5      1361\n",
       "Name: airs_cat, dtype: int64"
      ]
     },
     "execution_count": 5,
     "metadata": {},
     "output_type": "execute_result"
    }
   ],
   "source": [
    " \n",
    "# 1. make dictionary \n",
    "city_to_dic={ 'BOS': 'North', 'PVD' :'North', 'MHT':'North', 'ORH': 'North', \\\n",
    "             'LAX' : 'South', 'LGB':'South', 'BUR':'South','SNA':'South' }\n",
    "# 2. maping the function\n",
    "print(df['Diverted'].value_counts())\n",
    "# df=df[df['Diverted']==0]\n",
    "df['loca_dep']= df['Dest'].map(city_to_dic)\n",
    "df['loca_arr']= df['Origin'].map(city_to_dic)\n",
    "print(df['loca_dep'].value_counts())\n",
    "print(df['loca_arr'].value_counts())\n",
    "# location north = 1 or south =0\n",
    "\n",
    "mask = (df['loca_dep']=='North')|(df['loca_arr']=='North')\n",
    "df['north'] =mask.astype(int)\n",
    "df['north'].value_counts()\n",
    "# dep: data set split  departure = 1 arrrival = 0\n",
    "print(df['con'].value_counts())\n",
    "\n",
    "\n",
    "## use the delay at 8 airports\n",
    "df['airport']= np.where(df['con']=='Dep', df['Origin'],df['Dest'])\n",
    "print(df['airport'].head())\n",
    "df['delay']=np.where(df['con']=='Dep', df['DepDelay'],df['ArrDelay'])\n",
    "\n",
    "df['taxitime']= np.where(df['con']=='Dep', df['TaxiOut'],df['TaxiIn'])\n",
    "## Snow if weather type contain any SN \n",
    "mask =df['WeatherType'].str.contains(\"SN\", na=False)\n",
    "df['snow'] =mask.astype(int)\n",
    "df['snow'].value_counts()\n",
    "\n",
    "df['temp']=pd.to_numeric(df.DryBulbFarenheit, errors='coerce')\n",
    "# print(df['temp'].value_counts())\n",
    "# # df['temp']# # M is missin\n",
    "df['HourlyPrecip']=df['HourlyPrecip'].str.replace('T', '0.005')\n",
    "df['HourlyPrecip'].value_counts()\n",
    "df['precip']=pd.to_numeric(df['HourlyPrecip'], errors='coerce')\n",
    "# #how much of data is missing\n",
    "df['precip'].value_counts()\n",
    "df['precip']=np.nan_to_num(df['precip']) # Nan chage to '0'\n",
    "df['vis']= pd.to_numeric(df.Visibility, errors='coerce')\n",
    "\n",
    "## winter and summer\n",
    "\n",
    "mask= (df.Month== 11)|(df.Month== 12)|(df.Month== 1)|(df.Month==2)|(df.Month== 3)\n",
    "df['winter']= mask.astype(int)\n",
    "\n",
    "## give id to airport\n",
    "\n",
    "df['airs'] = df['airport'].astype('category')\n",
    "\n",
    "df['airs'].dtypes\n",
    "df['airs_cat']= df['airs'].cat.codes\n",
    "df['airs_cat'].value_counts()"
   ]
  },
  {
   "cell_type": "code",
   "execution_count": 6,
   "metadata": {
    "collapsed": false
   },
   "outputs": [],
   "source": [
    "df['FlightDate']=pd.to_datetime(df['FlightDate'])\n",
    "# print(df.FlightDate)\n",
    "df['DateStr']=df['FlightDate'].apply(lambda x: x.strftime('%Y%m%d'))\n"
   ]
  },
  {
   "cell_type": "code",
   "execution_count": 7,
   "metadata": {
    "collapsed": false
   },
   "outputs": [
    {
     "data": {
      "text/plain": [
       "0   2014-10-21\n",
       "1   2014-10-21\n",
       "2   2014-10-21\n",
       "Name: FlightDate, dtype: datetime64[ns]"
      ]
     },
     "execution_count": 7,
     "metadata": {},
     "output_type": "execute_result"
    }
   ],
   "source": [
    "df['FlightDate'].head(3)"
   ]
  },
  {
   "cell_type": "code",
   "execution_count": 8,
   "metadata": {
    "collapsed": false
   },
   "outputs": [
    {
     "data": {
      "text/html": [
       "<div>\n",
       "<table border=\"1\" class=\"dataframe\">\n",
       "  <thead>\n",
       "    <tr style=\"text-align: right;\">\n",
       "      <th>airport</th>\n",
       "      <th>BOS</th>\n",
       "      <th>BUR</th>\n",
       "      <th>LAX</th>\n",
       "      <th>LGB</th>\n",
       "      <th>MHT</th>\n",
       "      <th>ORH</th>\n",
       "      <th>PVD</th>\n",
       "      <th>SNA</th>\n",
       "    </tr>\n",
       "    <tr>\n",
       "      <th>Month</th>\n",
       "      <th></th>\n",
       "      <th></th>\n",
       "      <th></th>\n",
       "      <th></th>\n",
       "      <th></th>\n",
       "      <th></th>\n",
       "      <th></th>\n",
       "      <th></th>\n",
       "    </tr>\n",
       "  </thead>\n",
       "  <tbody>\n",
       "    <tr>\n",
       "      <th>1</th>\n",
       "      <td>1904</td>\n",
       "      <td>0</td>\n",
       "      <td>0</td>\n",
       "      <td>0</td>\n",
       "      <td>98</td>\n",
       "      <td>14</td>\n",
       "      <td>169</td>\n",
       "      <td>0</td>\n",
       "    </tr>\n",
       "    <tr>\n",
       "      <th>2</th>\n",
       "      <td>2822</td>\n",
       "      <td>0</td>\n",
       "      <td>0</td>\n",
       "      <td>0</td>\n",
       "      <td>136</td>\n",
       "      <td>14</td>\n",
       "      <td>312</td>\n",
       "      <td>0</td>\n",
       "    </tr>\n",
       "    <tr>\n",
       "      <th>3</th>\n",
       "      <td>1499</td>\n",
       "      <td>0</td>\n",
       "      <td>0</td>\n",
       "      <td>0</td>\n",
       "      <td>65</td>\n",
       "      <td>14</td>\n",
       "      <td>183</td>\n",
       "      <td>0</td>\n",
       "    </tr>\n",
       "    <tr>\n",
       "      <th>4</th>\n",
       "      <td>0</td>\n",
       "      <td>0</td>\n",
       "      <td>0</td>\n",
       "      <td>0</td>\n",
       "      <td>3</td>\n",
       "      <td>0</td>\n",
       "      <td>0</td>\n",
       "      <td>0</td>\n",
       "    </tr>\n",
       "    <tr>\n",
       "      <th>5</th>\n",
       "      <td>0</td>\n",
       "      <td>0</td>\n",
       "      <td>0</td>\n",
       "      <td>0</td>\n",
       "      <td>0</td>\n",
       "      <td>0</td>\n",
       "      <td>0</td>\n",
       "      <td>0</td>\n",
       "    </tr>\n",
       "    <tr>\n",
       "      <th>6</th>\n",
       "      <td>0</td>\n",
       "      <td>0</td>\n",
       "      <td>0</td>\n",
       "      <td>0</td>\n",
       "      <td>0</td>\n",
       "      <td>0</td>\n",
       "      <td>0</td>\n",
       "      <td>0</td>\n",
       "    </tr>\n",
       "    <tr>\n",
       "      <th>7</th>\n",
       "      <td>0</td>\n",
       "      <td>0</td>\n",
       "      <td>0</td>\n",
       "      <td>0</td>\n",
       "      <td>0</td>\n",
       "      <td>0</td>\n",
       "      <td>0</td>\n",
       "      <td>0</td>\n",
       "    </tr>\n",
       "    <tr>\n",
       "      <th>8</th>\n",
       "      <td>0</td>\n",
       "      <td>0</td>\n",
       "      <td>0</td>\n",
       "      <td>0</td>\n",
       "      <td>0</td>\n",
       "      <td>0</td>\n",
       "      <td>0</td>\n",
       "      <td>0</td>\n",
       "    </tr>\n",
       "    <tr>\n",
       "      <th>9</th>\n",
       "      <td>0</td>\n",
       "      <td>0</td>\n",
       "      <td>0</td>\n",
       "      <td>0</td>\n",
       "      <td>0</td>\n",
       "      <td>0</td>\n",
       "      <td>0</td>\n",
       "      <td>0</td>\n",
       "    </tr>\n",
       "    <tr>\n",
       "      <th>10</th>\n",
       "      <td>0</td>\n",
       "      <td>0</td>\n",
       "      <td>0</td>\n",
       "      <td>0</td>\n",
       "      <td>0</td>\n",
       "      <td>0</td>\n",
       "      <td>0</td>\n",
       "      <td>0</td>\n",
       "    </tr>\n",
       "    <tr>\n",
       "      <th>11</th>\n",
       "      <td>343</td>\n",
       "      <td>0</td>\n",
       "      <td>0</td>\n",
       "      <td>0</td>\n",
       "      <td>19</td>\n",
       "      <td>2</td>\n",
       "      <td>21</td>\n",
       "      <td>0</td>\n",
       "    </tr>\n",
       "    <tr>\n",
       "      <th>12</th>\n",
       "      <td>981</td>\n",
       "      <td>0</td>\n",
       "      <td>0</td>\n",
       "      <td>0</td>\n",
       "      <td>68</td>\n",
       "      <td>7</td>\n",
       "      <td>83</td>\n",
       "      <td>0</td>\n",
       "    </tr>\n",
       "  </tbody>\n",
       "</table>\n",
       "</div>"
      ],
      "text/plain": [
       "airport   BOS  BUR  LAX  LGB  MHT  ORH  PVD  SNA\n",
       "Month                                           \n",
       "1        1904    0    0    0   98   14  169    0\n",
       "2        2822    0    0    0  136   14  312    0\n",
       "3        1499    0    0    0   65   14  183    0\n",
       "4           0    0    0    0    3    0    0    0\n",
       "5           0    0    0    0    0    0    0    0\n",
       "6           0    0    0    0    0    0    0    0\n",
       "7           0    0    0    0    0    0    0    0\n",
       "8           0    0    0    0    0    0    0    0\n",
       "9           0    0    0    0    0    0    0    0\n",
       "10          0    0    0    0    0    0    0    0\n",
       "11        343    0    0    0   19    2   21    0\n",
       "12        981    0    0    0   68    7   83    0"
      ]
     },
     "execution_count": 8,
     "metadata": {},
     "output_type": "execute_result"
    }
   ],
   "source": [
    "snow_airport = df.pivot_table(index='Month', columns='airport', values='snow', aggfunc='sum')\n",
    "snow_airport.head(12)"
   ]
  },
  {
   "cell_type": "code",
   "execution_count": null,
   "metadata": {
    "collapsed": true
   },
   "outputs": [],
   "source": []
  },
  {
   "cell_type": "code",
   "execution_count": 9,
   "metadata": {
    "collapsed": false
   },
   "outputs": [],
   "source": [
    "### dummies for airport\n",
    "s = pd.get_dummies(df.airport)\n",
    "df= df.join(s)"
   ]
  },
  {
   "cell_type": "code",
   "execution_count": 10,
   "metadata": {
    "collapsed": false
   },
   "outputs": [
    {
     "data": {
      "text/plain": [
       "False    829964\n",
       "Name: delay, dtype: int64"
      ]
     },
     "execution_count": 10,
     "metadata": {},
     "output_type": "execute_result"
    }
   ],
   "source": [
    "len(df.delay)\n",
    "mask =df.delay.isnull()\n",
    "mask.value_counts()"
   ]
  },
  {
   "cell_type": "code",
   "execution_count": 11,
   "metadata": {
    "collapsed": false
   },
   "outputs": [
    {
     "data": {
      "text/plain": [
       "2    432448\n",
       "0    218751\n",
       "7     77523\n",
       "1     41299\n",
       "6     23742\n",
       "3     21750\n",
       "4     13090\n",
       "5      1361\n",
       "Name: airs_cat, dtype: int64"
      ]
     },
     "execution_count": 11,
     "metadata": {},
     "output_type": "execute_result"
    }
   ],
   "source": [
    "df['airs'].dtypes\n",
    "df['airs_cat']= df['airs'].cat.codes\n",
    "df['airs_cat'].value_counts()"
   ]
  },
  {
   "cell_type": "code",
   "execution_count": 12,
   "metadata": {
    "collapsed": false
   },
   "outputs": [],
   "source": [
    "df_dep = df[df['con']=='Dep']\n",
    "df_arr = df[df['con']=='Arr']\n"
   ]
  },
  {
   "cell_type": "markdown",
   "metadata": {},
   "source": [
    "## 3. Estimations"
   ]
  },
  {
   "cell_type": "code",
   "execution_count": 13,
   "metadata": {
    "collapsed": false
   },
   "outputs": [],
   "source": [
    "#set panel data using multi indexing.\n",
    "df.drop(['Unnamed: 0', 'Unnamed: 0.1'],axis =1, inplace= True)\n",
    "df.set_index(['airport','FlightDate'],drop = False, inplace= True)"
   ]
  },
  {
   "cell_type": "markdown",
   "metadata": {},
   "source": [
    "### 3.1 LSDV (Least Square Dummy Variable)\n",
    " *regression with group dummies*"
   ]
  },
  {
   "cell_type": "markdown",
   "metadata": {},
   "source": [
    "### Delay (in minutes)"
   ]
  },
  {
   "cell_type": "code",
   "execution_count": 14,
   "metadata": {
    "collapsed": false
   },
   "outputs": [
    {
     "name": "stdout",
     "output_type": "stream",
     "text": [
      "                            OLS Regression Results                            \n",
      "==============================================================================\n",
      "Dep. Variable:                  delay   R-squared:                       0.006\n",
      "Model:                            OLS   Adj. R-squared:                  0.006\n",
      "Method:                 Least Squares   F-statistic:                     375.2\n",
      "Date:                Fri, 03 Nov 2017   Prob (F-statistic):               0.00\n",
      "Time:                        13:08:43   Log-Likelihood:            -4.0906e+06\n",
      "No. Observations:              823546   AIC:                         8.181e+06\n",
      "Df Residuals:                  823531   BIC:                         8.181e+06\n",
      "Df Model:                          14                                         \n",
      "Covariance Type:            nonrobust                                         \n",
      "==============================================================================\n",
      "                 coef    std err          t      P>|t|      [95.0% Conf. Int.]\n",
      "------------------------------------------------------------------------------\n",
      "Intercept     18.1498      0.488     37.184      0.000        17.193    19.107\n",
      "temp          -0.0713      0.004    -18.565      0.000        -0.079    -0.064\n",
      "vis           -0.4837      0.022    -21.876      0.000        -0.527    -0.440\n",
      "north         -2.0175      0.381     -5.301      0.000        -2.763    -1.271\n",
      "Distance      -0.0010      5e-05    -19.790      0.000        -0.001    -0.001\n",
      "precip        96.0137      3.351     28.656      0.000        89.447   102.581\n",
      "snow          11.4548      0.403     28.446      0.000        10.666    12.244\n",
      "BUR           -1.6514      0.429     -3.852      0.000        -2.492    -0.811\n",
      "LAX            0.2473      0.390      0.634      0.526        -0.517     1.012\n",
      "LGB           -5.4215      0.456    -11.888      0.000        -6.315    -4.528\n",
      "MHT            0.4260      0.313      1.360      0.174        -0.188     1.040\n",
      "ORH           -3.2189      0.947     -3.400      0.001        -5.074    -1.363\n",
      "PVD           -0.0787      0.238     -0.331      0.741        -0.545     0.387\n",
      "SNA           -2.2075      0.412     -5.360      0.000        -3.015    -1.400\n",
      "winter        -0.7015      0.096     -7.310      0.000        -0.890    -0.513\n",
      "==============================================================================\n",
      "Omnibus:                  1039633.416   Durbin-Watson:                   1.746\n",
      "Prob(Omnibus):                  0.000   Jarque-Bera (JB):        425587177.463\n",
      "Skew:                           6.627   Prob(JB):                         0.00\n",
      "Kurtosis:                     113.575   Cond. No.                     1.15e+05\n",
      "==============================================================================\n",
      "\n",
      "Warnings:\n",
      "[1] Standard Errors assume that the covariance matrix of the errors is correctly specified.\n",
      "[2] The condition number is large, 1.15e+05. This might indicate that there are\n",
      "strong multicollinearity or other numerical problems.\n"
     ]
    }
   ],
   "source": [
    "Xs= \"temp+vis+north+Distance+precip+snow+BUR+LAX+LGB+MHT+ORH+PVD+SNA+winter\"\n",
    "result = smf.ols(formula = \"delay ~\" + Xs, data= df).fit()\n",
    "# omit the BOS dummy\n",
    "print (result.summary())"
   ]
  },
  {
   "cell_type": "markdown",
   "metadata": {},
   "source": [
    "### Weather dealy"
   ]
  },
  {
   "cell_type": "code",
   "execution_count": 15,
   "metadata": {
    "collapsed": false
   },
   "outputs": [
    {
     "name": "stdout",
     "output_type": "stream",
     "text": [
      "                            OLS Regression Results                            \n",
      "==============================================================================\n",
      "Dep. Variable:           WeatherDelay   R-squared:                       0.006\n",
      "Model:                            OLS   Adj. R-squared:                  0.006\n",
      "Method:                 Least Squares   F-statistic:                     74.30\n",
      "Date:                Fri, 03 Nov 2017   Prob (F-statistic):          1.78e-212\n",
      "Time:                        13:08:43   Log-Likelihood:            -6.9502e+05\n",
      "No. Observations:              169059   AIC:                         1.390e+06\n",
      "Df Residuals:                  169044   BIC:                         1.390e+06\n",
      "Df Model:                          14                                         \n",
      "Covariance Type:            nonrobust                                         \n",
      "==============================================================================\n",
      "                 coef    std err          t      P>|t|      [95.0% Conf. Int.]\n",
      "------------------------------------------------------------------------------\n",
      "Intercept      3.5784      0.454      7.880      0.000         2.688     4.468\n",
      "temp          -0.0027      0.004     -0.758      0.449        -0.010     0.004\n",
      "vis           -0.2176      0.019    -11.476      0.000        -0.255    -0.180\n",
      "north          0.0952      0.362      0.263      0.793        -0.614     0.805\n",
      "Distance       0.0005   4.69e-05     11.535      0.000         0.000     0.001\n",
      "precip         4.2577      2.157      1.974      0.048         0.030     8.485\n",
      "snow           4.0662      0.269     15.105      0.000         3.539     4.594\n",
      "BUR           -0.4017      0.411     -0.977      0.328        -1.207     0.404\n",
      "LAX           -0.5372      0.370     -1.452      0.147        -1.263     0.188\n",
      "LGB           -0.7363      0.458     -1.607      0.108        -1.634     0.162\n",
      "MHT            0.5961      0.301      1.979      0.048         0.006     1.186\n",
      "ORH           -1.7176      0.933     -1.842      0.066        -3.545     0.110\n",
      "PVD           -0.2038      0.228     -0.896      0.370        -0.650     0.242\n",
      "SNA           -0.6320      0.393     -1.607      0.108        -1.403     0.139\n",
      "winter        -0.0403      0.092     -0.440      0.660        -0.220     0.139\n",
      "==============================================================================\n",
      "Omnibus:                   396893.923   Durbin-Watson:                   1.849\n",
      "Prob(Omnibus):                  0.000   Jarque-Bera (JB):       7018845259.207\n",
      "Skew:                          23.338   Prob(JB):                         0.00\n",
      "Kurtosis:                    1000.112   Cond. No.                     7.85e+04\n",
      "==============================================================================\n",
      "\n",
      "Warnings:\n",
      "[1] Standard Errors assume that the covariance matrix of the errors is correctly specified.\n",
      "[2] The condition number is large, 7.85e+04. This might indicate that there are\n",
      "strong multicollinearity or other numerical problems.\n"
     ]
    }
   ],
   "source": [
    "Xs= \"temp+vis+north+Distance+precip+snow+BUR+LAX+LGB+MHT+ORH+PVD+SNA+winter\"\n",
    "result = smf.ols(formula =\"WeatherDelay ~\"+Xs, data= df).fit()\n",
    "print (result.summary())"
   ]
  },
  {
   "cell_type": "markdown",
   "metadata": {},
   "source": [
    "### Runway delay"
   ]
  },
  {
   "cell_type": "code",
   "execution_count": 16,
   "metadata": {
    "collapsed": false
   },
   "outputs": [
    {
     "name": "stdout",
     "output_type": "stream",
     "text": [
      "                            OLS Regression Results                            \n",
      "==============================================================================\n",
      "Dep. Variable:               taxitime   R-squared:                       0.085\n",
      "Model:                            OLS   Adj. R-squared:                  0.085\n",
      "Method:                 Least Squares   F-statistic:                     5462.\n",
      "Date:                Fri, 03 Nov 2017   Prob (F-statistic):               0.00\n",
      "Time:                        13:08:45   Log-Likelihood:            -2.8842e+06\n",
      "No. Observations:              823546   AIC:                         5.768e+06\n",
      "Df Residuals:                  823531   BIC:                         5.769e+06\n",
      "Df Model:                          14                                         \n",
      "Covariance Type:            nonrobust                                         \n",
      "==============================================================================\n",
      "                 coef    std err          t      P>|t|      [95.0% Conf. Int.]\n",
      "------------------------------------------------------------------------------\n",
      "Intercept     15.8022      0.113    140.094      0.000        15.581    16.023\n",
      "temp          -0.0062      0.001     -6.997      0.000        -0.008    -0.004\n",
      "vis           -0.2196      0.005    -42.980      0.000        -0.230    -0.210\n",
      "north         -0.8596      0.088     -9.773      0.000        -1.032    -0.687\n",
      "Distance       0.0004   1.16e-05     38.042      0.000         0.000     0.000\n",
      "precip         5.2218      0.774      6.744      0.000         3.704     6.739\n",
      "snow           7.8299      0.093     84.140      0.000         7.647     8.012\n",
      "BUR           -6.3615      0.099    -64.211      0.000        -6.556    -6.167\n",
      "LAX           -0.2278      0.090     -2.527      0.011        -0.404    -0.051\n",
      "LGB           -5.3453      0.105    -50.721      0.000        -5.552    -5.139\n",
      "MHT           -4.5840      0.072    -63.332      0.000        -4.726    -4.442\n",
      "ORH           -5.4129      0.219    -24.743      0.000        -5.842    -4.984\n",
      "PVD           -4.5310      0.055    -82.440      0.000        -4.639    -4.423\n",
      "SNA           -5.0427      0.095    -52.985      0.000        -5.229    -4.856\n",
      "winter         0.2508      0.022     11.306      0.000         0.207     0.294\n",
      "==============================================================================\n",
      "Omnibus:                   466466.516   Durbin-Watson:                   1.130\n",
      "Prob(Omnibus):                  0.000   Jarque-Bera (JB):          7998215.891\n",
      "Skew:                           2.377   Prob(JB):                         0.00\n",
      "Kurtosis:                      17.508   Cond. No.                     1.15e+05\n",
      "==============================================================================\n",
      "\n",
      "Warnings:\n",
      "[1] Standard Errors assume that the covariance matrix of the errors is correctly specified.\n",
      "[2] The condition number is large, 1.15e+05. This might indicate that there are\n",
      "strong multicollinearity or other numerical problems.\n"
     ]
    }
   ],
   "source": [
    "Xs= \"temp+vis+north+Distance+precip+snow+BUR+LAX+LGB+MHT+ORH+PVD+SNA+winter\"\n",
    "result = smf.ols(formula =\"taxitime ~\"+ Xs, data= df).fit()\n",
    "# print(result.params)\n",
    "print (result.summary())"
   ]
  },
  {
   "cell_type": "markdown",
   "metadata": {},
   "source": [
    "### Runway Delay : Taxi in"
   ]
  },
  {
   "cell_type": "code",
   "execution_count": 17,
   "metadata": {
    "collapsed": false
   },
   "outputs": [
    {
     "name": "stdout",
     "output_type": "stream",
     "text": [
      "                            OLS Regression Results                            \n",
      "==============================================================================\n",
      "Dep. Variable:                 TaxiIn   R-squared:                       0.208\n",
      "Model:                            OLS   Adj. R-squared:                  0.208\n",
      "Method:                 Least Squares   F-statistic:                     7711.\n",
      "Date:                Fri, 03 Nov 2017   Prob (F-statistic):               0.00\n",
      "Time:                        13:08:46   Log-Likelihood:            -1.2914e+06\n",
      "No. Observations:              411913   AIC:                         2.583e+06\n",
      "Df Residuals:                  411898   BIC:                         2.583e+06\n",
      "Df Model:                          14                                         \n",
      "Covariance Type:            nonrobust                                         \n",
      "==============================================================================\n",
      "                 coef    std err          t      P>|t|      [95.0% Conf. Int.]\n",
      "------------------------------------------------------------------------------\n",
      "Intercept      7.2375      0.112     64.799      0.000         7.019     7.456\n",
      "temp           0.0057      0.001      6.535      0.000         0.004     0.007\n",
      "vis           -0.0892      0.005    -17.079      0.000        -0.099    -0.079\n",
      "north         -0.6107      0.086     -7.062      0.000        -0.780    -0.441\n",
      "Distance       0.0004   1.13e-05     36.752      0.000         0.000     0.000\n",
      "precip         5.9334      0.768      7.730      0.000         4.429     7.438\n",
      "snow           1.0454      0.091     11.492      0.000         0.867     1.224\n",
      "BUR           -4.1686      0.097    -42.756      0.000        -4.360    -3.977\n",
      "LAX            3.6485      0.089     41.131      0.000         3.475     3.822\n",
      "LGB           -3.3455      0.104    -32.284      0.000        -3.549    -3.142\n",
      "MHT           -2.0482      0.071    -28.897      0.000        -2.187    -1.909\n",
      "ORH           -3.2090      0.214    -14.992      0.000        -3.629    -2.789\n",
      "PVD           -1.8802      0.054    -34.927      0.000        -1.986    -1.775\n",
      "SNA           -2.0767      0.094    -22.166      0.000        -2.260    -1.893\n",
      "winter         0.3841      0.022     17.710      0.000         0.342     0.427\n",
      "==============================================================================\n",
      "Omnibus:                   305603.674   Durbin-Watson:                   1.698\n",
      "Prob(Omnibus):                  0.000   Jarque-Bera (JB):          7622820.365\n",
      "Skew:                           3.352   Prob(JB):                         0.00\n",
      "Kurtosis:                      22.980   Cond. No.                     1.16e+05\n",
      "==============================================================================\n",
      "\n",
      "Warnings:\n",
      "[1] Standard Errors assume that the covariance matrix of the errors is correctly specified.\n",
      "[2] The condition number is large, 1.16e+05. This might indicate that there are\n",
      "strong multicollinearity or other numerical problems.\n"
     ]
    }
   ],
   "source": [
    "Xs= \"temp+vis+north+Distance+precip+snow+BUR+LAX+LGB+MHT+ORH+PVD+SNA+winter\"\n",
    "result = smf.ols(formula =\"TaxiIn ~\" +Xs, data= df_arr).fit()\n",
    "# print(result.params)\n",
    "print (result.summary())"
   ]
  },
  {
   "cell_type": "markdown",
   "metadata": {},
   "source": [
    "### Runway delay : Taxi out"
   ]
  },
  {
   "cell_type": "code",
   "execution_count": 18,
   "metadata": {
    "collapsed": false
   },
   "outputs": [
    {
     "name": "stdout",
     "output_type": "stream",
     "text": [
      "                            OLS Regression Results                            \n",
      "==============================================================================\n",
      "Dep. Variable:                TaxiOut   R-squared:                       0.158\n",
      "Model:                            OLS   Adj. R-squared:                  0.158\n",
      "Method:                 Least Squares   F-statistic:                     5503.\n",
      "Date:                Fri, 03 Nov 2017   Prob (F-statistic):               0.00\n",
      "Time:                        13:08:47   Log-Likelihood:            -1.4236e+06\n",
      "No. Observations:              411633   AIC:                         2.847e+06\n",
      "Df Residuals:                  411618   BIC:                         2.847e+06\n",
      "Df Model:                          14                                         \n",
      "Covariance Type:            nonrobust                                         \n",
      "==============================================================================\n",
      "                 coef    std err          t      P>|t|      [95.0% Conf. Int.]\n",
      "------------------------------------------------------------------------------\n",
      "Intercept     23.1584      0.151    153.059      0.000        22.862    23.455\n",
      "temp          -0.0126      0.001    -10.615      0.000        -0.015    -0.010\n",
      "vis           -0.2526      0.007    -37.939      0.000        -0.266    -0.240\n",
      "north         -1.1765      0.119     -9.913      0.000        -1.409    -0.944\n",
      "Distance       0.0005   1.57e-05     30.275      0.000         0.000     0.001\n",
      "precip         9.0284      1.037      8.707      0.000         6.996    11.061\n",
      "snow          15.7815      0.126    124.825      0.000        15.534    16.029\n",
      "BUR           -8.7298      0.134    -65.363      0.000        -8.992    -8.468\n",
      "LAX           -4.2356      0.121    -34.863      0.000        -4.474    -3.997\n",
      "LGB           -7.5033      0.142    -52.774      0.000        -7.782    -7.225\n",
      "MHT           -7.1131      0.098    -72.548      0.000        -7.305    -6.921\n",
      "ORH           -7.5921      0.297    -25.599      0.000        -8.173    -7.011\n",
      "PVD           -7.1460      0.074    -96.006      0.000        -7.292    -7.000\n",
      "SNA           -8.1837      0.128    -63.807      0.000        -8.435    -7.932\n",
      "winter         0.2233      0.030      7.422      0.000         0.164     0.282\n",
      "==============================================================================\n",
      "Omnibus:                   282592.937   Durbin-Watson:                   1.546\n",
      "Prob(Omnibus):                  0.000   Jarque-Bera (JB):          8725051.197\n",
      "Skew:                           2.899   Prob(JB):                         0.00\n",
      "Kurtosis:                      24.797   Cond. No.                     1.13e+05\n",
      "==============================================================================\n",
      "\n",
      "Warnings:\n",
      "[1] Standard Errors assume that the covariance matrix of the errors is correctly specified.\n",
      "[2] The condition number is large, 1.13e+05. This might indicate that there are\n",
      "strong multicollinearity or other numerical problems.\n"
     ]
    }
   ],
   "source": [
    "Xs= \"temp+vis+north+Distance+precip+snow+BUR+LAX+LGB+MHT+ORH+PVD+SNA+winter\"\n",
    "result = smf.ols(formula =\"TaxiOut ~\" +Xs, data= df_dep).fit()\n",
    "# print(result.params)\n",
    "print (result.summary())"
   ]
  }
 ],
 "metadata": {
  "kernelspec": {
   "display_name": "Python 3",
   "language": "python",
   "name": "python3"
  },
  "language_info": {
   "codemirror_mode": {
    "name": "ipython",
    "version": 3
   },
   "file_extension": ".py",
   "mimetype": "text/x-python",
   "name": "python",
   "nbconvert_exporter": "python",
   "pygments_lexer": "ipython3",
   "version": "3.6.0"
  }
 },
 "nbformat": 4,
 "nbformat_minor": 2
}
