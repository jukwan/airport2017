{
 "cells": [
  {
   "cell_type": "markdown",
   "metadata": {},
   "source": [
    "# Delay estimation"
   ]
  },
  {
   "cell_type": "markdown",
   "metadata": {},
   "source": [
    "## 1. Load the data"
   ]
  },
  {
   "cell_type": "code",
   "execution_count": 1,
   "metadata": {
    "collapsed": false
   },
   "outputs": [],
   "source": [
    "import numpy as np\n",
    "import pandas as pd\n",
    "import datetime as datetime\n",
    "import os\n",
    "import matplotlib.pyplot as plt\n",
    "from matplotlib import style\n",
    "style.use('fivethirtyeight')\n",
    "%matplotlib inline\n",
    "import statsmodels.api as sm\n",
    "import statsmodels.formula.api as smf\n",
    "# from IPython.core.interactiveshell import InteractiveShell # show all results of commands\n",
    "# InteractiveShell.ast_node_interactivity = \"all\"\n"
   ]
  },
  {
   "cell_type": "code",
   "execution_count": 2,
   "metadata": {
    "collapsed": false
   },
   "outputs": [
    {
     "name": "stderr",
     "output_type": "stream",
     "text": [
      "C:\\Users\\Jukwan\\Anaconda3\\lib\\site-packages\\IPython\\core\\interactiveshell.py:2717: DtypeWarning: Columns (80,84,86,88,90,92,94,96,98,104,116) have mixed types. Specify dtype option on import or set low_memory=False.\n",
      "  interactivity=interactivity, compiler=compiler, result=result)\n"
     ]
    }
   ],
   "source": [
    "path= 'F:\\\\Dropbox\\\\Flight\\\\DATA\\\\cleaned_data' #for load the data\n",
    "df= pd.read_csv(path+'\\\\prepared_data.csv', parse_dates=['time','S_Dep_time','S_Arr_time'])\n",
    "#parse data help the conversion string to datetime dtype."
   ]
  },
  {
   "cell_type": "code",
   "execution_count": 3,
   "metadata": {
    "collapsed": false
   },
   "outputs": [
    {
     "name": "stdout",
     "output_type": "stream",
     "text": [
      "0.0    842990\n",
      "1.0      1734\n",
      "Name: Diverted, dtype: int64\n",
      "0.0    831698\n",
      "1.0     13026\n",
      "Name: Cancelled, dtype: int64\n"
     ]
    }
   ],
   "source": [
    "print(df['Diverted'].value_counts())\n",
    "\n",
    "print(df['Cancelled'].value_counts())\n",
    "df=df[df['Cancelled']==0]\n"
   ]
  },
  {
   "cell_type": "code",
   "execution_count": 122,
   "metadata": {
    "collapsed": false
   },
   "outputs": [
    {
     "name": "stdout",
     "output_type": "stream",
     "text": [
      "0.0    829964\n",
      "Name: Diverted, dtype: int64\n"
     ]
    }
   ],
   "source": [
    "len(df)\n",
    "df= df[df['Diverted']==0]\n",
    "print(df['Diverted'].value_counts())"
   ]
  },
  {
   "cell_type": "markdown",
   "metadata": {},
   "source": [
    "## 2. Make dummy variables for"
   ]
  },
  {
   "cell_type": "code",
   "execution_count": 4,
   "metadata": {
    "collapsed": false
   },
   "outputs": [
    {
     "name": "stdout",
     "output_type": "stream",
     "text": [
      "0.0    829964\n",
      "1.0      1734\n",
      "Name: Diverted, dtype: int64\n",
      "South    291490\n",
      "North    133286\n",
      "Name: loca_dep, dtype: int64\n",
      "South    291618\n",
      "North    133226\n",
      "Name: loca_arr, dtype: int64\n",
      "Dep    415883\n",
      "Arr    415815\n",
      "Name: con, dtype: int64\n",
      "0    BOS\n",
      "1    BOS\n",
      "2    BOS\n",
      "3    BOS\n",
      "4    BOS\n",
      "Name: airport, dtype: object\n"
     ]
    },
    {
     "data": {
      "text/plain": [
       "2    433291\n",
       "0    219234\n",
       "7     77681\n",
       "1     41386\n",
       "6     23806\n",
       "3     21789\n",
       "4     13124\n",
       "5      1387\n",
       "Name: airs_cat, dtype: int64"
      ]
     },
     "execution_count": 4,
     "metadata": {},
     "output_type": "execute_result"
    }
   ],
   "source": [
    " \n",
    "# 1. make dictionary \n",
    "city_to_dic={ 'BOS': 'North', 'PVD' :'North', 'MHT':'North', 'ORH': 'North', \\\n",
    "             'LAX' : 'South', 'LGB':'South', 'BUR':'South','SNA':'South' }\n",
    "# 2. maping the function\n",
    "print(df['Diverted'].value_counts())\n",
    "# df=df[df['Diverted']==0]\n",
    "df['loca_dep']= df['Dest'].map(city_to_dic)\n",
    "df['loca_arr']= df['Origin'].map(city_to_dic)\n",
    "print(df['loca_dep'].value_counts())\n",
    "print(df['loca_arr'].value_counts())\n",
    "# location north = 1 or south =0\n",
    "\n",
    "mask = (df['loca_dep']=='North')|(df['loca_arr']=='North')\n",
    "df['north'] =mask.astype(int)\n",
    "df['north'].value_counts()\n",
    "# dep: data set split  departure = 1 arrrival = 0\n",
    "print(df['con'].value_counts())\n",
    "\n",
    "\n",
    "## use the delay at 8 airports\n",
    "df['airport']= np.where(df['con']=='Dep', df['Origin'],df['Dest'])\n",
    "print(df['airport'].head())\n",
    "df['delay']=np.where(df['con']=='Dep', df['DepDelay'],df['ArrDelay'])\n",
    "\n",
    "df['taxitime']= np.where(df['con']=='Dep', df['TaxiOut'],df['TaxiIn'])\n",
    "## Snow if weather type contain any SN \n",
    "mask =df['WeatherType'].str.contains(\"SN\", na=False)\n",
    "df['snow'] =mask.astype(int)\n",
    "df['snow'].value_counts()\n",
    "\n",
    "df['temp']=pd.to_numeric(df.DryBulbFarenheit, errors='coerce')\n",
    "# print(df['temp'].value_counts())\n",
    "# # df['temp']# # M is missin\n",
    "df['HourlyPrecip']=df['HourlyPrecip'].str.replace('T', '0.005')\n",
    "df['HourlyPrecip'].value_counts()\n",
    "df['precip']=pd.to_numeric(df['HourlyPrecip'], errors='coerce')\n",
    "# #how much of data is missing\n",
    "df['precip'].value_counts()\n",
    "df['precip']=np.nan_to_num(df['precip']) # Nan chage to '0'\n",
    "df['vis']= pd.to_numeric(df.Visibility, errors='coerce')\n",
    "\n",
    "## winter and summer\n",
    "\n",
    "mask= (df.Month== 11)|(df.Month== 12)|(df.Month== 1)|(df.Month==2)|(df.Month== 3)\n",
    "df['winter']= mask.astype(int)\n",
    "\n",
    "## give id to airport\n",
    "\n",
    "df['airs'] = df['airport'].astype('category')\n",
    "\n",
    "df['airs'].dtypes\n",
    "df['airs_cat']= df['airs'].cat.codes\n",
    "df['airs_cat'].value_counts()"
   ]
  },
  {
   "cell_type": "code",
   "execution_count": 5,
   "metadata": {
    "collapsed": false
   },
   "outputs": [],
   "source": [
    "df['FlightDate']=pd.to_datetime(df['FlightDate'])\n",
    "# print(df.FlightDate)\n",
    "df['DateStr']=df['FlightDate'].apply(lambda x: x.strftime('%Y%m%d'))\n"
   ]
  },
  {
   "cell_type": "code",
   "execution_count": 6,
   "metadata": {
    "collapsed": false
   },
   "outputs": [
    {
     "data": {
      "text/plain": [
       "0   2014-10-21\n",
       "1   2014-10-21\n",
       "2   2014-10-21\n",
       "Name: FlightDate, dtype: datetime64[ns]"
      ]
     },
     "execution_count": 6,
     "metadata": {},
     "output_type": "execute_result"
    }
   ],
   "source": [
    "df['FlightDate'].head(3)"
   ]
  },
  {
   "cell_type": "code",
   "execution_count": 8,
   "metadata": {
    "collapsed": false
   },
   "outputs": [
    {
     "data": {
      "text/html": [
       "<div>\n",
       "<table border=\"1\" class=\"dataframe\">\n",
       "  <thead>\n",
       "    <tr style=\"text-align: right;\">\n",
       "      <th>airport</th>\n",
       "      <th>BOS</th>\n",
       "      <th>BUR</th>\n",
       "      <th>LAX</th>\n",
       "      <th>LGB</th>\n",
       "      <th>MHT</th>\n",
       "      <th>ORH</th>\n",
       "      <th>PVD</th>\n",
       "      <th>SNA</th>\n",
       "    </tr>\n",
       "    <tr>\n",
       "      <th>Month</th>\n",
       "      <th></th>\n",
       "      <th></th>\n",
       "      <th></th>\n",
       "      <th></th>\n",
       "      <th></th>\n",
       "      <th></th>\n",
       "      <th></th>\n",
       "      <th></th>\n",
       "    </tr>\n",
       "  </thead>\n",
       "  <tbody>\n",
       "    <tr>\n",
       "      <th>1</th>\n",
       "      <td>1912</td>\n",
       "      <td>0</td>\n",
       "      <td>0</td>\n",
       "      <td>0</td>\n",
       "      <td>98</td>\n",
       "      <td>14</td>\n",
       "      <td>172</td>\n",
       "      <td>0</td>\n",
       "    </tr>\n",
       "    <tr>\n",
       "      <th>2</th>\n",
       "      <td>2859</td>\n",
       "      <td>0</td>\n",
       "      <td>0</td>\n",
       "      <td>0</td>\n",
       "      <td>136</td>\n",
       "      <td>16</td>\n",
       "      <td>314</td>\n",
       "      <td>0</td>\n",
       "    </tr>\n",
       "    <tr>\n",
       "      <th>3</th>\n",
       "      <td>1519</td>\n",
       "      <td>0</td>\n",
       "      <td>0</td>\n",
       "      <td>0</td>\n",
       "      <td>66</td>\n",
       "      <td>14</td>\n",
       "      <td>184</td>\n",
       "      <td>0</td>\n",
       "    </tr>\n",
       "    <tr>\n",
       "      <th>4</th>\n",
       "      <td>0</td>\n",
       "      <td>0</td>\n",
       "      <td>0</td>\n",
       "      <td>0</td>\n",
       "      <td>3</td>\n",
       "      <td>0</td>\n",
       "      <td>0</td>\n",
       "      <td>0</td>\n",
       "    </tr>\n",
       "    <tr>\n",
       "      <th>5</th>\n",
       "      <td>0</td>\n",
       "      <td>0</td>\n",
       "      <td>0</td>\n",
       "      <td>0</td>\n",
       "      <td>0</td>\n",
       "      <td>0</td>\n",
       "      <td>0</td>\n",
       "      <td>0</td>\n",
       "    </tr>\n",
       "    <tr>\n",
       "      <th>6</th>\n",
       "      <td>0</td>\n",
       "      <td>0</td>\n",
       "      <td>0</td>\n",
       "      <td>0</td>\n",
       "      <td>0</td>\n",
       "      <td>0</td>\n",
       "      <td>0</td>\n",
       "      <td>0</td>\n",
       "    </tr>\n",
       "    <tr>\n",
       "      <th>7</th>\n",
       "      <td>0</td>\n",
       "      <td>0</td>\n",
       "      <td>0</td>\n",
       "      <td>0</td>\n",
       "      <td>0</td>\n",
       "      <td>0</td>\n",
       "      <td>0</td>\n",
       "      <td>0</td>\n",
       "    </tr>\n",
       "    <tr>\n",
       "      <th>8</th>\n",
       "      <td>0</td>\n",
       "      <td>0</td>\n",
       "      <td>0</td>\n",
       "      <td>0</td>\n",
       "      <td>0</td>\n",
       "      <td>0</td>\n",
       "      <td>0</td>\n",
       "      <td>0</td>\n",
       "    </tr>\n",
       "    <tr>\n",
       "      <th>9</th>\n",
       "      <td>0</td>\n",
       "      <td>0</td>\n",
       "      <td>0</td>\n",
       "      <td>0</td>\n",
       "      <td>0</td>\n",
       "      <td>0</td>\n",
       "      <td>0</td>\n",
       "      <td>0</td>\n",
       "    </tr>\n",
       "    <tr>\n",
       "      <th>10</th>\n",
       "      <td>0</td>\n",
       "      <td>0</td>\n",
       "      <td>0</td>\n",
       "      <td>0</td>\n",
       "      <td>0</td>\n",
       "      <td>0</td>\n",
       "      <td>0</td>\n",
       "      <td>0</td>\n",
       "    </tr>\n",
       "    <tr>\n",
       "      <th>11</th>\n",
       "      <td>344</td>\n",
       "      <td>0</td>\n",
       "      <td>0</td>\n",
       "      <td>0</td>\n",
       "      <td>20</td>\n",
       "      <td>2</td>\n",
       "      <td>21</td>\n",
       "      <td>0</td>\n",
       "    </tr>\n",
       "    <tr>\n",
       "      <th>12</th>\n",
       "      <td>987</td>\n",
       "      <td>0</td>\n",
       "      <td>0</td>\n",
       "      <td>0</td>\n",
       "      <td>68</td>\n",
       "      <td>7</td>\n",
       "      <td>83</td>\n",
       "      <td>0</td>\n",
       "    </tr>\n",
       "  </tbody>\n",
       "</table>\n",
       "</div>"
      ],
      "text/plain": [
       "airport   BOS  BUR  LAX  LGB  MHT  ORH  PVD  SNA\n",
       "Month                                           \n",
       "1        1912    0    0    0   98   14  172    0\n",
       "2        2859    0    0    0  136   16  314    0\n",
       "3        1519    0    0    0   66   14  184    0\n",
       "4           0    0    0    0    3    0    0    0\n",
       "5           0    0    0    0    0    0    0    0\n",
       "6           0    0    0    0    0    0    0    0\n",
       "7           0    0    0    0    0    0    0    0\n",
       "8           0    0    0    0    0    0    0    0\n",
       "9           0    0    0    0    0    0    0    0\n",
       "10          0    0    0    0    0    0    0    0\n",
       "11        344    0    0    0   20    2   21    0\n",
       "12        987    0    0    0   68    7   83    0"
      ]
     },
     "execution_count": 8,
     "metadata": {},
     "output_type": "execute_result"
    }
   ],
   "source": [
    "snow_airport = df.pivot_table(index='Month', columns='airport', values='snow', aggfunc='sum')\n",
    "snow_airport.head(12)"
   ]
  },
  {
   "cell_type": "code",
   "execution_count": null,
   "metadata": {
    "collapsed": true
   },
   "outputs": [],
   "source": []
  },
  {
   "cell_type": "code",
   "execution_count": 9,
   "metadata": {
    "collapsed": false
   },
   "outputs": [],
   "source": [
    "### dummies for airport\n",
    "s = pd.get_dummies(df.airport)\n",
    "df= df.join(s)"
   ]
  },
  {
   "cell_type": "code",
   "execution_count": 109,
   "metadata": {
    "collapsed": false
   },
   "outputs": [
    {
     "data": {
      "text/plain": [
       "False    831291\n",
       "True      13433\n",
       "Name: delay, dtype: int64"
      ]
     },
     "execution_count": 109,
     "metadata": {},
     "output_type": "execute_result"
    }
   ],
   "source": [
    "len(df.delay)\n",
    "mask =df.delay.isnull()\n",
    "mask.value_counts()"
   ]
  },
  {
   "cell_type": "code",
   "execution_count": null,
   "metadata": {
    "collapsed": true
   },
   "outputs": [],
   "source": [
    "df['airs'].dtypes\n",
    "df['airs_cat']= df['airs'].cat.codes\n",
    "df['airs_cat'].value_counts()"
   ]
  },
  {
   "cell_type": "code",
   "execution_count": 20,
   "metadata": {
    "collapsed": false
   },
   "outputs": [],
   "source": [
    "df_dep = df[df['con']=='Dep']\n",
    "df_arr = df[df['con']=='Arr']\n"
   ]
  },
  {
   "cell_type": "markdown",
   "metadata": {},
   "source": [
    "## 3. Estimations"
   ]
  },
  {
   "cell_type": "code",
   "execution_count": 30,
   "metadata": {
    "collapsed": false
   },
   "outputs": [
    {
     "ename": "ValueError",
     "evalue": "labels ['Unnamed: 0' 'Unnamed: 0.1'] not contained in axis",
     "output_type": "error",
     "traceback": [
      "\u001b[0;31m---------------------------------------------------------------------------\u001b[0m",
      "\u001b[0;31mValueError\u001b[0m                                Traceback (most recent call last)",
      "\u001b[0;32m<ipython-input-30-e78a3ac1dfa2>\u001b[0m in \u001b[0;36m<module>\u001b[0;34m()\u001b[0m\n\u001b[1;32m      1\u001b[0m \u001b[1;31m#set panel data using multi indexing.\u001b[0m\u001b[1;33m\u001b[0m\u001b[1;33m\u001b[0m\u001b[0m\n\u001b[0;32m----> 2\u001b[0;31m \u001b[0mdf\u001b[0m\u001b[1;33m.\u001b[0m\u001b[0mdrop\u001b[0m\u001b[1;33m(\u001b[0m\u001b[1;33m[\u001b[0m\u001b[1;34m'Unnamed: 0'\u001b[0m\u001b[1;33m,\u001b[0m \u001b[1;34m'Unnamed: 0.1'\u001b[0m\u001b[1;33m]\u001b[0m\u001b[1;33m,\u001b[0m\u001b[0maxis\u001b[0m \u001b[1;33m=\u001b[0m\u001b[1;36m1\u001b[0m\u001b[1;33m,\u001b[0m \u001b[0minplace\u001b[0m\u001b[1;33m=\u001b[0m \u001b[1;32mTrue\u001b[0m\u001b[1;33m)\u001b[0m\u001b[1;33m\u001b[0m\u001b[0m\n\u001b[0m\u001b[1;32m      3\u001b[0m \u001b[0mdf\u001b[0m\u001b[1;33m.\u001b[0m\u001b[0mset_index\u001b[0m\u001b[1;33m(\u001b[0m\u001b[1;33m[\u001b[0m\u001b[1;34m'airport'\u001b[0m\u001b[1;33m,\u001b[0m\u001b[1;34m'FlightDate'\u001b[0m\u001b[1;33m]\u001b[0m\u001b[1;33m,\u001b[0m\u001b[0mdrop\u001b[0m \u001b[1;33m=\u001b[0m \u001b[1;32mFalse\u001b[0m\u001b[1;33m,\u001b[0m \u001b[0minplace\u001b[0m\u001b[1;33m=\u001b[0m \u001b[1;32mTrue\u001b[0m\u001b[1;33m)\u001b[0m\u001b[1;33m\u001b[0m\u001b[0m\n",
      "\u001b[0;32mC:\\Users\\Jukwan\\Anaconda3\\lib\\site-packages\\pandas\\core\\generic.py\u001b[0m in \u001b[0;36mdrop\u001b[0;34m(self, labels, axis, level, inplace, errors)\u001b[0m\n\u001b[1;32m   1905\u001b[0m                 \u001b[0mnew_axis\u001b[0m \u001b[1;33m=\u001b[0m \u001b[0maxis\u001b[0m\u001b[1;33m.\u001b[0m\u001b[0mdrop\u001b[0m\u001b[1;33m(\u001b[0m\u001b[0mlabels\u001b[0m\u001b[1;33m,\u001b[0m \u001b[0mlevel\u001b[0m\u001b[1;33m=\u001b[0m\u001b[0mlevel\u001b[0m\u001b[1;33m,\u001b[0m \u001b[0merrors\u001b[0m\u001b[1;33m=\u001b[0m\u001b[0merrors\u001b[0m\u001b[1;33m)\u001b[0m\u001b[1;33m\u001b[0m\u001b[0m\n\u001b[1;32m   1906\u001b[0m             \u001b[1;32melse\u001b[0m\u001b[1;33m:\u001b[0m\u001b[1;33m\u001b[0m\u001b[0m\n\u001b[0;32m-> 1907\u001b[0;31m                 \u001b[0mnew_axis\u001b[0m \u001b[1;33m=\u001b[0m \u001b[0maxis\u001b[0m\u001b[1;33m.\u001b[0m\u001b[0mdrop\u001b[0m\u001b[1;33m(\u001b[0m\u001b[0mlabels\u001b[0m\u001b[1;33m,\u001b[0m \u001b[0merrors\u001b[0m\u001b[1;33m=\u001b[0m\u001b[0merrors\u001b[0m\u001b[1;33m)\u001b[0m\u001b[1;33m\u001b[0m\u001b[0m\n\u001b[0m\u001b[1;32m   1908\u001b[0m             \u001b[0mdropped\u001b[0m \u001b[1;33m=\u001b[0m \u001b[0mself\u001b[0m\u001b[1;33m.\u001b[0m\u001b[0mreindex\u001b[0m\u001b[1;33m(\u001b[0m\u001b[1;33m**\u001b[0m\u001b[1;33m{\u001b[0m\u001b[0maxis_name\u001b[0m\u001b[1;33m:\u001b[0m \u001b[0mnew_axis\u001b[0m\u001b[1;33m}\u001b[0m\u001b[1;33m)\u001b[0m\u001b[1;33m\u001b[0m\u001b[0m\n\u001b[1;32m   1909\u001b[0m             \u001b[1;32mtry\u001b[0m\u001b[1;33m:\u001b[0m\u001b[1;33m\u001b[0m\u001b[0m\n",
      "\u001b[0;32mC:\\Users\\Jukwan\\Anaconda3\\lib\\site-packages\\pandas\\indexes\\base.py\u001b[0m in \u001b[0;36mdrop\u001b[0;34m(self, labels, errors)\u001b[0m\n\u001b[1;32m   3260\u001b[0m             \u001b[1;32mif\u001b[0m \u001b[0merrors\u001b[0m \u001b[1;33m!=\u001b[0m \u001b[1;34m'ignore'\u001b[0m\u001b[1;33m:\u001b[0m\u001b[1;33m\u001b[0m\u001b[0m\n\u001b[1;32m   3261\u001b[0m                 raise ValueError('labels %s not contained in axis' %\n\u001b[0;32m-> 3262\u001b[0;31m                                  labels[mask])\n\u001b[0m\u001b[1;32m   3263\u001b[0m             \u001b[0mindexer\u001b[0m \u001b[1;33m=\u001b[0m \u001b[0mindexer\u001b[0m\u001b[1;33m[\u001b[0m\u001b[1;33m~\u001b[0m\u001b[0mmask\u001b[0m\u001b[1;33m]\u001b[0m\u001b[1;33m\u001b[0m\u001b[0m\n\u001b[1;32m   3264\u001b[0m         \u001b[1;32mreturn\u001b[0m \u001b[0mself\u001b[0m\u001b[1;33m.\u001b[0m\u001b[0mdelete\u001b[0m\u001b[1;33m(\u001b[0m\u001b[0mindexer\u001b[0m\u001b[1;33m)\u001b[0m\u001b[1;33m\u001b[0m\u001b[0m\n",
      "\u001b[0;31mValueError\u001b[0m: labels ['Unnamed: 0' 'Unnamed: 0.1'] not contained in axis"
     ]
    }
   ],
   "source": [
    "#set panel data using multi indexing.\n",
    "df.drop(['Unnamed: 0', 'Unnamed: 0.1'],axis =1, inplace= True)\n",
    "df.set_index(['airport','FlightDate'],drop = False, inplace= True)"
   ]
  },
  {
   "cell_type": "markdown",
   "metadata": {},
   "source": [
    "### 3.1 LSDV (Least Square Dummy Variable)\n",
    " *regression with group dummies*"
   ]
  },
  {
   "cell_type": "markdown",
   "metadata": {},
   "source": [
    "### Delay (in minutes)"
   ]
  },
  {
   "cell_type": "code",
   "execution_count": 27,
   "metadata": {
    "collapsed": false
   },
   "outputs": [
    {
     "name": "stdout",
     "output_type": "stream",
     "text": [
      "                            OLS Regression Results                            \n",
      "==============================================================================\n",
      "Dep. Variable:                  delay   R-squared:                       0.006\n",
      "Model:                            OLS   Adj. R-squared:                  0.006\n",
      "Method:                 Least Squares   F-statistic:                     375.0\n",
      "Date:                Fri, 03 Nov 2017   Prob (F-statistic):               0.00\n",
      "Time:                        11:37:50   Log-Likelihood:            -4.0974e+06\n",
      "No. Observations:              824652   AIC:                         8.195e+06\n",
      "Df Residuals:                  824637   BIC:                         8.195e+06\n",
      "Df Model:                          14                                         \n",
      "Covariance Type:            nonrobust                                         \n",
      "==============================================================================\n",
      "                 coef    std err          t      P>|t|      [95.0% Conf. Int.]\n",
      "------------------------------------------------------------------------------\n",
      "Intercept     18.2013      0.489     37.251      0.000        17.244    19.159\n",
      "temp          -0.0711      0.004    -18.507      0.000        -0.079    -0.064\n",
      "vis           -0.4854      0.022    -21.938      0.000        -0.529    -0.442\n",
      "north         -2.0570      0.381     -5.398      0.000        -2.804    -1.310\n",
      "Distance      -0.0010   5.01e-05    -19.345      0.000        -0.001    -0.001\n",
      "precip        95.8710      3.351     28.606      0.000        89.302   102.440\n",
      "snow          11.5142      0.403     28.605      0.000        10.725    12.303\n",
      "BUR           -1.6826      0.429     -3.920      0.000        -2.524    -0.841\n",
      "LAX            0.1881      0.391      0.482      0.630        -0.577     0.953\n",
      "LGB           -5.4834      0.457    -12.009      0.000        -6.378    -4.588\n",
      "MHT            0.4567      0.313      1.457      0.145        -0.157     1.071\n",
      "ORH           -3.1869      0.947     -3.364      0.001        -5.044    -1.330\n",
      "PVD           -0.0969      0.238     -0.407      0.684        -0.563     0.370\n",
      "SNA           -2.2472      0.412     -5.450      0.000        -3.055    -1.439\n",
      "winter        -0.6981      0.096     -7.266      0.000        -0.886    -0.510\n",
      "==============================================================================\n",
      "Omnibus:                  1043499.750   Durbin-Watson:                   1.747\n",
      "Prob(Omnibus):                  0.000   Jarque-Bera (JB):        432091283.455\n",
      "Skew:                           6.654   Prob(JB):                         0.00\n",
      "Kurtosis:                     114.347   Cond. No.                     1.15e+05\n",
      "==============================================================================\n",
      "\n",
      "Warnings:\n",
      "[1] Standard Errors assume that the covariance matrix of the errors is correctly specified.\n",
      "[2] The condition number is large, 1.15e+05. This might indicate that there are\n",
      "strong multicollinearity or other numerical problems.\n"
     ]
    }
   ],
   "source": [
    "Xs= \"temp+vis+north+Distance+precip+snow+BUR+LAX+LGB+MHT+ORH+PVD+SNA+winter\"\n",
    "result = smf.ols(formula = \"delay ~\" + Xs, data= df).fit()\n",
    "# omit the BOS dummy\n",
    "print (result.summary())"
   ]
  },
  {
   "cell_type": "markdown",
   "metadata": {},
   "source": [
    "### Weather dealy"
   ]
  },
  {
   "cell_type": "code",
   "execution_count": 26,
   "metadata": {
    "collapsed": false
   },
   "outputs": [
    {
     "name": "stdout",
     "output_type": "stream",
     "text": [
      "                            OLS Regression Results                            \n",
      "==============================================================================\n",
      "Dep. Variable:           WeatherDelay   R-squared:                       0.006\n",
      "Model:                            OLS   Adj. R-squared:                  0.006\n",
      "Method:                 Least Squares   F-statistic:                     74.30\n",
      "Date:                Fri, 03 Nov 2017   Prob (F-statistic):          1.78e-212\n",
      "Time:                        11:37:36   Log-Likelihood:            -6.9502e+05\n",
      "No. Observations:              169059   AIC:                         1.390e+06\n",
      "Df Residuals:                  169044   BIC:                         1.390e+06\n",
      "Df Model:                          14                                         \n",
      "Covariance Type:            nonrobust                                         \n",
      "==============================================================================\n",
      "                 coef    std err          t      P>|t|      [95.0% Conf. Int.]\n",
      "------------------------------------------------------------------------------\n",
      "Intercept      3.5784      0.454      7.880      0.000         2.688     4.468\n",
      "temp          -0.0027      0.004     -0.758      0.449        -0.010     0.004\n",
      "vis           -0.2176      0.019    -11.476      0.000        -0.255    -0.180\n",
      "north          0.0952      0.362      0.263      0.793        -0.614     0.805\n",
      "Distance       0.0005   4.69e-05     11.535      0.000         0.000     0.001\n",
      "precip         4.2577      2.157      1.974      0.048         0.030     8.485\n",
      "snow           4.0662      0.269     15.105      0.000         3.539     4.594\n",
      "BUR           -0.4017      0.411     -0.977      0.328        -1.207     0.404\n",
      "LAX           -0.5372      0.370     -1.452      0.147        -1.263     0.188\n",
      "LGB           -0.7363      0.458     -1.607      0.108        -1.634     0.162\n",
      "MHT            0.5961      0.301      1.979      0.048         0.006     1.186\n",
      "ORH           -1.7176      0.933     -1.842      0.066        -3.545     0.110\n",
      "PVD           -0.2038      0.228     -0.896      0.370        -0.650     0.242\n",
      "SNA           -0.6320      0.393     -1.607      0.108        -1.403     0.139\n",
      "winter        -0.0403      0.092     -0.440      0.660        -0.220     0.139\n",
      "==============================================================================\n",
      "Omnibus:                   396893.923   Durbin-Watson:                   1.849\n",
      "Prob(Omnibus):                  0.000   Jarque-Bera (JB):       7018845259.207\n",
      "Skew:                          23.338   Prob(JB):                         0.00\n",
      "Kurtosis:                    1000.112   Cond. No.                     7.85e+04\n",
      "==============================================================================\n",
      "\n",
      "Warnings:\n",
      "[1] Standard Errors assume that the covariance matrix of the errors is correctly specified.\n",
      "[2] The condition number is large, 7.85e+04. This might indicate that there are\n",
      "strong multicollinearity or other numerical problems.\n"
     ]
    }
   ],
   "source": [
    "Xs= \"temp+vis+north+Distance+precip+snow+BUR+LAX+LGB+MHT+ORH+PVD+SNA+winter\"\n",
    "result = smf.ols(formula =\"WeatherDelay ~\"+Xs, data= df).fit()\n",
    "print (result.summary())"
   ]
  },
  {
   "cell_type": "markdown",
   "metadata": {},
   "source": [
    "### Runway delay"
   ]
  },
  {
   "cell_type": "code",
   "execution_count": 25,
   "metadata": {
    "collapsed": false
   },
   "outputs": [
    {
     "name": "stdout",
     "output_type": "stream",
     "text": [
      "                            OLS Regression Results                            \n",
      "==============================================================================\n",
      "Dep. Variable:               taxitime   R-squared:                       0.085\n",
      "Model:                            OLS   Adj. R-squared:                  0.085\n",
      "Method:                 Least Squares   F-statistic:                     5486.\n",
      "Date:                Fri, 03 Nov 2017   Prob (F-statistic):               0.00\n",
      "Time:                        11:37:29   Log-Likelihood:            -2.8905e+06\n",
      "No. Observations:              825161   AIC:                         5.781e+06\n",
      "Df Residuals:                  825146   BIC:                         5.781e+06\n",
      "Df Model:                          14                                         \n",
      "Covariance Type:            nonrobust                                         \n",
      "==============================================================================\n",
      "                 coef    std err          t      P>|t|      [95.0% Conf. Int.]\n",
      "------------------------------------------------------------------------------\n",
      "Intercept     15.8354      0.113    140.633      0.000        15.615    16.056\n",
      "temp          -0.0062      0.001     -6.958      0.000        -0.008    -0.004\n",
      "vis           -0.2194      0.005    -42.998      0.000        -0.229    -0.209\n",
      "north         -0.8948      0.088    -10.197      0.000        -1.067    -0.723\n",
      "Distance       0.0004   1.16e-05     38.731      0.000         0.000     0.000\n",
      "precip         5.1692      0.771      6.703      0.000         3.658     6.681\n",
      "snow           7.8848      0.093     84.964      0.000         7.703     8.067\n",
      "BUR           -6.3976      0.099    -64.693      0.000        -6.591    -6.204\n",
      "LAX           -0.2684      0.090     -2.984      0.003        -0.445    -0.092\n",
      "LGB           -5.3880      0.105    -51.207      0.000        -5.594    -5.182\n",
      "MHT           -4.5829      0.072    -63.343      0.000        -4.725    -4.441\n",
      "ORH           -5.4192      0.219    -24.770      0.000        -5.848    -4.990\n",
      "PVD           -4.5378      0.055    -82.606      0.000        -4.646    -4.430\n",
      "SNA           -5.0800      0.095    -53.482      0.000        -5.266    -4.894\n",
      "winter         0.2494      0.022     11.244      0.000         0.206     0.293\n",
      "==============================================================================\n",
      "Omnibus:                   467025.328   Durbin-Watson:                   1.130\n",
      "Prob(Omnibus):                  0.000   Jarque-Bera (JB):          7982807.043\n",
      "Skew:                           2.376   Prob(JB):                         0.00\n",
      "Kurtosis:                      17.478   Cond. No.                     1.14e+05\n",
      "==============================================================================\n",
      "\n",
      "Warnings:\n",
      "[1] Standard Errors assume that the covariance matrix of the errors is correctly specified.\n",
      "[2] The condition number is large, 1.14e+05. This might indicate that there are\n",
      "strong multicollinearity or other numerical problems.\n"
     ]
    }
   ],
   "source": [
    "Xs= \"temp+vis+north+Distance+precip+snow+BUR+LAX+LGB+MHT+ORH+PVD+SNA+winter\"\n",
    "result = smf.ols(formula =\"taxitime ~\"+ Xs, data= df).fit()\n",
    "# print(result.params)\n",
    "print (result.summary())"
   ]
  },
  {
   "cell_type": "markdown",
   "metadata": {},
   "source": [
    "### Runway Delay : Taxi in"
   ]
  },
  {
   "cell_type": "code",
   "execution_count": 24,
   "metadata": {
    "collapsed": false
   },
   "outputs": [
    {
     "name": "stdout",
     "output_type": "stream",
     "text": [
      "                            OLS Regression Results                            \n",
      "==============================================================================\n",
      "Dep. Variable:                 TaxiIn   R-squared:                       0.208\n",
      "Model:                            OLS   Adj. R-squared:                  0.208\n",
      "Method:                 Least Squares   F-statistic:                     7715.\n",
      "Date:                Fri, 03 Nov 2017   Prob (F-statistic):               0.00\n",
      "Time:                        11:37:05   Log-Likelihood:            -1.2932e+06\n",
      "No. Observations:              412422   AIC:                         2.586e+06\n",
      "Df Residuals:                  412407   BIC:                         2.587e+06\n",
      "Df Model:                          14                                         \n",
      "Covariance Type:            nonrobust                                         \n",
      "==============================================================================\n",
      "                 coef    std err          t      P>|t|      [95.0% Conf. Int.]\n",
      "------------------------------------------------------------------------------\n",
      "Intercept      7.2571      0.111     65.215      0.000         7.039     7.475\n",
      "temp           0.0057      0.001      6.473      0.000         0.004     0.007\n",
      "vis           -0.0894      0.005    -17.157      0.000        -0.100    -0.079\n",
      "north         -0.6242      0.086     -7.256      0.000        -0.793    -0.456\n",
      "Distance       0.0004   1.13e-05     36.777      0.000         0.000     0.000\n",
      "precip         5.8256      0.762      7.642      0.000         4.331     7.320\n",
      "snow           1.0517      0.091     11.593      0.000         0.874     1.230\n",
      "BUR           -4.1816      0.097    -43.072      0.000        -4.372    -3.991\n",
      "LAX            3.6354      0.088     41.189      0.000         3.462     3.808\n",
      "LGB           -3.3596      0.103    -32.542      0.000        -3.562    -3.157\n",
      "MHT           -2.0489      0.071    -28.909      0.000        -2.188    -1.910\n",
      "ORH           -3.2102      0.214    -14.992      0.000        -3.630    -2.791\n",
      "PVD           -1.8802      0.054    -34.948      0.000        -1.986    -1.775\n",
      "SNA           -2.0899      0.093    -22.408      0.000        -2.273    -1.907\n",
      "winter         0.3837      0.022     17.694      0.000         0.341     0.426\n",
      "==============================================================================\n",
      "Omnibus:                   305940.611   Durbin-Watson:                   1.698\n",
      "Prob(Omnibus):                  0.000   Jarque-Bera (JB):          7622235.629\n",
      "Skew:                           3.352   Prob(JB):                         0.00\n",
      "Kurtosis:                      22.965   Cond. No.                     1.15e+05\n",
      "==============================================================================\n",
      "\n",
      "Warnings:\n",
      "[1] Standard Errors assume that the covariance matrix of the errors is correctly specified.\n",
      "[2] The condition number is large, 1.15e+05. This might indicate that there are\n",
      "strong multicollinearity or other numerical problems.\n"
     ]
    }
   ],
   "source": [
    "Xs= \"temp+vis+north+Distance+precip+snow+BUR+LAX+LGB+MHT+ORH+PVD+SNA+winter\"\n",
    "result = smf.ols(formula =\"TaxiIn ~\" +Xs, data= df_arr).fit()\n",
    "# print(result.params)\n",
    "print (result.summary())"
   ]
  },
  {
   "cell_type": "markdown",
   "metadata": {},
   "source": [
    "### Runway delay : Taxi out"
   ]
  },
  {
   "cell_type": "code",
   "execution_count": 31,
   "metadata": {
    "collapsed": false
   },
   "outputs": [
    {
     "name": "stdout",
     "output_type": "stream",
     "text": [
      "                            OLS Regression Results                            \n",
      "==============================================================================\n",
      "Dep. Variable:                TaxiOut   R-squared:                       0.158\n",
      "Model:                            OLS   Adj. R-squared:                  0.158\n",
      "Method:                 Least Squares   F-statistic:                     5542.\n",
      "Date:                Fri, 03 Nov 2017   Prob (F-statistic):               0.00\n",
      "Time:                        11:42:23   Log-Likelihood:            -1.4277e+06\n",
      "No. Observations:              412739   AIC:                         2.856e+06\n",
      "Df Residuals:                  412724   BIC:                         2.856e+06\n",
      "Df Model:                          14                                         \n",
      "Covariance Type:            nonrobust                                         \n",
      "==============================================================================\n",
      "                 coef    std err          t      P>|t|      [95.0% Conf. Int.]\n",
      "------------------------------------------------------------------------------\n",
      "Intercept     23.1734      0.151    153.188      0.000        22.877    23.470\n",
      "temp          -0.0125      0.001    -10.557      0.000        -0.015    -0.010\n",
      "vis           -0.2537      0.007    -38.128      0.000        -0.267    -0.241\n",
      "north         -1.1887      0.119    -10.015      0.000        -1.421    -0.956\n",
      "Distance       0.0005   1.56e-05     30.690      0.000         0.000     0.001\n",
      "precip         9.0863      1.035      8.778      0.000         7.057    11.115\n",
      "snow          15.8519      0.126    125.795      0.000        15.605    16.099\n",
      "BUR           -8.7350      0.134    -65.396      0.000        -8.997    -8.473\n",
      "LAX           -4.2464      0.122    -34.949      0.000        -4.485    -4.008\n",
      "LGB           -7.5144      0.142    -52.848      0.000        -7.793    -7.236\n",
      "MHT           -7.1099      0.098    -72.609      0.000        -7.302    -6.918\n",
      "ORH           -7.6000      0.296    -25.643      0.000        -8.181    -7.019\n",
      "PVD           -7.1490      0.074    -96.127      0.000        -7.295    -7.003\n",
      "SNA           -8.1923      0.128    -63.869      0.000        -8.444    -7.941\n",
      "winter         0.2216      0.030      7.366      0.000         0.163     0.281\n",
      "==============================================================================\n",
      "Omnibus:                   283041.358   Durbin-Watson:                   1.547\n",
      "Prob(Omnibus):                  0.000   Jarque-Bera (JB):          8697901.945\n",
      "Skew:                           2.896   Prob(JB):                         0.00\n",
      "Kurtosis:                      24.731   Cond. No.                     1.13e+05\n",
      "==============================================================================\n",
      "\n",
      "Warnings:\n",
      "[1] Standard Errors assume that the covariance matrix of the errors is correctly specified.\n",
      "[2] The condition number is large, 1.13e+05. This might indicate that there are\n",
      "strong multicollinearity or other numerical problems.\n"
     ]
    }
   ],
   "source": [
    "Xs= \"temp+vis+north+Distance+precip+snow+BUR+LAX+LGB+MHT+ORH+PVD+SNA+winter\"\n",
    "result = smf.ols(formula =\"TaxiOut ~\" +Xs, data= df_dep).fit()\n",
    "# print(result.params)\n",
    "print (result.summary())"
   ]
  }
 ],
 "metadata": {
  "kernelspec": {
   "display_name": "Python 3",
   "language": "python",
   "name": "python3"
  },
  "language_info": {
   "codemirror_mode": {
    "name": "ipython",
    "version": 3
   },
   "file_extension": ".py",
   "mimetype": "text/x-python",
   "name": "python",
   "nbconvert_exporter": "python",
   "pygments_lexer": "ipython3",
   "version": "3.6.0"
  }
 },
 "nbformat": 4,
 "nbformat_minor": 2
}
