{
 "cells": [
  {
   "cell_type": "code",
   "execution_count": 4,
   "metadata": {
    "collapsed": true
   },
   "outputs": [],
   "source": [
    "# %load 8airport.py"
   ]
  },
  {
   "cell_type": "code",
   "execution_count": null,
   "metadata": {
    "collapsed": false
   },
   "outputs": [],
   "source": []
  },
  {
   "cell_type": "code",
   "execution_count": 5,
   "metadata": {
    "collapsed": true
   },
   "outputs": [],
   "source": [
    "import numpy as np\n",
    "import pandas as pd\n",
    "import datetime as datetime\n",
    "# laod the data"
   ]
  },
  {
   "cell_type": "code",
   "execution_count": 6,
   "metadata": {
    "collapsed": true
   },
   "outputs": [],
   "source": [
    "airports= ['BOS',\n",
    "            'PVD',\n",
    "            'MHT',\n",
    "            'ORH',\n",
    "            'LAX',\n",
    "            'SNA',\n",
    "            'BUR',\n",
    "            'LGB']\n",
    "\n",
    "path =\"F:/Dropbox/Flight/DATA/\""
   ]
  },
  {
   "cell_type": "code",
   "execution_count": 7,
   "metadata": {
    "collapsed": true
   },
   "outputs": [],
   "source": [
    "df = pd.read_excel(path+\"8_airports.xlsx\")\n",
    "df['key']= range(1,(len(df)+1),1)"
   ]
  },
  {
   "cell_type": "code",
   "execution_count": 8,
   "metadata": {
    "collapsed": false
   },
   "outputs": [
    {
     "name": "stdout",
     "output_type": "stream",
     "text": [
      "BOS\n",
      "78445\n",
      "PVD\n",
      "8911\n",
      "MHT\n",
      "6234\n",
      "ORH\n",
      "366\n",
      "LAX\n",
      "143237\n",
      "SNA\n",
      "19851\n",
      "BUR\n",
      "11880\n",
      "LGB\n",
      "5526\n"
     ]
    }
   ],
   "source": [
    "for code in airports:\n",
    "    print(code)\n",
    "    # df1.dtypes\n",
    "    df1=df[df[\"dep_airport_code\"]==code]\n",
    "    \n",
    "    df2 = pd.read_excel(path+\"air_\"+code+\".xlsx\")\n",
    "    # df1=df[df[\"dep_airport_code\"]=='BOS']\n",
    "    # df2 = pd.read_excel(\"F:/Dropbox/Flight/DATA/air_BOS.xlsx\")\n",
    "    print(len(df1))\n",
    "    # df2.dtypes\n",
    "    df2['next_obs']= df2['time'].shift(-1)\n",
    "    df2['next_obs'].head(n=3)\n",
    "    df2['obs1']= pd.to_timedelta(df2['time'])\n",
    "    df2['obs2']= pd.to_timedelta(df2['next_obs'])\n",
    "    df2['mid'] = df2['next_obs']-(df2['obs2']-df2['obs1'])/2\n",
    "    df2['mid'].fillna(method= 'ffill',inplace=True)\n",
    "    df2['next_obs'].fillna(method= 'ffill',inplace=True)\n",
    "    df2['id']= pd.Series(np.arange(len(df2)+1))\n",
    "    del df2['date']\n",
    "    del df2['obs1']\n",
    "    del df2['obs2']\n",
    "    # df2.to_csv('df2.csv')\n",
    "#       df1.index= range(1,len(df1)+1)\n",
    "    df1.date=pd.to_datetime(df1['scheduled_departure_date'])\n",
    "    df1.time=pd.to_datetime(df1['scheduled_departure_time'])\n",
    "\n",
    "    df1.hours= df1.time.dt.hour\n",
    "    df1.min = df1.time.dt.minute\n",
    "    df1.sec = df1.time.dt.second\n",
    "    \n",
    "    # df1['time']=pd.to_datetime(df1.date)+pd.to_timedelta(df1.hours,unit='h')+pd.to_timedelta(df1.min,unit='m')+pd.to_timedelta(df1.min,unit='s')\n",
    "    time = pd.DataFrame({'time': pd.to_datetime(df1.date)+pd.to_timedelta(df1.hours,unit='h')+pd.to_timedelta(df1.min,unit='m')+pd.to_timedelta(df1.sec,unit='s')})\n",
    "\n",
    "    df1= pd.concat([df1,time],axis=1)\n",
    "\n",
    "    # df1.to_csv('df1.csv')\n",
    "#     ##This will work only 1:1 merge\n",
    "#     # df1= df1.set_index(\"time\")\n",
    "#     # print(df1)\n",
    "#     # df2= df2.set_index(\"date\")\n",
    "#     # print(df2)\n",
    "#     # df1.reindex(df2.index, method='nearest')\n",
    "#     # print(df1.head())\n",
    "\n",
    "    d_time= df1[['time','key']]\n",
    "    a_time= df2[['time','id','mid']]\n",
    "    aa= d_time.append(a_time, ignore_index=True)\n",
    "    aa.index= range(1,len(aa)+1)\n",
    "\n",
    "    aa= aa.sort_values('time')\n",
    "    aa['new_id']= aa['id']\n",
    "    aa['mid_id']= aa['id']\n",
    "    aa['mid'].fillna(method= 'ffill', inplace=True)\n",
    "    aa.iat[-1,2] =aa.iat[-1,3] # replace last midtime as real time\n",
    "    aa['mid_id'].fillna(method= 'ffill', inplace = True)\n",
    "    aa['new_id']= np.where((( aa['time'] < aa['mid'] )),aa['mid_id'],aa['mid_id']+1)\n",
    "    aa.to_csv('aa.csv')\n",
    "    ab= aa[aa['id'].isnull()==True]\n",
    "    ab.to_csv('ab.csv')\n",
    "\n",
    "    df3= pd.merge(df1,ab,on='key',indicator=False)\n",
    "    del df3['id']\n",
    "    del df3['mid']\n",
    "    del df3['mid_id']\n",
    "    df3.to_csv('df3.csv')\n",
    "\n",
    "    # print(df3.head())\n",
    "   \n",
    "    result = pd.merge(df3,df2, left_on='new_id', right_on= 'id',indicator=True)\n",
    "\n",
    "    result.to_csv(path+'results_'+code+'_dep.csv')\n",
    "\n",
    "\n",
    "\n",
    "\n",
    "\n",
    "\n"
   ]
  },
  {
   "cell_type": "code",
   "execution_count": null,
   "metadata": {
    "collapsed": true
   },
   "outputs": [],
   "source": []
  }
 ],
 "metadata": {
  "kernelspec": {
   "display_name": "Python 3",
   "language": "python",
   "name": "python3"
  },
  "language_info": {
   "codemirror_mode": {
    "name": "ipython",
    "version": 3
   },
   "file_extension": ".py",
   "mimetype": "text/x-python",
   "name": "python",
   "nbconvert_exporter": "python",
   "pygments_lexer": "ipython3",
   "version": "3.6.0"
  }
 },
 "nbformat": 4,
 "nbformat_minor": 2
}
